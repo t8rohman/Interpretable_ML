{
 "cells": [
  {
   "attachments": {},
   "cell_type": "markdown",
   "metadata": {},
   "source": [
    "# Robust Feature Importance Methodologies\n",
    "\n",
    "Traditional models using white box models have several problems when it comes to feature importance interpretability. For instance, the strong assumption they have, inconsistency, etc. \n",
    "\n",
    "Thus, now, this notebook will show a more reliable approach using these methods below:\n",
    "\n",
    "- Permutation Feature Importance\n",
    "- Partial Dependence Plots (PDPs)\n",
    "- Individual Conditional Expectation (ICE)\n",
    "- An extension of ICE, Centered ICE (cICE)\n",
    "\n",
    "Most of the models and methodologies here will use scikit-learn library."
   ]
  },
  {
   "cell_type": "code",
   "execution_count": 176,
   "metadata": {},
   "outputs": [],
   "source": [
    "import pandas as pd\n",
    "import numpy as np\n",
    "import math\n",
    "from tqdm import tqdm\n",
    "\n",
    "from sklearn.pipeline import make_pipeline\n",
    "from sklearn.preprocessing import StandardScaler\n",
    "from sklearn.model_selection import train_test_split\n",
    "\n",
    "# import every model we will use for this notebook\n",
    "from sklearn import metrics, linear_model, tree, discriminant_analysis, ensemble, neural_network, inspection  # inspection to access pfi method\n",
    "from sklearn.inspection import partial_dependence  # to access the value rather than plotting\n",
    "from sklearn.inspection import PartialDependenceDisplay\n",
    "\n",
    "import matplotlib.pyplot as plt\n",
    "import seaborn as sns"
   ]
  },
  {
   "cell_type": "markdown",
   "metadata": {},
   "source": []
  },
  {
   "attachments": {},
   "cell_type": "markdown",
   "metadata": {},
   "source": [
    "## Description About the Dataset\n",
    "\n",
    "The dataset used for this is <a href='https://www.kaggle.com/datasets/arashnic/ctrtest'>Context Ads Click Dataset</a>, provided by Mobius. In general, this dataset is used to predict the probability of a user clicking an advertisement. The dataset itself contains:\n",
    "\n",
    "- train, containing the data of the advertisement, whether the person sees the ads or not\n",
    "- view_log, containing the activity information of the users on the users website\n",
    "- item_data, containing the information of the products, possible to be merged to users log activity\n",
    "\n",
    "For computational reasons, I am going to be very concise about the dataset to make it **less expensive by doing sampling in the data**. Eventhough the model is not accurate, as the main objective of this notebook is to learn Robust Feature Importance methodologies, we can overlook it at the moment."
   ]
  },
  {
   "cell_type": "code",
   "execution_count": 2,
   "metadata": {},
   "outputs": [],
   "source": [
    "df_main = pd.read_csv('dataset/adcontext_dataset/train_adc/train.csv')\n",
    "df_log = pd.read_csv('dataset/adcontext_dataset/train_adc/view_log.csv')\n",
    "df_item = pd.read_csv('dataset/adcontext_dataset/train_adc/item_data.csv')"
   ]
  },
  {
   "cell_type": "code",
   "execution_count": 3,
   "metadata": {},
   "outputs": [
    {
     "name": "stdout",
     "output_type": "stream",
     "text": [
      "length for main dataframe: 237609\n",
      "length for users log: 3118622\n",
      "length for items description: 132761\n"
     ]
    }
   ],
   "source": [
    "print(f'length for main dataframe: {len(df_main)}')\n",
    "print(f'length for users log: {len(df_log)}')\n",
    "print(f'length for items description: {len(df_item)}')"
   ]
  },
  {
   "cell_type": "code",
   "execution_count": 4,
   "metadata": {},
   "outputs": [
    {
     "data": {
      "text/html": [
       "<div>\n",
       "<style scoped>\n",
       "    .dataframe tbody tr th:only-of-type {\n",
       "        vertical-align: middle;\n",
       "    }\n",
       "\n",
       "    .dataframe tbody tr th {\n",
       "        vertical-align: top;\n",
       "    }\n",
       "\n",
       "    .dataframe thead th {\n",
       "        text-align: right;\n",
       "    }\n",
       "</style>\n",
       "<table border=\"1\" class=\"dataframe\">\n",
       "  <thead>\n",
       "    <tr style=\"text-align: right;\">\n",
       "      <th></th>\n",
       "      <th>impression_id</th>\n",
       "      <th>impression_time</th>\n",
       "      <th>user_id</th>\n",
       "      <th>app_code</th>\n",
       "      <th>os_version</th>\n",
       "      <th>is_4G</th>\n",
       "      <th>is_click</th>\n",
       "    </tr>\n",
       "  </thead>\n",
       "  <tbody>\n",
       "    <tr>\n",
       "      <th>0</th>\n",
       "      <td>c4ca4238a0b923820dcc509a6f75849b</td>\n",
       "      <td>2018-11-15 00:00:00</td>\n",
       "      <td>87862</td>\n",
       "      <td>422</td>\n",
       "      <td>old</td>\n",
       "      <td>0</td>\n",
       "      <td>0</td>\n",
       "    </tr>\n",
       "    <tr>\n",
       "      <th>1</th>\n",
       "      <td>45c48cce2e2d7fbdea1afc51c7c6ad26</td>\n",
       "      <td>2018-11-15 00:01:00</td>\n",
       "      <td>63410</td>\n",
       "      <td>467</td>\n",
       "      <td>latest</td>\n",
       "      <td>1</td>\n",
       "      <td>1</td>\n",
       "    </tr>\n",
       "    <tr>\n",
       "      <th>2</th>\n",
       "      <td>70efdf2ec9b086079795c442636b55fb</td>\n",
       "      <td>2018-11-15 00:02:00</td>\n",
       "      <td>71748</td>\n",
       "      <td>259</td>\n",
       "      <td>intermediate</td>\n",
       "      <td>1</td>\n",
       "      <td>0</td>\n",
       "    </tr>\n",
       "  </tbody>\n",
       "</table>\n",
       "</div>"
      ],
      "text/plain": [
       "                      impression_id      impression_time  user_id  app_code  \\\n",
       "0  c4ca4238a0b923820dcc509a6f75849b  2018-11-15 00:00:00    87862       422   \n",
       "1  45c48cce2e2d7fbdea1afc51c7c6ad26  2018-11-15 00:01:00    63410       467   \n",
       "2  70efdf2ec9b086079795c442636b55fb  2018-11-15 00:02:00    71748       259   \n",
       "\n",
       "     os_version  is_4G  is_click  \n",
       "0           old      0         0  \n",
       "1        latest      1         1  \n",
       "2  intermediate      1         0  "
      ]
     },
     "metadata": {},
     "output_type": "display_data"
    },
    {
     "data": {
      "text/html": [
       "<div>\n",
       "<style scoped>\n",
       "    .dataframe tbody tr th:only-of-type {\n",
       "        vertical-align: middle;\n",
       "    }\n",
       "\n",
       "    .dataframe tbody tr th {\n",
       "        vertical-align: top;\n",
       "    }\n",
       "\n",
       "    .dataframe thead th {\n",
       "        text-align: right;\n",
       "    }\n",
       "</style>\n",
       "<table border=\"1\" class=\"dataframe\">\n",
       "  <thead>\n",
       "    <tr style=\"text-align: right;\">\n",
       "      <th></th>\n",
       "      <th>item_id</th>\n",
       "      <th>item_price</th>\n",
       "      <th>category_1</th>\n",
       "      <th>category_2</th>\n",
       "      <th>category_3</th>\n",
       "      <th>product_type</th>\n",
       "    </tr>\n",
       "  </thead>\n",
       "  <tbody>\n",
       "    <tr>\n",
       "      <th>0</th>\n",
       "      <td>26880</td>\n",
       "      <td>4602</td>\n",
       "      <td>11</td>\n",
       "      <td>35</td>\n",
       "      <td>20</td>\n",
       "      <td>3040</td>\n",
       "    </tr>\n",
       "    <tr>\n",
       "      <th>1</th>\n",
       "      <td>54939</td>\n",
       "      <td>3513</td>\n",
       "      <td>12</td>\n",
       "      <td>57</td>\n",
       "      <td>85</td>\n",
       "      <td>6822</td>\n",
       "    </tr>\n",
       "    <tr>\n",
       "      <th>2</th>\n",
       "      <td>40383</td>\n",
       "      <td>825</td>\n",
       "      <td>17</td>\n",
       "      <td>8</td>\n",
       "      <td>279</td>\n",
       "      <td>1619</td>\n",
       "    </tr>\n",
       "  </tbody>\n",
       "</table>\n",
       "</div>"
      ],
      "text/plain": [
       "   item_id  item_price  category_1  category_2  category_3  product_type\n",
       "0    26880        4602          11          35          20          3040\n",
       "1    54939        3513          12          57          85          6822\n",
       "2    40383         825          17           8         279          1619"
      ]
     },
     "metadata": {},
     "output_type": "display_data"
    },
    {
     "data": {
      "text/html": [
       "<div>\n",
       "<style scoped>\n",
       "    .dataframe tbody tr th:only-of-type {\n",
       "        vertical-align: middle;\n",
       "    }\n",
       "\n",
       "    .dataframe tbody tr th {\n",
       "        vertical-align: top;\n",
       "    }\n",
       "\n",
       "    .dataframe thead th {\n",
       "        text-align: right;\n",
       "    }\n",
       "</style>\n",
       "<table border=\"1\" class=\"dataframe\">\n",
       "  <thead>\n",
       "    <tr style=\"text-align: right;\">\n",
       "      <th></th>\n",
       "      <th>server_time</th>\n",
       "      <th>device_type</th>\n",
       "      <th>session_id</th>\n",
       "      <th>user_id</th>\n",
       "      <th>item_id</th>\n",
       "    </tr>\n",
       "  </thead>\n",
       "  <tbody>\n",
       "    <tr>\n",
       "      <th>0</th>\n",
       "      <td>2018-10-15 08:58:00</td>\n",
       "      <td>android</td>\n",
       "      <td>112333</td>\n",
       "      <td>4557</td>\n",
       "      <td>32970</td>\n",
       "    </tr>\n",
       "    <tr>\n",
       "      <th>1</th>\n",
       "      <td>2018-10-15 08:58:00</td>\n",
       "      <td>android</td>\n",
       "      <td>503590</td>\n",
       "      <td>74788</td>\n",
       "      <td>7640</td>\n",
       "    </tr>\n",
       "    <tr>\n",
       "      <th>2</th>\n",
       "      <td>2018-10-15 08:58:00</td>\n",
       "      <td>android</td>\n",
       "      <td>573960</td>\n",
       "      <td>23628</td>\n",
       "      <td>128855</td>\n",
       "    </tr>\n",
       "  </tbody>\n",
       "</table>\n",
       "</div>"
      ],
      "text/plain": [
       "           server_time device_type  session_id  user_id  item_id\n",
       "0  2018-10-15 08:58:00     android      112333     4557    32970\n",
       "1  2018-10-15 08:58:00     android      503590    74788     7640\n",
       "2  2018-10-15 08:58:00     android      573960    23628   128855"
      ]
     },
     "metadata": {},
     "output_type": "display_data"
    }
   ],
   "source": [
    "for df in [df_main, df_item, df_log]:\n",
    "    display(df.head(3))"
   ]
  },
  {
   "cell_type": "code",
   "execution_count": 5,
   "metadata": {},
   "outputs": [],
   "source": [
    "# converting to datetime index\n",
    "# will be useful for merging the data later\n",
    "\n",
    "df_main['impression_time'] = pd.DatetimeIndex(df_main['impression_time'])\n",
    "df_log['server_time'] = pd.DatetimeIndex(df_log['server_time'])"
   ]
  },
  {
   "cell_type": "code",
   "execution_count": 6,
   "metadata": {},
   "outputs": [
    {
     "name": "stdout",
     "output_type": "stream",
     "text": [
      "after merging log and impression: 3118622\n",
      "after merging log and impression, to the main dataframe: 3686147\n"
     ]
    }
   ],
   "source": [
    "# merging all the data first into one\n",
    "\n",
    "df = pd.merge(df_log, df_item, on='item_id', how='left')\n",
    "print('after merging log and impression:', len(df))\n",
    "\n",
    "# sampling the main df first\n",
    "# as we're going with an expensive computational model\n",
    "\n",
    "sample2_size = 1/3\n",
    "sample2_idx = np.random.choice(df_main.shape[0],\n",
    "                               math.ceil(df_main.shape[0] * sample2_size),\n",
    "                               replace=False)\n",
    "\n",
    "df_main = df_main.iloc[sample2_idx, :].reset_index()\n",
    "\n",
    "# last merging, merge all dataframe into one\n",
    "\n",
    "df = pd.merge(df_main, df, on='user_id', how='left')\n",
    "print('after merging log and impression, to the main dataframe:', len(df))"
   ]
  },
  {
   "cell_type": "code",
   "execution_count": 7,
   "metadata": {},
   "outputs": [
    {
     "data": {
      "text/html": [
       "<div>\n",
       "<style scoped>\n",
       "    .dataframe tbody tr th:only-of-type {\n",
       "        vertical-align: middle;\n",
       "    }\n",
       "\n",
       "    .dataframe tbody tr th {\n",
       "        vertical-align: top;\n",
       "    }\n",
       "\n",
       "    .dataframe thead th {\n",
       "        text-align: right;\n",
       "    }\n",
       "</style>\n",
       "<table border=\"1\" class=\"dataframe\">\n",
       "  <thead>\n",
       "    <tr style=\"text-align: right;\">\n",
       "      <th></th>\n",
       "      <th>index</th>\n",
       "      <th>impression_id</th>\n",
       "      <th>impression_time</th>\n",
       "      <th>user_id</th>\n",
       "      <th>app_code</th>\n",
       "      <th>os_version</th>\n",
       "      <th>is_4G</th>\n",
       "      <th>is_click</th>\n",
       "      <th>server_time</th>\n",
       "      <th>device_type</th>\n",
       "      <th>session_id</th>\n",
       "      <th>item_id</th>\n",
       "      <th>item_price</th>\n",
       "      <th>category_1</th>\n",
       "      <th>category_2</th>\n",
       "      <th>category_3</th>\n",
       "      <th>product_type</th>\n",
       "      <th>exp</th>\n",
       "    </tr>\n",
       "  </thead>\n",
       "  <tbody>\n",
       "    <tr>\n",
       "      <th>0</th>\n",
       "      <td>185384</td>\n",
       "      <td>76a7751f590f33fe5ab55151821da80f</td>\n",
       "      <td>2018-12-04 12:45:00</td>\n",
       "      <td>36049</td>\n",
       "      <td>495</td>\n",
       "      <td>intermediate</td>\n",
       "      <td>1</td>\n",
       "      <td>0</td>\n",
       "      <td>2018-10-17 11:11:00</td>\n",
       "      <td>android</td>\n",
       "      <td>586443</td>\n",
       "      <td>76404</td>\n",
       "      <td>6841.0</td>\n",
       "      <td>10.0</td>\n",
       "      <td>43.0</td>\n",
       "      <td>223.0</td>\n",
       "      <td>2874.0</td>\n",
       "      <td>48</td>\n",
       "    </tr>\n",
       "    <tr>\n",
       "      <th>1</th>\n",
       "      <td>185384</td>\n",
       "      <td>76a7751f590f33fe5ab55151821da80f</td>\n",
       "      <td>2018-12-04 12:45:00</td>\n",
       "      <td>36049</td>\n",
       "      <td>495</td>\n",
       "      <td>intermediate</td>\n",
       "      <td>1</td>\n",
       "      <td>0</td>\n",
       "      <td>2018-10-17 11:13:00</td>\n",
       "      <td>android</td>\n",
       "      <td>586443</td>\n",
       "      <td>33633</td>\n",
       "      <td>2092.0</td>\n",
       "      <td>13.0</td>\n",
       "      <td>58.0</td>\n",
       "      <td>102.0</td>\n",
       "      <td>1344.0</td>\n",
       "      <td>48</td>\n",
       "    </tr>\n",
       "    <tr>\n",
       "      <th>2</th>\n",
       "      <td>185384</td>\n",
       "      <td>76a7751f590f33fe5ab55151821da80f</td>\n",
       "      <td>2018-12-04 12:45:00</td>\n",
       "      <td>36049</td>\n",
       "      <td>495</td>\n",
       "      <td>intermediate</td>\n",
       "      <td>1</td>\n",
       "      <td>0</td>\n",
       "      <td>2018-10-17 11:16:00</td>\n",
       "      <td>android</td>\n",
       "      <td>586443</td>\n",
       "      <td>15300</td>\n",
       "      <td>1792.0</td>\n",
       "      <td>7.0</td>\n",
       "      <td>71.0</td>\n",
       "      <td>228.0</td>\n",
       "      <td>2912.0</td>\n",
       "      <td>48</td>\n",
       "    </tr>\n",
       "    <tr>\n",
       "      <th>3</th>\n",
       "      <td>185384</td>\n",
       "      <td>76a7751f590f33fe5ab55151821da80f</td>\n",
       "      <td>2018-12-04 12:45:00</td>\n",
       "      <td>36049</td>\n",
       "      <td>495</td>\n",
       "      <td>intermediate</td>\n",
       "      <td>1</td>\n",
       "      <td>0</td>\n",
       "      <td>2018-10-18 13:47:00</td>\n",
       "      <td>android</td>\n",
       "      <td>721757</td>\n",
       "      <td>33633</td>\n",
       "      <td>2092.0</td>\n",
       "      <td>13.0</td>\n",
       "      <td>58.0</td>\n",
       "      <td>102.0</td>\n",
       "      <td>1344.0</td>\n",
       "      <td>46</td>\n",
       "    </tr>\n",
       "    <tr>\n",
       "      <th>4</th>\n",
       "      <td>185384</td>\n",
       "      <td>76a7751f590f33fe5ab55151821da80f</td>\n",
       "      <td>2018-12-04 12:45:00</td>\n",
       "      <td>36049</td>\n",
       "      <td>495</td>\n",
       "      <td>intermediate</td>\n",
       "      <td>1</td>\n",
       "      <td>0</td>\n",
       "      <td>2018-10-18 13:55:00</td>\n",
       "      <td>android</td>\n",
       "      <td>721757</td>\n",
       "      <td>76404</td>\n",
       "      <td>6841.0</td>\n",
       "      <td>10.0</td>\n",
       "      <td>43.0</td>\n",
       "      <td>223.0</td>\n",
       "      <td>2874.0</td>\n",
       "      <td>46</td>\n",
       "    </tr>\n",
       "  </tbody>\n",
       "</table>\n",
       "</div>"
      ],
      "text/plain": [
       "    index                     impression_id     impression_time  user_id  \\\n",
       "0  185384  76a7751f590f33fe5ab55151821da80f 2018-12-04 12:45:00    36049   \n",
       "1  185384  76a7751f590f33fe5ab55151821da80f 2018-12-04 12:45:00    36049   \n",
       "2  185384  76a7751f590f33fe5ab55151821da80f 2018-12-04 12:45:00    36049   \n",
       "3  185384  76a7751f590f33fe5ab55151821da80f 2018-12-04 12:45:00    36049   \n",
       "4  185384  76a7751f590f33fe5ab55151821da80f 2018-12-04 12:45:00    36049   \n",
       "\n",
       "   app_code    os_version  is_4G  is_click         server_time device_type  \\\n",
       "0       495  intermediate      1         0 2018-10-17 11:11:00     android   \n",
       "1       495  intermediate      1         0 2018-10-17 11:13:00     android   \n",
       "2       495  intermediate      1         0 2018-10-17 11:16:00     android   \n",
       "3       495  intermediate      1         0 2018-10-18 13:47:00     android   \n",
       "4       495  intermediate      1         0 2018-10-18 13:55:00     android   \n",
       "\n",
       "   session_id  item_id  item_price  category_1  category_2  category_3  \\\n",
       "0      586443    76404      6841.0        10.0        43.0       223.0   \n",
       "1      586443    33633      2092.0        13.0        58.0       102.0   \n",
       "2      586443    15300      1792.0         7.0        71.0       228.0   \n",
       "3      721757    33633      2092.0        13.0        58.0       102.0   \n",
       "4      721757    76404      6841.0        10.0        43.0       223.0   \n",
       "\n",
       "   product_type  exp  \n",
       "0        2874.0   48  \n",
       "1        1344.0   48  \n",
       "2        2912.0   48  \n",
       "3        1344.0   46  \n",
       "4        2874.0   46  "
      ]
     },
     "execution_count": 7,
     "metadata": {},
     "output_type": "execute_result"
    }
   ],
   "source": [
    "# calculation expiration days\n",
    "# showing the days have been passed from the time a person opened the website to the moment they were shown by the ads\n",
    "\n",
    "df['exp'] = df['impression_time'] - df['server_time']\n",
    "df['exp'] = df['exp'].apply(lambda x: x.days)\n",
    "\n",
    "df.head(5)"
   ]
  },
  {
   "cell_type": "markdown",
   "metadata": {},
   "source": []
  },
  {
   "cell_type": "code",
   "execution_count": 8,
   "metadata": {},
   "outputs": [
    {
     "data": {
      "text/html": [
       "<div>\n",
       "<style scoped>\n",
       "    .dataframe tbody tr th:only-of-type {\n",
       "        vertical-align: middle;\n",
       "    }\n",
       "\n",
       "    .dataframe tbody tr th {\n",
       "        vertical-align: top;\n",
       "    }\n",
       "\n",
       "    .dataframe thead th {\n",
       "        text-align: right;\n",
       "    }\n",
       "</style>\n",
       "<table border=\"1\" class=\"dataframe\">\n",
       "  <thead>\n",
       "    <tr style=\"text-align: right;\">\n",
       "      <th></th>\n",
       "      <th>index</th>\n",
       "      <th>impression_id</th>\n",
       "      <th>impression_time</th>\n",
       "      <th>user_id</th>\n",
       "      <th>app_code</th>\n",
       "      <th>os_version</th>\n",
       "      <th>is_4G</th>\n",
       "      <th>is_click</th>\n",
       "      <th>server_time</th>\n",
       "      <th>device_type</th>\n",
       "      <th>session_id</th>\n",
       "      <th>item_id</th>\n",
       "      <th>item_price</th>\n",
       "      <th>category_1</th>\n",
       "      <th>category_2</th>\n",
       "      <th>category_3</th>\n",
       "      <th>product_type</th>\n",
       "      <th>exp</th>\n",
       "    </tr>\n",
       "  </thead>\n",
       "  <tbody>\n",
       "    <tr>\n",
       "      <th>571</th>\n",
       "      <td>210317</td>\n",
       "      <td>c8bebdbb3817eaeaf25e33b23087a3d0</td>\n",
       "      <td>2018-12-06 17:04:00</td>\n",
       "      <td>74440</td>\n",
       "      <td>98</td>\n",
       "      <td>latest</td>\n",
       "      <td>1</td>\n",
       "      <td>1</td>\n",
       "      <td>2018-12-04 11:17:00</td>\n",
       "      <td>android</td>\n",
       "      <td>833235</td>\n",
       "      <td>17814</td>\n",
       "      <td>505.0</td>\n",
       "      <td>12.0</td>\n",
       "      <td>57.0</td>\n",
       "      <td>171.0</td>\n",
       "      <td>3483.0</td>\n",
       "      <td>2</td>\n",
       "    </tr>\n",
       "    <tr>\n",
       "      <th>91553</th>\n",
       "      <td>186125</td>\n",
       "      <td>28dc7cc1a8caad07671b5e38ced8a7d5</td>\n",
       "      <td>2018-12-04 10:16:00</td>\n",
       "      <td>17845</td>\n",
       "      <td>207</td>\n",
       "      <td>latest</td>\n",
       "      <td>0</td>\n",
       "      <td>0</td>\n",
       "      <td>2018-11-30 10:27:00</td>\n",
       "      <td>android</td>\n",
       "      <td>880529</td>\n",
       "      <td>36500</td>\n",
       "      <td>1024.0</td>\n",
       "      <td>11.0</td>\n",
       "      <td>35.0</td>\n",
       "      <td>148.0</td>\n",
       "      <td>662.0</td>\n",
       "      <td>3</td>\n",
       "    </tr>\n",
       "    <tr>\n",
       "      <th>174229</th>\n",
       "      <td>179425</td>\n",
       "      <td>03d327fc4026f385185cc0aaf5497b8b</td>\n",
       "      <td>2018-12-03 13:30:00</td>\n",
       "      <td>82738</td>\n",
       "      <td>385</td>\n",
       "      <td>latest</td>\n",
       "      <td>1</td>\n",
       "      <td>0</td>\n",
       "      <td>2018-11-30 14:47:00</td>\n",
       "      <td>android</td>\n",
       "      <td>853867</td>\n",
       "      <td>66430</td>\n",
       "      <td>61190.0</td>\n",
       "      <td>1.0</td>\n",
       "      <td>42.0</td>\n",
       "      <td>157.0</td>\n",
       "      <td>5208.0</td>\n",
       "      <td>2</td>\n",
       "    </tr>\n",
       "    <tr>\n",
       "      <th>68022</th>\n",
       "      <td>103014</td>\n",
       "      <td>6dcfbc1147b2e6c534ca8157680c21a1</td>\n",
       "      <td>2018-11-26 16:06:00</td>\n",
       "      <td>69350</td>\n",
       "      <td>244</td>\n",
       "      <td>latest</td>\n",
       "      <td>0</td>\n",
       "      <td>0</td>\n",
       "      <td>2018-11-23 21:48:00</td>\n",
       "      <td>android</td>\n",
       "      <td>563884</td>\n",
       "      <td>132568</td>\n",
       "      <td>1811.0</td>\n",
       "      <td>17.0</td>\n",
       "      <td>8.0</td>\n",
       "      <td>113.0</td>\n",
       "      <td>2874.0</td>\n",
       "      <td>2</td>\n",
       "    </tr>\n",
       "    <tr>\n",
       "      <th>65051</th>\n",
       "      <td>121131</td>\n",
       "      <td>38c43cbd1a5464662944654791d66286</td>\n",
       "      <td>2018-11-28 23:21:00</td>\n",
       "      <td>65110</td>\n",
       "      <td>463</td>\n",
       "      <td>latest</td>\n",
       "      <td>0</td>\n",
       "      <td>0</td>\n",
       "      <td>2018-11-25 22:51:00</td>\n",
       "      <td>android</td>\n",
       "      <td>402571</td>\n",
       "      <td>76388</td>\n",
       "      <td>3584.0</td>\n",
       "      <td>11.0</td>\n",
       "      <td>51.0</td>\n",
       "      <td>242.0</td>\n",
       "      <td>10414.0</td>\n",
       "      <td>3</td>\n",
       "    </tr>\n",
       "  </tbody>\n",
       "</table>\n",
       "</div>"
      ],
      "text/plain": [
       "         index                     impression_id     impression_time  user_id  \\\n",
       "571     210317  c8bebdbb3817eaeaf25e33b23087a3d0 2018-12-06 17:04:00    74440   \n",
       "91553   186125  28dc7cc1a8caad07671b5e38ced8a7d5 2018-12-04 10:16:00    17845   \n",
       "174229  179425  03d327fc4026f385185cc0aaf5497b8b 2018-12-03 13:30:00    82738   \n",
       "68022   103014  6dcfbc1147b2e6c534ca8157680c21a1 2018-11-26 16:06:00    69350   \n",
       "65051   121131  38c43cbd1a5464662944654791d66286 2018-11-28 23:21:00    65110   \n",
       "\n",
       "        app_code os_version  is_4G  is_click         server_time device_type  \\\n",
       "571           98     latest      1         1 2018-12-04 11:17:00     android   \n",
       "91553        207     latest      0         0 2018-11-30 10:27:00     android   \n",
       "174229       385     latest      1         0 2018-11-30 14:47:00     android   \n",
       "68022        244     latest      0         0 2018-11-23 21:48:00     android   \n",
       "65051        463     latest      0         0 2018-11-25 22:51:00     android   \n",
       "\n",
       "        session_id  item_id  item_price  category_1  category_2  category_3  \\\n",
       "571         833235    17814       505.0        12.0        57.0       171.0   \n",
       "91553       880529    36500      1024.0        11.0        35.0       148.0   \n",
       "174229      853867    66430     61190.0         1.0        42.0       157.0   \n",
       "68022       563884   132568      1811.0        17.0         8.0       113.0   \n",
       "65051       402571    76388      3584.0        11.0        51.0       242.0   \n",
       "\n",
       "        product_type  exp  \n",
       "571           3483.0    2  \n",
       "91553          662.0    3  \n",
       "174229        5208.0    2  \n",
       "68022         2874.0    2  \n",
       "65051        10414.0    3  "
      ]
     },
     "metadata": {},
     "output_type": "display_data"
    },
    {
     "name": "stdout",
     "output_type": "stream",
     "text": [
      "236112\n"
     ]
    }
   ],
   "source": [
    "# filtering by the exp days\n",
    "# only showing the expiration with <= 3 days\n",
    "# as it shows the relevancy of the products being visitied to the ads that were shown to them\n",
    "# assuming that the ads company showing the similar products that were visited from a week ago\n",
    "\n",
    "df = df[(df['exp'] <= 3) & (df['exp'] > 0)]\n",
    "df = df.reset_index(drop=True)\n",
    "\n",
    "display(df.sample(5))\n",
    "print(len(df))"
   ]
  },
  {
   "attachments": {},
   "cell_type": "markdown",
   "metadata": {},
   "source": [
    "    Caution!\n",
    "    \n",
    "**There might be a problem due to the duplicating the record of the data.** This might be solved if the data provides us more data including:\n",
    "\n",
    "- What are the products they're showing in the ads\n",
    "- That's why there's not a lot of people doing analysis in this data\n",
    "\n",
    "But, since the objective here is trying to understand the Explainable Method of ML, then we can for now ignore this one"
   ]
  },
  {
   "cell_type": "markdown",
   "metadata": {},
   "source": []
  },
  {
   "cell_type": "markdown",
   "metadata": {},
   "source": [
    "## Data Cleaning and Preprocessing"
   ]
  },
  {
   "cell_type": "code",
   "execution_count": 9,
   "metadata": {},
   "outputs": [
    {
     "data": {
      "text/plain": [
       "0         15:00 - 16:00\n",
       "1         15:00 - 16:00\n",
       "2         15:00 - 16:00\n",
       "3           1:00 - 2:00\n",
       "4           1:00 - 2:00\n",
       "              ...      \n",
       "236107    10:00 - 11:00\n",
       "236108    10:00 - 11:00\n",
       "236109    10:00 - 11:00\n",
       "236110    10:00 - 11:00\n",
       "236111      1:00 - 2:00\n",
       "Name: time_interval, Length: 236112, dtype: object"
      ]
     },
     "execution_count": 9,
     "metadata": {},
     "output_type": "execute_result"
    }
   ],
   "source": [
    "# creating time interval column\n",
    "# becoming a categorical variable\n",
    "\n",
    "df['time_interval'] = df['impression_time'].dt.hour\n",
    "df['time_interval'] = df['time_interval'].apply(lambda x: f'{x}:00 - {x+1}:00')\n",
    "df['time_interval'] "
   ]
  },
  {
   "cell_type": "code",
   "execution_count": 10,
   "metadata": {},
   "outputs": [
    {
     "data": {
      "text/plain": [
       "0           Tuesday\n",
       "1           Tuesday\n",
       "2           Tuesday\n",
       "3            Monday\n",
       "4            Monday\n",
       "            ...    \n",
       "236107     Thursday\n",
       "236108     Thursday\n",
       "236109     Thursday\n",
       "236110     Thursday\n",
       "236111    Wednesday\n",
       "Name: day_of_week, Length: 236112, dtype: object"
      ]
     },
     "execution_count": 10,
     "metadata": {},
     "output_type": "execute_result"
    }
   ],
   "source": [
    "# generating day of week\n",
    "# from the timestamp of impression_time\n",
    "\n",
    "df['day_of_week'] = df['impression_time'].dt.day_name()\n",
    "df['day_of_week']"
   ]
  },
  {
   "cell_type": "code",
   "execution_count": 11,
   "metadata": {},
   "outputs": [
    {
     "name": "stdout",
     "output_type": "stream",
     "text": [
      "before dropping: 236112\n",
      "after dropping: 235940\n"
     ]
    }
   ],
   "source": [
    "# delete record with nan values\n",
    "\n",
    "print('before dropping:', len(df))\n",
    "\n",
    "df = df[~df.isna().any(axis=1)]\n",
    "print('after dropping:', len(df))"
   ]
  },
  {
   "cell_type": "code",
   "execution_count": 12,
   "metadata": {},
   "outputs": [
    {
     "name": "stdout",
     "output_type": "stream",
     "text": [
      "total unique values of app_code: 328\n",
      "total unique values of item_id: 24788\n",
      "total unique values of category_1: 15\n",
      "total unique values of category_2: 74\n",
      "total unique values of category_3: 314\n",
      "total unique values of product_type: 4405\n"
     ]
    }
   ],
   "source": [
    "# printing number of unique values\n",
    "# to decide which one to drop\n",
    "\n",
    "cat_cols = ['app_code', 'item_id', 'category_1', 'category_2', 'category_3', 'product_type']\n",
    "\n",
    "for cat in cat_cols:\n",
    "    print(f'total unique values of {cat}:', len(df[cat].unique())) "
   ]
  },
  {
   "cell_type": "code",
   "execution_count": 13,
   "metadata": {},
   "outputs": [
    {
     "name": "stderr",
     "output_type": "stream",
     "text": [
      "/var/folders/3z/jblqnqjn04ldn_gk07kslfp00000gn/T/ipykernel_844/2369850213.py:13: SettingWithCopyWarning: \n",
      "A value is trying to be set on a copy of a slice from a DataFrame.\n",
      "Try using .loc[row_indexer,col_indexer] = value instead\n",
      "\n",
      "See the caveats in the documentation: https://pandas.pydata.org/pandas-docs/stable/user_guide/indexing.html#returning-a-view-versus-a-copy\n",
      "  x[col] = x[col].astype(int).astype(str)\n"
     ]
    },
    {
     "name": "stdout",
     "output_type": "stream",
     "text": [
      "<class 'pandas.core.frame.DataFrame'>\n",
      "Int64Index: 235940 entries, 0 to 236111\n",
      "Data columns (total 8 columns):\n",
      " #   Column         Non-Null Count   Dtype  \n",
      "---  ------         --------------   -----  \n",
      " 0   os_version     235940 non-null  object \n",
      " 1   is_4G          235940 non-null  int64  \n",
      " 2   device_type    235940 non-null  object \n",
      " 3   item_price     235940 non-null  float64\n",
      " 4   category_1     235940 non-null  object \n",
      " 5   product_type   235940 non-null  float64\n",
      " 6   time_interval  235940 non-null  object \n",
      " 7   day_of_week    235940 non-null  object \n",
      "dtypes: float64(2), int64(1), object(5)\n",
      "memory usage: 16.2+ MB\n"
     ]
    }
   ],
   "source": [
    "# assigning variables to its respective x and y column\n",
    "# we will eliminate app code, item_id, category_2, and category_3 to make the dataframe more concise\n",
    "\n",
    "y = df['is_click']\n",
    "x = df[['os_version', 'is_4G', 'device_type', \n",
    "        'item_price', 'category_1', 'product_type', \n",
    "        'time_interval', 'day_of_week']]\n",
    "\n",
    "# then converting every variable to object, as some of categories are in number \n",
    "# but they're actually categorical variables\n",
    "\n",
    "for col in ['category_1']:  # add other columns if we have a stronger computation\n",
    "        x[col] = x[col].astype(int).astype(str)\n",
    "        \n",
    "x.info()"
   ]
  },
  {
   "cell_type": "code",
   "execution_count": 14,
   "metadata": {},
   "outputs": [],
   "source": [
    "# train and test split\n",
    "\n",
    "from sklearn.model_selection import train_test_split\n",
    "\n",
    "rand = 42  # define the random state\n",
    "\n",
    "x_train, x_test, y_train, y_test = train_test_split(x, y,\n",
    "                                                    test_size=0.33,\n",
    "                                                    random_state=rand)"
   ]
  },
  {
   "cell_type": "code",
   "execution_count": 15,
   "metadata": {},
   "outputs": [],
   "source": [
    "# preprocessing the dataframe\n",
    "# to make it calculate-able into sklearn models\n",
    "\n",
    "from sklearn.compose import make_column_transformer\n",
    "from sklearn.preprocessing import OneHotEncoder\n",
    "\n",
    "to_transform = [a for a in x.columns if x[a].dtype == 'object']\n",
    "\n",
    "transformer = make_column_transformer(\n",
    "    (OneHotEncoder(handle_unknown='ignore'), to_transform),\n",
    "    remainder='passthrough')\n",
    "\n",
    "x_train_trf = transformer.fit_transform(x_train)\n",
    "x_test_trf = transformer.transform(x_test)\n",
    "\n",
    "x_cols = transformer.get_feature_names_out()"
   ]
  },
  {
   "cell_type": "code",
   "execution_count": 16,
   "metadata": {},
   "outputs": [
    {
     "name": "stdout",
     "output_type": "stream",
     "text": [
      "train dataset: (158079, 55)\n",
      "test dataset: (77861, 55)\n",
      "y train dataset: (158079,)\n",
      "y test dataset: (77861,)\n"
     ]
    }
   ],
   "source": [
    "print('train dataset:', x_train_trf.shape)\n",
    "print('test dataset:', x_test_trf.shape)\n",
    "\n",
    "print('y train dataset:', y_train.shape)\n",
    "print('y test dataset:', y_test.shape)"
   ]
  },
  {
   "cell_type": "code",
   "execution_count": 17,
   "metadata": {},
   "outputs": [
    {
     "data": {
      "text/plain": [
       "0    148310\n",
       "1      9769\n",
       "Name: is_click, dtype: int64"
      ]
     },
     "execution_count": 17,
     "metadata": {},
     "output_type": "execute_result"
    }
   ],
   "source": [
    "# calculating whether the class is balanced or not\n",
    "# seems that the class is not balanced between people who click the ads and not\n",
    "\n",
    "y_train.value_counts()"
   ]
  },
  {
   "cell_type": "markdown",
   "metadata": {},
   "source": []
  },
  {
   "attachments": {},
   "cell_type": "markdown",
   "metadata": {},
   "source": [
    "## Model Building and Training\n",
    "\n",
    "This task is a classifier task. Thus, we're going to use classifier algorithms including:\n",
    "- **Decision Tree**\n",
    "- **Gradient Boosting**\n",
    "- **Random Forest**\n",
    "- **Logistic Regression**\n",
    "- **MLP**\n",
    "- **Linear Discriminant Analysis (LDA):** Method works by reducing the dimensionality, similar to the PCA unsupervised method.\n",
    "\n",
    "Little notes about LDA:\n",
    "\n",
    "Unlike PCA, LDA is limited to a dimension of size C - 1, meaning that you can only project to a dimensional space lower than the number of classes in your dataset."
   ]
  },
  {
   "cell_type": "code",
   "execution_count": 18,
   "metadata": {},
   "outputs": [],
   "source": [
    "from sklearn import linear_model, tree, discriminant_analysis, ensemble, neural_network\n",
    "\n",
    "# again, all models are based on scikit-learn library\n",
    "# using the syntax of model().fit()\n",
    "\n",
    "class_models = {\n",
    "    'decision_tree': {'model': tree.DecisionTreeClassifier(max_depth=7,\n",
    "                                                           random_state=rand,\n",
    "                                                           class_weight='balanced')  # set to balanced as our class is not balanced properly\n",
    "                      },\n",
    "    'gradient_boosting': {'model': ensemble.GradientBoostingClassifier(n_estimators=200,\n",
    "                                                                       max_depth=4,\n",
    "                                                                       subsample=0.5,\n",
    "                                                                       learning_rate=0.05)\n",
    "                          },\n",
    "    'random_forest': {'model': ensemble.RandomForestClassifier(max_depth=11,\n",
    "                                                               n_estimators=300,\n",
    "                                                               max_features='sqrt',\n",
    "                                                               random_state=rand)\n",
    "                      },\n",
    "    'logistic': {'model': linear_model.LogisticRegression(solver='lbfgs',  # there are 5 different solvers, check in the documentation\n",
    "                                                          class_weight='balanced',  # set to balanced as our class is not balanced properly\n",
    "                                                          max_iter=500)\n",
    "                 },\n",
    "    'lda': {'model': discriminant_analysis.LinearDiscriminantAnalysis(n_components=1)  # n_components should be C - 1, meaning it should be lower than the number of the classes\n",
    "            },\n",
    "    \n",
    "    # for mlp, we have to standardize every variable first, thus we use make_pipeline()\n",
    "    # Standard scaler first, then training the data\n",
    "    'mlp': {'model': make_pipeline(StandardScaler(), \n",
    "                                   neural_network.MLPClassifier(hidden_layer_sizes=(11,),\n",
    "                                                                early_stopping=True,\n",
    "                                                                random_state=rand,\n",
    "                                                                validation_fraction=0.25,\n",
    "                                                                max_iter=500)\n",
    "                                   )\n",
    "            }\n",
    "}"
   ]
  },
  {
   "attachments": {},
   "cell_type": "markdown",
   "metadata": {},
   "source": [
    "    Fitting the Model and Evaluating the Model\n",
    "    \n",
    "Here are some notes that you can take a look as a note when talking about these metrics:\n",
    "    \n",
    "- **Accuracty** measures the number of correct predictions made by a model in relation to the total number of predictions made.\n",
    "- **Recall** relates to your ability to detect the positive cases. \n",
    "- **Precision** relates to the credibility of a claim that a case is positive.\n",
    "\n",
    "All of these metrics should be taken as a consideration based on the context and their own case."
   ]
  },
  {
   "cell_type": "code",
   "execution_count": 19,
   "metadata": {},
   "outputs": [
    {
     "name": "stderr",
     "output_type": "stream",
     "text": [
      " 17%|█▋        | 1/6 [00:01<00:07,  1.55s/it]"
     ]
    },
    {
     "name": "stdout",
     "output_type": "stream",
     "text": [
      "done processing for: decision_tree\n"
     ]
    },
    {
     "name": "stderr",
     "output_type": "stream",
     "text": [
      " 33%|███▎      | 2/6 [01:09<02:41, 40.38s/it]"
     ]
    },
    {
     "name": "stdout",
     "output_type": "stream",
     "text": [
      "done processing for: gradient_boosting\n"
     ]
    },
    {
     "name": "stderr",
     "output_type": "stream",
     "text": [
      "/Users/taufiqurrohman/opt/anaconda3/lib/python3.9/site-packages/sklearn/metrics/_classification.py:1344: UndefinedMetricWarning: Precision is ill-defined and being set to 0.0 due to no predicted samples. Use `zero_division` parameter to control this behavior.\n",
      "  _warn_prf(average, modifier, msg_start, len(result))\n",
      " 50%|█████     | 3/6 [02:03<02:20, 46.75s/it]"
     ]
    },
    {
     "name": "stdout",
     "output_type": "stream",
     "text": [
      "done processing for: random_forest\n"
     ]
    },
    {
     "name": "stderr",
     "output_type": "stream",
     "text": [
      " 67%|██████▋   | 4/6 [02:07<01:00, 30.04s/it]"
     ]
    },
    {
     "name": "stdout",
     "output_type": "stream",
     "text": [
      "done processing for: logistic\n"
     ]
    },
    {
     "name": "stderr",
     "output_type": "stream",
     "text": [
      "/Users/taufiqurrohman/opt/anaconda3/lib/python3.9/site-packages/sklearn/metrics/_classification.py:1344: UndefinedMetricWarning: Precision is ill-defined and being set to 0.0 due to no predicted samples. Use `zero_division` parameter to control this behavior.\n",
      "  _warn_prf(average, modifier, msg_start, len(result))\n",
      "/Users/taufiqurrohman/opt/anaconda3/lib/python3.9/site-packages/sklearn/metrics/_classification.py:1344: UndefinedMetricWarning: Precision is ill-defined and being set to 0.0 due to no predicted samples. Use `zero_division` parameter to control this behavior.\n",
      "  _warn_prf(average, modifier, msg_start, len(result))\n",
      " 83%|████████▎ | 5/6 [02:09<00:19, 19.84s/it]"
     ]
    },
    {
     "name": "stdout",
     "output_type": "stream",
     "text": [
      "done processing for: lda\n"
     ]
    },
    {
     "name": "stderr",
     "output_type": "stream",
     "text": [
      "/Users/taufiqurrohman/opt/anaconda3/lib/python3.9/site-packages/sklearn/metrics/_classification.py:1344: UndefinedMetricWarning: Precision is ill-defined and being set to 0.0 due to no predicted samples. Use `zero_division` parameter to control this behavior.\n",
      "  _warn_prf(average, modifier, msg_start, len(result))\n",
      "100%|██████████| 6/6 [02:13<00:00, 22.33s/it]"
     ]
    },
    {
     "name": "stdout",
     "output_type": "stream",
     "text": [
      "done processing for: mlp\n"
     ]
    },
    {
     "name": "stderr",
     "output_type": "stream",
     "text": [
      "\n"
     ]
    }
   ],
   "source": [
    "from sklearn import metrics\n",
    "from tqdm import tqdm\n",
    "\n",
    "for model_name in tqdm(class_models.keys()):\n",
    "    fitted_model = class_models[model_name]['model'].fit(x_train_trf.toarray(), y_train)\n",
    "    \n",
    "    y_train_pred = fitted_model.predict(x_train_trf.toarray())\n",
    "    y_test_pred = fitted_model.predict(x_test_trf.toarray())\n",
    "        \n",
    "    class_models[model_name]['fitted'] = fitted_model\n",
    "    class_models[model_name]['preds'] = y_test_pred\n",
    "    \n",
    "    class_models[model_name]['acc_train'] = metrics.accuracy_score(y_train, y_train_pred)\n",
    "    class_models[model_name]['acc_test'] = metrics.accuracy_score(y_test, y_test_pred)\n",
    "    \n",
    "    class_models[model_name]['recall_train'] = metrics.recall_score(y_train, y_train_pred, average='binary')  # set average to other than binary if it's multiclass models (default would be binary)\n",
    "    class_models[model_name]['recall_test'] = metrics.recall_score(y_test, y_test_pred, average='binary')\n",
    "    \n",
    "    class_models[model_name]['prec_train'] = metrics.precision_score(y_train, y_train_pred, average='binary')  # set average to other than binary if it's multiclass models (default would be binary)\n",
    "    class_models[model_name]['prec_test'] = metrics.precision_score(y_test, y_test_pred, average='binary')\n",
    "    \n",
    "    # all the metrics score below (f1 test and mcc test) are only applicapble for test data\n",
    "        \n",
    "    class_models[model_name]['f1_test'] = metrics.f1_score(y_test, y_test_pred, average='binary')\n",
    "    class_models[model_name]['mcc_test'] = metrics.matthews_corrcoef(y_test, y_test_pred)\n",
    "    \n",
    "    print('done processing for:', model_name)"
   ]
  },
  {
   "cell_type": "code",
   "execution_count": 20,
   "metadata": {},
   "outputs": [
    {
     "data": {
      "text/html": [
       "<div>\n",
       "<style scoped>\n",
       "    .dataframe tbody tr th:only-of-type {\n",
       "        vertical-align: middle;\n",
       "    }\n",
       "\n",
       "    .dataframe tbody tr th {\n",
       "        vertical-align: top;\n",
       "    }\n",
       "\n",
       "    .dataframe thead th {\n",
       "        text-align: right;\n",
       "    }\n",
       "</style>\n",
       "<table border=\"1\" class=\"dataframe\">\n",
       "  <thead>\n",
       "    <tr style=\"text-align: right;\">\n",
       "      <th></th>\n",
       "      <th>acc_train</th>\n",
       "      <th>acc_test</th>\n",
       "      <th>recall_train</th>\n",
       "      <th>recall_test</th>\n",
       "      <th>prec_train</th>\n",
       "      <th>prec_test</th>\n",
       "      <th>f1_test</th>\n",
       "      <th>mcc_test</th>\n",
       "    </tr>\n",
       "  </thead>\n",
       "  <tbody>\n",
       "    <tr>\n",
       "      <th>decision_tree</th>\n",
       "      <td>0.739662</td>\n",
       "      <td>0.740332</td>\n",
       "      <td>0.402702</td>\n",
       "      <td>0.381754</td>\n",
       "      <td>0.100222</td>\n",
       "      <td>0.096279</td>\n",
       "      <td>0.153775</td>\n",
       "      <td>0.081572</td>\n",
       "    </tr>\n",
       "    <tr>\n",
       "      <th>gradient_boosting</th>\n",
       "      <td>0.938683</td>\n",
       "      <td>0.938506</td>\n",
       "      <td>0.008087</td>\n",
       "      <td>0.005611</td>\n",
       "      <td>0.963415</td>\n",
       "      <td>0.900000</td>\n",
       "      <td>0.011152</td>\n",
       "      <td>0.068341</td>\n",
       "    </tr>\n",
       "    <tr>\n",
       "      <th>random_forest</th>\n",
       "      <td>0.938214</td>\n",
       "      <td>0.938198</td>\n",
       "      <td>0.000205</td>\n",
       "      <td>0.000000</td>\n",
       "      <td>1.000000</td>\n",
       "      <td>0.000000</td>\n",
       "      <td>0.000000</td>\n",
       "      <td>0.000000</td>\n",
       "    </tr>\n",
       "    <tr>\n",
       "      <th>lda</th>\n",
       "      <td>0.938202</td>\n",
       "      <td>0.938198</td>\n",
       "      <td>0.000000</td>\n",
       "      <td>0.000000</td>\n",
       "      <td>0.000000</td>\n",
       "      <td>0.000000</td>\n",
       "      <td>0.000000</td>\n",
       "      <td>0.000000</td>\n",
       "    </tr>\n",
       "    <tr>\n",
       "      <th>mlp</th>\n",
       "      <td>0.938195</td>\n",
       "      <td>0.938198</td>\n",
       "      <td>0.000000</td>\n",
       "      <td>0.000000</td>\n",
       "      <td>0.000000</td>\n",
       "      <td>0.000000</td>\n",
       "      <td>0.000000</td>\n",
       "      <td>0.000000</td>\n",
       "    </tr>\n",
       "    <tr>\n",
       "      <th>logistic</th>\n",
       "      <td>0.242372</td>\n",
       "      <td>0.241597</td>\n",
       "      <td>0.792097</td>\n",
       "      <td>0.790939</td>\n",
       "      <td>0.061671</td>\n",
       "      <td>0.061536</td>\n",
       "      <td>0.114188</td>\n",
       "      <td>-0.002175</td>\n",
       "    </tr>\n",
       "  </tbody>\n",
       "</table>\n",
       "</div>"
      ],
      "text/plain": [
       "                   acc_train  acc_test  recall_train  recall_test  prec_train  \\\n",
       "decision_tree       0.739662  0.740332      0.402702     0.381754    0.100222   \n",
       "gradient_boosting   0.938683  0.938506      0.008087     0.005611    0.963415   \n",
       "random_forest       0.938214  0.938198      0.000205     0.000000    1.000000   \n",
       "lda                 0.938202  0.938198      0.000000     0.000000    0.000000   \n",
       "mlp                 0.938195  0.938198      0.000000     0.000000    0.000000   \n",
       "logistic            0.242372  0.241597      0.792097     0.790939    0.061671   \n",
       "\n",
       "                   prec_test   f1_test  mcc_test  \n",
       "decision_tree       0.096279  0.153775  0.081572  \n",
       "gradient_boosting   0.900000  0.011152  0.068341  \n",
       "random_forest       0.000000  0.000000  0.000000  \n",
       "lda                 0.000000  0.000000  0.000000  \n",
       "mlp                 0.000000  0.000000  0.000000  \n",
       "logistic            0.061536  0.114188 -0.002175  "
      ]
     },
     "execution_count": 20,
     "metadata": {},
     "output_type": "execute_result"
    }
   ],
   "source": [
    "class_metrics = pd.DataFrame.from_dict(class_models, orient='index')\n",
    "class_metrics = class_metrics.drop(['model', 'fitted', 'preds'], axis=1)\n",
    "\n",
    "# showing all evaulation metrics in a dataframe\n",
    "# sorted by mcc score\n",
    "\n",
    "class_metrics.sort_values('mcc_test', ascending=False)"
   ]
  },
  {
   "attachments": {},
   "cell_type": "markdown",
   "metadata": {},
   "source": [
    "    Important, No Information Rate (NIR)\n",
    "\n",
    "- This is a measurement of accuracy if we're going to predict all the predictions with majority of the class.\n",
    "- Ideally, **accuracy of ML model should be higher than NIR.**"
   ]
  },
  {
   "cell_type": "code",
   "execution_count": 21,
   "metadata": {},
   "outputs": [
    {
     "name": "stdout",
     "output_type": "stream",
     "text": [
      "NIR for training data: 0.9382017851833577\n",
      "NIR for test data: 0.9381975571852403\n"
     ]
    }
   ],
   "source": [
    "print('NIR for training data:', y_train.value_counts(normalize=True).max())\n",
    "print('NIR for test data:', y_test.value_counts(normalize=True).max())"
   ]
  },
  {
   "attachments": {},
   "cell_type": "markdown",
   "metadata": {},
   "source": [
    "Generally, the model we have here is not good, in the sense:\n",
    "\n",
    "- Most of them have a **really low recall test**, meaning that the model's positive prediction might be not reliable.\n",
    "- These mdels might be brutally **score everything with a majority class**, given it has a good performance for predicting negative prediction, but not for positive one."
   ]
  },
  {
   "cell_type": "markdown",
   "metadata": {},
   "source": []
  },
  {
   "attachments": {},
   "cell_type": "markdown",
   "metadata": {},
   "source": [
    "# Model-Agnostic Methods\n",
    "\n",
    "Collection of methods that would be reliable to calculate feature importances for any model. For this notebook, it will show:\n",
    "\n",
    "- Partial Feature Importance (PFI)\n",
    "- Partial Dependence Plots (PDP)\n",
    "- Individual Conditional Expectation (ICE)"
   ]
  },
  {
   "attachments": {},
   "cell_type": "markdown",
   "metadata": {},
   "source": [
    "### Partial Feature Importance (PFI)\n",
    "\n",
    "In a simpler way, the way PFI works is like this:\n",
    "\n",
    "1. **Start with a trained machine learning model:** Let's say you have a model that predicts whether a person will enjoy a movie based on features like genre, duration, and rating.\n",
    "\n",
    "2. **Understand the baseline performance:** Before assessing feature importance, you need to know how well the model performs initially. So, you measure the model's accuracy or any other suitable evaluation metric.\n",
    "\n",
    "3. **Shuffle a feature:** To assess the importance of a specific feature, you randomly shuffle the values of that feature across the dataset while keeping other features unchanged.\n",
    "\n",
    "4. **Make predictions with the shuffled feature:** Using the modified dataset with the shuffled feature, you now make predictions using the trained model. The idea is to see how well the model performs when the feature's original relationship with the target variable is disrupted.\n",
    "\n",
    "5. **Measure the drop in performance:** Compare the new predictions to the original ones and calculate the change in performance. This change, often measured by a metric like accuracy or error rate, represents the importance of the shuffled feature. If the performance drops significantly, it suggests that the feature was essential for the model's accuracy.\n",
    "\n",
    "6. **Repeat for all features:** Repeat steps 3 to 5 for each feature, shuffling them one at a time and measuring the performance drop. This allows you to evaluate the importance of each feature individually.\n",
    "\n",
    "7. **Compare feature importance:** Finally, you compare the performance drops for all features. The larger the drop in performance after shuffling a particular feature, the more important that feature is to the model's predictions. Features with smaller drops in performance are relatively less important."
   ]
  },
  {
   "cell_type": "code",
   "execution_count": 22,
   "metadata": {},
   "outputs": [
    {
     "name": "stdout",
     "output_type": "stream",
     "text": [
      "\u001b[0;31mSignature:\u001b[0m\n",
      "\u001b[0minspection\u001b[0m\u001b[0;34m.\u001b[0m\u001b[0mpermutation_importance\u001b[0m\u001b[0;34m(\u001b[0m\u001b[0;34m\u001b[0m\n",
      "\u001b[0;34m\u001b[0m    \u001b[0mestimator\u001b[0m\u001b[0;34m,\u001b[0m\u001b[0;34m\u001b[0m\n",
      "\u001b[0;34m\u001b[0m    \u001b[0mX\u001b[0m\u001b[0;34m,\u001b[0m\u001b[0;34m\u001b[0m\n",
      "\u001b[0;34m\u001b[0m    \u001b[0my\u001b[0m\u001b[0;34m,\u001b[0m\u001b[0;34m\u001b[0m\n",
      "\u001b[0;34m\u001b[0m    \u001b[0;34m*\u001b[0m\u001b[0;34m,\u001b[0m\u001b[0;34m\u001b[0m\n",
      "\u001b[0;34m\u001b[0m    \u001b[0mscoring\u001b[0m\u001b[0;34m=\u001b[0m\u001b[0;32mNone\u001b[0m\u001b[0;34m,\u001b[0m\u001b[0;34m\u001b[0m\n",
      "\u001b[0;34m\u001b[0m    \u001b[0mn_repeats\u001b[0m\u001b[0;34m=\u001b[0m\u001b[0;36m5\u001b[0m\u001b[0;34m,\u001b[0m\u001b[0;34m\u001b[0m\n",
      "\u001b[0;34m\u001b[0m    \u001b[0mn_jobs\u001b[0m\u001b[0;34m=\u001b[0m\u001b[0;32mNone\u001b[0m\u001b[0;34m,\u001b[0m\u001b[0;34m\u001b[0m\n",
      "\u001b[0;34m\u001b[0m    \u001b[0mrandom_state\u001b[0m\u001b[0;34m=\u001b[0m\u001b[0;32mNone\u001b[0m\u001b[0;34m,\u001b[0m\u001b[0;34m\u001b[0m\n",
      "\u001b[0;34m\u001b[0m    \u001b[0msample_weight\u001b[0m\u001b[0;34m=\u001b[0m\u001b[0;32mNone\u001b[0m\u001b[0;34m,\u001b[0m\u001b[0;34m\u001b[0m\n",
      "\u001b[0;34m\u001b[0m    \u001b[0mmax_samples\u001b[0m\u001b[0;34m=\u001b[0m\u001b[0;36m1.0\u001b[0m\u001b[0;34m,\u001b[0m\u001b[0;34m\u001b[0m\n",
      "\u001b[0;34m\u001b[0m\u001b[0;34m)\u001b[0m\u001b[0;34m\u001b[0m\u001b[0;34m\u001b[0m\u001b[0m\n",
      "\u001b[0;31mDocstring:\u001b[0m\n",
      "Permutation importance for feature evaluation [BRE]_.\n",
      "\n",
      "The :term:`estimator` is required to be a fitted estimator. `X` can be the\n",
      "data set used to train the estimator or a hold-out set. The permutation\n",
      "importance of a feature is calculated as follows. First, a baseline metric,\n",
      "defined by :term:`scoring`, is evaluated on a (potentially different)\n",
      "dataset defined by the `X`. Next, a feature column from the validation set\n",
      "is permuted and the metric is evaluated again. The permutation importance\n",
      "is defined to be the difference between the baseline metric and metric from\n",
      "permutating the feature column.\n",
      "\n",
      "Read more in the :ref:`User Guide <permutation_importance>`.\n",
      "\n",
      "Parameters\n",
      "----------\n",
      "estimator : object\n",
      "    An estimator that has already been :term:`fitted` and is compatible\n",
      "    with :term:`scorer`.\n",
      "\n",
      "X : ndarray or DataFrame, shape (n_samples, n_features)\n",
      "    Data on which permutation importance will be computed.\n",
      "\n",
      "y : array-like or None, shape (n_samples, ) or (n_samples, n_classes)\n",
      "    Targets for supervised or `None` for unsupervised.\n",
      "\n",
      "scoring : str, callable, list, tuple, or dict, default=None\n",
      "    Scorer to use.\n",
      "    If `scoring` represents a single score, one can use:\n",
      "\n",
      "    - a single string (see :ref:`scoring_parameter`);\n",
      "    - a callable (see :ref:`scoring`) that returns a single value.\n",
      "\n",
      "    If `scoring` represents multiple scores, one can use:\n",
      "\n",
      "    - a list or tuple of unique strings;\n",
      "    - a callable returning a dictionary where the keys are the metric\n",
      "      names and the values are the metric scores;\n",
      "    - a dictionary with metric names as keys and callables a values.\n",
      "\n",
      "    Passing multiple scores to `scoring` is more efficient than calling\n",
      "    `permutation_importance` for each of the scores as it reuses\n",
      "    predictions to avoid redundant computation.\n",
      "\n",
      "    If None, the estimator's default scorer is used.\n",
      "\n",
      "n_repeats : int, default=5\n",
      "    Number of times to permute a feature.\n",
      "\n",
      "n_jobs : int or None, default=None\n",
      "    Number of jobs to run in parallel. The computation is done by computing\n",
      "    permutation score for each columns and parallelized over the columns.\n",
      "    `None` means 1 unless in a :obj:`joblib.parallel_backend` context.\n",
      "    `-1` means using all processors. See :term:`Glossary <n_jobs>`\n",
      "    for more details.\n",
      "\n",
      "random_state : int, RandomState instance, default=None\n",
      "    Pseudo-random number generator to control the permutations of each\n",
      "    feature.\n",
      "    Pass an int to get reproducible results across function calls.\n",
      "    See :term:`Glossary <random_state>`.\n",
      "\n",
      "sample_weight : array-like of shape (n_samples,), default=None\n",
      "    Sample weights used in scoring.\n",
      "\n",
      "    .. versionadded:: 0.24\n",
      "\n",
      "max_samples : int or float, default=1.0\n",
      "    The number of samples to draw from X to compute feature importance\n",
      "    in each repeat (without replacement).\n",
      "\n",
      "    - If int, then draw `max_samples` samples.\n",
      "    - If float, then draw `max_samples * X.shape[0]` samples.\n",
      "    - If `max_samples` is equal to `1.0` or `X.shape[0]`, all samples\n",
      "      will be used.\n",
      "\n",
      "    While using this option may provide less accurate importance estimates,\n",
      "    it keeps the method tractable when evaluating feature importance on\n",
      "    large datasets. In combination with `n_repeats`, this allows to control\n",
      "    the computational speed vs statistical accuracy trade-off of this method.\n",
      "\n",
      "    .. versionadded:: 1.0\n",
      "\n",
      "Returns\n",
      "-------\n",
      "result : :class:`~sklearn.utils.Bunch` or dict of such instances\n",
      "    Dictionary-like object, with the following attributes.\n",
      "\n",
      "    importances_mean : ndarray of shape (n_features, )\n",
      "        Mean of feature importance over `n_repeats`.\n",
      "    importances_std : ndarray of shape (n_features, )\n",
      "        Standard deviation over `n_repeats`.\n",
      "    importances : ndarray of shape (n_features, n_repeats)\n",
      "        Raw permutation importance scores.\n",
      "\n",
      "    If there are multiple scoring metrics in the scoring parameter\n",
      "    `result` is a dict with scorer names as keys (e.g. 'roc_auc') and\n",
      "    `Bunch` objects like above as values.\n",
      "\n",
      "References\n",
      "----------\n",
      ".. [BRE] :doi:`L. Breiman, \"Random Forests\", Machine Learning, 45(1), 5-32,\n",
      "         2001. <10.1023/A:1010933404324>`\n",
      "\n",
      "Examples\n",
      "--------\n",
      ">>> from sklearn.linear_model import LogisticRegression\n",
      ">>> from sklearn.inspection import permutation_importance\n",
      ">>> X = [[1, 9, 9],[1, 9, 9],[1, 9, 9],\n",
      "...      [0, 9, 9],[0, 9, 9],[0, 9, 9]]\n",
      ">>> y = [1, 1, 1, 0, 0, 0]\n",
      ">>> clf = LogisticRegression().fit(X, y)\n",
      ">>> result = permutation_importance(clf, X, y, n_repeats=10,\n",
      "...                                 random_state=0)\n",
      ">>> result.importances_mean\n",
      "array([0.4666..., 0.       , 0.       ])\n",
      ">>> result.importances_std\n",
      "array([0.2211..., 0.       , 0.       ])\n",
      "\u001b[0;31mFile:\u001b[0m      ~/opt/anaconda3/lib/python3.9/site-packages/sklearn/inspection/_permutation_importance.py\n",
      "\u001b[0;31mType:\u001b[0m      function\n"
     ]
    }
   ],
   "source": [
    "?inspection.permutation_importance"
   ]
  },
  {
   "cell_type": "code",
   "execution_count": 23,
   "metadata": {},
   "outputs": [
    {
     "name": "stderr",
     "output_type": "stream",
     "text": [
      "100%|██████████| 6/6 [04:01<00:00, 40.22s/it]\n"
     ]
    }
   ],
   "source": [
    "# scikit-learn model already provides this\n",
    "# using permutation_importance method from inspection class\n",
    "\n",
    "from sklearn import inspection\n",
    "\n",
    "for model_name in tqdm(class_models.keys()):\n",
    "    fitted_model = class_models[model_name]['fitted']\n",
    "    permutation_imp = inspection.permutation_importance(estimator=fitted_model,\n",
    "                                                        X=x_test_trf.toarray(),\n",
    "                                                        y=y_test,\n",
    "                                                        n_jobs=-1,              # set to -1, it means that the algorithm will use all available CPU cores to perform the calculations in parallel.\n",
    "                                                        scoring='accuracy',     # performance metrics for calculating the baseline and drop of performance when doing the shuffling\n",
    "                                                        n_repeats=3,            # lower the number -> faster, but lower the accuracy and vice versa\n",
    "                                                        random_state=rand)\n",
    "    class_models[model_name]['importances_mean'] = permutation_imp.importances_mean"
   ]
  },
  {
   "cell_type": "code",
   "execution_count": 83,
   "metadata": {},
   "outputs": [
    {
     "name": "stderr",
     "output_type": "stream",
     "text": [
      "/var/folders/3z/jblqnqjn04ldn_gk07kslfp00000gn/T/ipykernel_844/1032016272.py:20: FutureWarning: Dropping of nuisance columns in DataFrame reductions (with 'numeric_only=None') is deprecated; in a future version this will raise TypeError.  Select only valid columns before calling the reduction.\n",
      "  perm_imp_df['avg_imp'] = perm_imp_df.mean(axis=1)\n"
     ]
    },
    {
     "data": {
      "text/html": [
       "<style type=\"text/css\">\n",
       "#T_2ce32_row0_col1, #T_2ce32_row2_col2, #T_2ce32_row17_col6 {\n",
       "  background-color: #443983;\n",
       "  color: #f1f1f1;\n",
       "}\n",
       "#T_2ce32_row0_col2 {\n",
       "  background-color: #3b518b;\n",
       "  color: #f1f1f1;\n",
       "}\n",
       "#T_2ce32_row0_col3, #T_2ce32_row0_col4, #T_2ce32_row0_col5, #T_2ce32_row0_col6, #T_2ce32_row1_col3, #T_2ce32_row1_col4, #T_2ce32_row1_col5, #T_2ce32_row1_col6, #T_2ce32_row2_col3, #T_2ce32_row2_col4, #T_2ce32_row2_col5, #T_2ce32_row2_col6, #T_2ce32_row3_col3, #T_2ce32_row3_col4, #T_2ce32_row3_col5, #T_2ce32_row4_col3, #T_2ce32_row4_col4, #T_2ce32_row4_col5, #T_2ce32_row4_col6, #T_2ce32_row5_col3, #T_2ce32_row5_col4, #T_2ce32_row5_col5, #T_2ce32_row6_col3, #T_2ce32_row6_col4, #T_2ce32_row6_col5, #T_2ce32_row7_col3, #T_2ce32_row7_col4, #T_2ce32_row7_col5, #T_2ce32_row7_col6, #T_2ce32_row8_col3, #T_2ce32_row8_col4, #T_2ce32_row8_col5, #T_2ce32_row9_col3, #T_2ce32_row9_col4, #T_2ce32_row9_col5, #T_2ce32_row9_col6, #T_2ce32_row10_col3, #T_2ce32_row10_col4, #T_2ce32_row10_col5, #T_2ce32_row11_col2, #T_2ce32_row11_col3, #T_2ce32_row11_col4, #T_2ce32_row11_col5, #T_2ce32_row11_col6, #T_2ce32_row12_col3, #T_2ce32_row12_col4, #T_2ce32_row12_col5, #T_2ce32_row12_col6, #T_2ce32_row13_col3, #T_2ce32_row13_col4, #T_2ce32_row13_col5, #T_2ce32_row13_col6, #T_2ce32_row14_col3, #T_2ce32_row14_col4, #T_2ce32_row14_col5, #T_2ce32_row14_col6, #T_2ce32_row15_col3, #T_2ce32_row15_col4, #T_2ce32_row15_col5, #T_2ce32_row15_col6, #T_2ce32_row16_col3, #T_2ce32_row16_col4, #T_2ce32_row16_col5, #T_2ce32_row16_col6, #T_2ce32_row17_col3, #T_2ce32_row17_col4, #T_2ce32_row17_col5, #T_2ce32_row18_col3, #T_2ce32_row18_col4, #T_2ce32_row18_col5, #T_2ce32_row18_col6, #T_2ce32_row19_col1, #T_2ce32_row19_col3, #T_2ce32_row19_col4, #T_2ce32_row19_col5, #T_2ce32_row19_col6 {\n",
       "  background-color: #fde725;\n",
       "  color: #000000;\n",
       "}\n",
       "#T_2ce32_row1_col1 {\n",
       "  background-color: #21a585;\n",
       "  color: #f1f1f1;\n",
       "}\n",
       "#T_2ce32_row1_col2, #T_2ce32_row19_col2 {\n",
       "  background-color: #a5db36;\n",
       "  color: #000000;\n",
       "}\n",
       "#T_2ce32_row2_col1, #T_2ce32_row4_col1 {\n",
       "  background-color: #56c667;\n",
       "  color: #000000;\n",
       "}\n",
       "#T_2ce32_row3_col1 {\n",
       "  background-color: #58c765;\n",
       "  color: #000000;\n",
       "}\n",
       "#T_2ce32_row3_col2 {\n",
       "  background-color: #26818e;\n",
       "  color: #f1f1f1;\n",
       "}\n",
       "#T_2ce32_row3_col6, #T_2ce32_row6_col6 {\n",
       "  background-color: #3fbc73;\n",
       "  color: #f1f1f1;\n",
       "}\n",
       "#T_2ce32_row4_col2 {\n",
       "  background-color: #54c568;\n",
       "  color: #000000;\n",
       "}\n",
       "#T_2ce32_row5_col1 {\n",
       "  background-color: #b8de29;\n",
       "  color: #000000;\n",
       "}\n",
       "#T_2ce32_row5_col2, #T_2ce32_row6_col2, #T_2ce32_row12_col2, #T_2ce32_row17_col2 {\n",
       "  background-color: #dde318;\n",
       "  color: #000000;\n",
       "}\n",
       "#T_2ce32_row5_col6, #T_2ce32_row10_col6 {\n",
       "  background-color: #bade28;\n",
       "  color: #000000;\n",
       "}\n",
       "#T_2ce32_row6_col1 {\n",
       "  background-color: #c0df25;\n",
       "  color: #000000;\n",
       "}\n",
       "#T_2ce32_row7_col1 {\n",
       "  background-color: #c8e020;\n",
       "  color: #000000;\n",
       "}\n",
       "#T_2ce32_row7_col2 {\n",
       "  background-color: #218e8d;\n",
       "  color: #f1f1f1;\n",
       "}\n",
       "#T_2ce32_row8_col1 {\n",
       "  background-color: #d0e11c;\n",
       "  color: #000000;\n",
       "}\n",
       "#T_2ce32_row8_col2, #T_2ce32_row13_col1, #T_2ce32_row13_col2, #T_2ce32_row14_col2, #T_2ce32_row15_col2 {\n",
       "  background-color: #efe51c;\n",
       "  color: #000000;\n",
       "}\n",
       "#T_2ce32_row8_col6 {\n",
       "  background-color: #75d054;\n",
       "  color: #000000;\n",
       "}\n",
       "#T_2ce32_row9_col1 {\n",
       "  background-color: #d5e21a;\n",
       "  color: #000000;\n",
       "}\n",
       "#T_2ce32_row9_col2, #T_2ce32_row10_col2 {\n",
       "  background-color: #93d741;\n",
       "  color: #000000;\n",
       "}\n",
       "#T_2ce32_row10_col1 {\n",
       "  background-color: #dfe318;\n",
       "  color: #000000;\n",
       "}\n",
       "#T_2ce32_row11_col1 {\n",
       "  background-color: #e5e419;\n",
       "  color: #000000;\n",
       "}\n",
       "#T_2ce32_row12_col1 {\n",
       "  background-color: #eae51a;\n",
       "  color: #000000;\n",
       "}\n",
       "#T_2ce32_row14_col1, #T_2ce32_row15_col1 {\n",
       "  background-color: #f1e51d;\n",
       "  color: #000000;\n",
       "}\n",
       "#T_2ce32_row16_col1 {\n",
       "  background-color: #f6e620;\n",
       "  color: #000000;\n",
       "}\n",
       "#T_2ce32_row16_col2 {\n",
       "  background-color: #24878e;\n",
       "  color: #f1f1f1;\n",
       "}\n",
       "#T_2ce32_row17_col1 {\n",
       "  background-color: #fbe723;\n",
       "  color: #000000;\n",
       "}\n",
       "#T_2ce32_row18_col1 {\n",
       "  background-color: #f8e621;\n",
       "  color: #000000;\n",
       "}\n",
       "#T_2ce32_row18_col2 {\n",
       "  background-color: #cae11f;\n",
       "  color: #000000;\n",
       "}\n",
       "</style>\n",
       "<table id=\"T_2ce32\">\n",
       "  <thead>\n",
       "    <tr>\n",
       "      <th class=\"blank level0\" >&nbsp;</th>\n",
       "      <th id=\"T_2ce32_level0_col0\" class=\"col_heading level0 col0\" >feature</th>\n",
       "      <th id=\"T_2ce32_level0_col1\" class=\"col_heading level0 col1\" >decision_tree</th>\n",
       "      <th id=\"T_2ce32_level0_col2\" class=\"col_heading level0 col2\" >gradient_boosting</th>\n",
       "      <th id=\"T_2ce32_level0_col3\" class=\"col_heading level0 col3\" >random_forest</th>\n",
       "      <th id=\"T_2ce32_level0_col4\" class=\"col_heading level0 col4\" >logistic</th>\n",
       "      <th id=\"T_2ce32_level0_col5\" class=\"col_heading level0 col5\" >lda</th>\n",
       "      <th id=\"T_2ce32_level0_col6\" class=\"col_heading level0 col6\" >mlp</th>\n",
       "      <th id=\"T_2ce32_level0_col7\" class=\"col_heading level0 col7\" >avg_imp</th>\n",
       "    </tr>\n",
       "  </thead>\n",
       "  <tbody>\n",
       "    <tr>\n",
       "      <th id=\"T_2ce32_level0_row0\" class=\"row_heading level0 row0\" >0</th>\n",
       "      <td id=\"T_2ce32_row0_col0\" class=\"data row0 col0\" >onehotencoder__os_version_intermediate</td>\n",
       "      <td id=\"T_2ce32_row0_col1\" class=\"data row0 col1\" >0.012197</td>\n",
       "      <td id=\"T_2ce32_row0_col2\" class=\"data row0 col2\" >0.000116</td>\n",
       "      <td id=\"T_2ce32_row0_col3\" class=\"data row0 col3\" >0.000000</td>\n",
       "      <td id=\"T_2ce32_row0_col4\" class=\"data row0 col4\" >0.000000</td>\n",
       "      <td id=\"T_2ce32_row0_col5\" class=\"data row0 col5\" >0.000000</td>\n",
       "      <td id=\"T_2ce32_row0_col6\" class=\"data row0 col6\" >0.000000</td>\n",
       "      <td id=\"T_2ce32_row0_col7\" class=\"data row0 col7\" >0.002052</td>\n",
       "    </tr>\n",
       "    <tr>\n",
       "      <th id=\"T_2ce32_level0_row1\" class=\"row_heading level0 row1\" >49</th>\n",
       "      <td id=\"T_2ce32_row1_col0\" class=\"data row1 col0\" >onehotencoder__day_of_week_Thursday</td>\n",
       "      <td id=\"T_2ce32_row1_col1\" class=\"data row1 col1\" >0.006083</td>\n",
       "      <td id=\"T_2ce32_row1_col2\" class=\"data row1 col2\" >0.000017</td>\n",
       "      <td id=\"T_2ce32_row1_col3\" class=\"data row1 col3\" >0.000000</td>\n",
       "      <td id=\"T_2ce32_row1_col4\" class=\"data row1 col4\" >0.000000</td>\n",
       "      <td id=\"T_2ce32_row1_col5\" class=\"data row1 col5\" >0.000000</td>\n",
       "      <td id=\"T_2ce32_row1_col6\" class=\"data row1 col6\" >0.000000</td>\n",
       "      <td id=\"T_2ce32_row1_col7\" class=\"data row1 col7\" >0.001017</td>\n",
       "    </tr>\n",
       "    <tr>\n",
       "      <th id=\"T_2ce32_level0_row2\" class=\"row_heading level0 row2\" >51</th>\n",
       "      <td id=\"T_2ce32_row2_col0\" class=\"data row2 col0\" >onehotencoder__day_of_week_Wednesday</td>\n",
       "      <td id=\"T_2ce32_row2_col1\" class=\"data row2 col1\" >0.003922</td>\n",
       "      <td id=\"T_2ce32_row2_col2\" class=\"data row2 col2\" >0.000128</td>\n",
       "      <td id=\"T_2ce32_row2_col3\" class=\"data row2 col3\" >0.000000</td>\n",
       "      <td id=\"T_2ce32_row2_col4\" class=\"data row2 col4\" >0.000000</td>\n",
       "      <td id=\"T_2ce32_row2_col5\" class=\"data row2 col5\" >0.000000</td>\n",
       "      <td id=\"T_2ce32_row2_col6\" class=\"data row2 col6\" >0.000000</td>\n",
       "      <td id=\"T_2ce32_row2_col7\" class=\"data row2 col7\" >0.000675</td>\n",
       "    </tr>\n",
       "    <tr>\n",
       "      <th id=\"T_2ce32_level0_row3\" class=\"row_heading level0 row3\" >48</th>\n",
       "      <td id=\"T_2ce32_row3_col0\" class=\"data row3 col0\" >onehotencoder__day_of_week_Sunday</td>\n",
       "      <td id=\"T_2ce32_row3_col1\" class=\"data row3 col1\" >0.003887</td>\n",
       "      <td id=\"T_2ce32_row3_col2\" class=\"data row3 col2\" >0.000086</td>\n",
       "      <td id=\"T_2ce32_row3_col3\" class=\"data row3 col3\" >0.000000</td>\n",
       "      <td id=\"T_2ce32_row3_col4\" class=\"data row3 col4\" >0.000000</td>\n",
       "      <td id=\"T_2ce32_row3_col5\" class=\"data row3 col5\" >0.000000</td>\n",
       "      <td id=\"T_2ce32_row3_col6\" class=\"data row3 col6\" >0.000013</td>\n",
       "      <td id=\"T_2ce32_row3_col7\" class=\"data row3 col7\" >0.000664</td>\n",
       "    </tr>\n",
       "    <tr>\n",
       "      <th id=\"T_2ce32_level0_row4\" class=\"row_heading level0 row4\" >52</th>\n",
       "      <td id=\"T_2ce32_row4_col0\" class=\"data row4 col0\" >remainder__is_4G</td>\n",
       "      <td id=\"T_2ce32_row4_col1\" class=\"data row4 col1\" >0.003939</td>\n",
       "      <td id=\"T_2ce32_row4_col2\" class=\"data row4 col2\" >0.000039</td>\n",
       "      <td id=\"T_2ce32_row4_col3\" class=\"data row4 col3\" >0.000000</td>\n",
       "      <td id=\"T_2ce32_row4_col4\" class=\"data row4 col4\" >0.000000</td>\n",
       "      <td id=\"T_2ce32_row4_col5\" class=\"data row4 col5\" >0.000000</td>\n",
       "      <td id=\"T_2ce32_row4_col6\" class=\"data row4 col6\" >0.000000</td>\n",
       "      <td id=\"T_2ce32_row4_col7\" class=\"data row4 col7\" >0.000663</td>\n",
       "    </tr>\n",
       "    <tr>\n",
       "      <th id=\"T_2ce32_level0_row5\" class=\"row_heading level0 row5\" >46</th>\n",
       "      <td id=\"T_2ce32_row5_col0\" class=\"data row5 col0\" >onehotencoder__day_of_week_Monday</td>\n",
       "      <td id=\"T_2ce32_row5_col1\" class=\"data row5 col1\" >0.001627</td>\n",
       "      <td id=\"T_2ce32_row5_col2\" class=\"data row5 col2\" >0.000004</td>\n",
       "      <td id=\"T_2ce32_row5_col3\" class=\"data row5 col3\" >0.000000</td>\n",
       "      <td id=\"T_2ce32_row5_col4\" class=\"data row5 col4\" >0.000000</td>\n",
       "      <td id=\"T_2ce32_row5_col5\" class=\"data row5 col5\" >0.000000</td>\n",
       "      <td id=\"T_2ce32_row5_col6\" class=\"data row5 col6\" >0.000004</td>\n",
       "      <td id=\"T_2ce32_row5_col7\" class=\"data row5 col7\" >0.000273</td>\n",
       "    </tr>\n",
       "    <tr>\n",
       "      <th id=\"T_2ce32_level0_row6\" class=\"row_heading level0 row6\" >36</th>\n",
       "      <td id=\"T_2ce32_row6_col0\" class=\"data row6 col0\" >onehotencoder__time_interval_23:00 - 24:00</td>\n",
       "      <td id=\"T_2ce32_row6_col1\" class=\"data row6 col1\" >0.001456</td>\n",
       "      <td id=\"T_2ce32_row6_col2\" class=\"data row6 col2\" >0.000004</td>\n",
       "      <td id=\"T_2ce32_row6_col3\" class=\"data row6 col3\" >0.000000</td>\n",
       "      <td id=\"T_2ce32_row6_col4\" class=\"data row6 col4\" >0.000000</td>\n",
       "      <td id=\"T_2ce32_row6_col5\" class=\"data row6 col5\" >0.000000</td>\n",
       "      <td id=\"T_2ce32_row6_col6\" class=\"data row6 col6\" >0.000013</td>\n",
       "      <td id=\"T_2ce32_row6_col7\" class=\"data row6 col7\" >0.000245</td>\n",
       "    </tr>\n",
       "    <tr>\n",
       "      <th id=\"T_2ce32_level0_row7\" class=\"row_heading level0 row7\" >21</th>\n",
       "      <td id=\"T_2ce32_row7_col0\" class=\"data row7 col0\" >onehotencoder__time_interval_0:00 - 1:00</td>\n",
       "      <td id=\"T_2ce32_row7_col1\" class=\"data row7 col1\" >0.001284</td>\n",
       "      <td id=\"T_2ce32_row7_col2\" class=\"data row7 col2\" >0.000077</td>\n",
       "      <td id=\"T_2ce32_row7_col3\" class=\"data row7 col3\" >0.000000</td>\n",
       "      <td id=\"T_2ce32_row7_col4\" class=\"data row7 col4\" >0.000000</td>\n",
       "      <td id=\"T_2ce32_row7_col5\" class=\"data row7 col5\" >0.000000</td>\n",
       "      <td id=\"T_2ce32_row7_col6\" class=\"data row7 col6\" >0.000000</td>\n",
       "      <td id=\"T_2ce32_row7_col7\" class=\"data row7 col7\" >0.000227</td>\n",
       "    </tr>\n",
       "    <tr>\n",
       "      <th id=\"T_2ce32_level0_row8\" class=\"row_heading level0 row8\" >23</th>\n",
       "      <td id=\"T_2ce32_row8_col0\" class=\"data row8 col0\" >onehotencoder__time_interval_11:00 - 12:00</td>\n",
       "      <td id=\"T_2ce32_row8_col1\" class=\"data row8 col1\" >0.001152</td>\n",
       "      <td id=\"T_2ce32_row8_col2\" class=\"data row8 col2\" >0.000000</td>\n",
       "      <td id=\"T_2ce32_row8_col3\" class=\"data row8 col3\" >0.000000</td>\n",
       "      <td id=\"T_2ce32_row8_col4\" class=\"data row8 col4\" >0.000000</td>\n",
       "      <td id=\"T_2ce32_row8_col5\" class=\"data row8 col5\" >0.000000</td>\n",
       "      <td id=\"T_2ce32_row8_col6\" class=\"data row8 col6\" >0.000009</td>\n",
       "      <td id=\"T_2ce32_row8_col7\" class=\"data row8 col7\" >0.000193</td>\n",
       "    </tr>\n",
       "    <tr>\n",
       "      <th id=\"T_2ce32_level0_row9\" class=\"row_heading level0 row9\" >50</th>\n",
       "      <td id=\"T_2ce32_row9_col0\" class=\"data row9 col0\" >onehotencoder__day_of_week_Tuesday</td>\n",
       "      <td id=\"T_2ce32_row9_col1\" class=\"data row9 col1\" >0.001036</td>\n",
       "      <td id=\"T_2ce32_row9_col2\" class=\"data row9 col2\" >0.000021</td>\n",
       "      <td id=\"T_2ce32_row9_col3\" class=\"data row9 col3\" >0.000000</td>\n",
       "      <td id=\"T_2ce32_row9_col4\" class=\"data row9 col4\" >0.000000</td>\n",
       "      <td id=\"T_2ce32_row9_col5\" class=\"data row9 col5\" >0.000000</td>\n",
       "      <td id=\"T_2ce32_row9_col6\" class=\"data row9 col6\" >0.000000</td>\n",
       "      <td id=\"T_2ce32_row9_col7\" class=\"data row9 col7\" >0.000176</td>\n",
       "    </tr>\n",
       "    <tr>\n",
       "      <th id=\"T_2ce32_level0_row10\" class=\"row_heading level0 row10\" >33</th>\n",
       "      <td id=\"T_2ce32_row10_col0\" class=\"data row10 col0\" >onehotencoder__time_interval_20:00 - 21:00</td>\n",
       "      <td id=\"T_2ce32_row10_col1\" class=\"data row10 col1\" >0.000775</td>\n",
       "      <td id=\"T_2ce32_row10_col2\" class=\"data row10 col2\" >0.000021</td>\n",
       "      <td id=\"T_2ce32_row10_col3\" class=\"data row10 col3\" >0.000000</td>\n",
       "      <td id=\"T_2ce32_row10_col4\" class=\"data row10 col4\" >0.000000</td>\n",
       "      <td id=\"T_2ce32_row10_col5\" class=\"data row10 col5\" >0.000000</td>\n",
       "      <td id=\"T_2ce32_row10_col6\" class=\"data row10 col6\" >0.000004</td>\n",
       "      <td id=\"T_2ce32_row10_col7\" class=\"data row10 col7\" >0.000133</td>\n",
       "    </tr>\n",
       "    <tr>\n",
       "      <th id=\"T_2ce32_level0_row11\" class=\"row_heading level0 row11\" >26</th>\n",
       "      <td id=\"T_2ce32_row11_col0\" class=\"data row11 col0\" >onehotencoder__time_interval_14:00 - 15:00</td>\n",
       "      <td id=\"T_2ce32_row11_col1\" class=\"data row11 col1\" >0.000664</td>\n",
       "      <td id=\"T_2ce32_row11_col2\" class=\"data row11 col2\" >-0.000004</td>\n",
       "      <td id=\"T_2ce32_row11_col3\" class=\"data row11 col3\" >0.000000</td>\n",
       "      <td id=\"T_2ce32_row11_col4\" class=\"data row11 col4\" >0.000000</td>\n",
       "      <td id=\"T_2ce32_row11_col5\" class=\"data row11 col5\" >0.000000</td>\n",
       "      <td id=\"T_2ce32_row11_col6\" class=\"data row11 col6\" >0.000000</td>\n",
       "      <td id=\"T_2ce32_row11_col7\" class=\"data row11 col7\" >0.000110</td>\n",
       "    </tr>\n",
       "    <tr>\n",
       "      <th id=\"T_2ce32_level0_row12\" class=\"row_heading level0 row12\" >34</th>\n",
       "      <td id=\"T_2ce32_row12_col0\" class=\"data row12 col0\" >onehotencoder__time_interval_21:00 - 22:00</td>\n",
       "      <td id=\"T_2ce32_row12_col1\" class=\"data row12 col1\" >0.000552</td>\n",
       "      <td id=\"T_2ce32_row12_col2\" class=\"data row12 col2\" >0.000004</td>\n",
       "      <td id=\"T_2ce32_row12_col3\" class=\"data row12 col3\" >0.000000</td>\n",
       "      <td id=\"T_2ce32_row12_col4\" class=\"data row12 col4\" >0.000000</td>\n",
       "      <td id=\"T_2ce32_row12_col5\" class=\"data row12 col5\" >0.000000</td>\n",
       "      <td id=\"T_2ce32_row12_col6\" class=\"data row12 col6\" >0.000000</td>\n",
       "      <td id=\"T_2ce32_row12_col7\" class=\"data row12 col7\" >0.000093</td>\n",
       "    </tr>\n",
       "    <tr>\n",
       "      <th id=\"T_2ce32_level0_row13\" class=\"row_heading level0 row13\" >27</th>\n",
       "      <td id=\"T_2ce32_row13_col0\" class=\"data row13 col0\" >onehotencoder__time_interval_15:00 - 16:00</td>\n",
       "      <td id=\"T_2ce32_row13_col1\" class=\"data row13 col1\" >0.000462</td>\n",
       "      <td id=\"T_2ce32_row13_col2\" class=\"data row13 col2\" >0.000000</td>\n",
       "      <td id=\"T_2ce32_row13_col3\" class=\"data row13 col3\" >0.000000</td>\n",
       "      <td id=\"T_2ce32_row13_col4\" class=\"data row13 col4\" >0.000000</td>\n",
       "      <td id=\"T_2ce32_row13_col5\" class=\"data row13 col5\" >0.000000</td>\n",
       "      <td id=\"T_2ce32_row13_col6\" class=\"data row13 col6\" >0.000000</td>\n",
       "      <td id=\"T_2ce32_row13_col7\" class=\"data row13 col7\" >0.000077</td>\n",
       "    </tr>\n",
       "    <tr>\n",
       "      <th id=\"T_2ce32_level0_row14\" class=\"row_heading level0 row14\" >32</th>\n",
       "      <td id=\"T_2ce32_row14_col0\" class=\"data row14 col0\" >onehotencoder__time_interval_1:00 - 2:00</td>\n",
       "      <td id=\"T_2ce32_row14_col1\" class=\"data row14 col1\" >0.000420</td>\n",
       "      <td id=\"T_2ce32_row14_col2\" class=\"data row14 col2\" >0.000000</td>\n",
       "      <td id=\"T_2ce32_row14_col3\" class=\"data row14 col3\" >0.000000</td>\n",
       "      <td id=\"T_2ce32_row14_col4\" class=\"data row14 col4\" >0.000000</td>\n",
       "      <td id=\"T_2ce32_row14_col5\" class=\"data row14 col5\" >0.000000</td>\n",
       "      <td id=\"T_2ce32_row14_col6\" class=\"data row14 col6\" >0.000000</td>\n",
       "      <td id=\"T_2ce32_row14_col7\" class=\"data row14 col7\" >0.000070</td>\n",
       "    </tr>\n",
       "    <tr>\n",
       "      <th id=\"T_2ce32_level0_row15\" class=\"row_heading level0 row15\" >44</th>\n",
       "      <td id=\"T_2ce32_row15_col0\" class=\"data row15 col0\" >onehotencoder__time_interval_9:00 - 10:00</td>\n",
       "      <td id=\"T_2ce32_row15_col1\" class=\"data row15 col1\" >0.000411</td>\n",
       "      <td id=\"T_2ce32_row15_col2\" class=\"data row15 col2\" >0.000000</td>\n",
       "      <td id=\"T_2ce32_row15_col3\" class=\"data row15 col3\" >0.000000</td>\n",
       "      <td id=\"T_2ce32_row15_col4\" class=\"data row15 col4\" >0.000000</td>\n",
       "      <td id=\"T_2ce32_row15_col5\" class=\"data row15 col5\" >0.000000</td>\n",
       "      <td id=\"T_2ce32_row15_col6\" class=\"data row15 col6\" >0.000000</td>\n",
       "      <td id=\"T_2ce32_row15_col7\" class=\"data row15 col7\" >0.000068</td>\n",
       "    </tr>\n",
       "    <tr>\n",
       "      <th id=\"T_2ce32_level0_row16\" class=\"row_heading level0 row16\" >47</th>\n",
       "      <td id=\"T_2ce32_row16_col0\" class=\"data row16 col0\" >onehotencoder__day_of_week_Saturday</td>\n",
       "      <td id=\"T_2ce32_row16_col1\" class=\"data row16 col1\" >0.000300</td>\n",
       "      <td id=\"T_2ce32_row16_col2\" class=\"data row16 col2\" >0.000081</td>\n",
       "      <td id=\"T_2ce32_row16_col3\" class=\"data row16 col3\" >0.000000</td>\n",
       "      <td id=\"T_2ce32_row16_col4\" class=\"data row16 col4\" >0.000000</td>\n",
       "      <td id=\"T_2ce32_row16_col5\" class=\"data row16 col5\" >0.000000</td>\n",
       "      <td id=\"T_2ce32_row16_col6\" class=\"data row16 col6\" >0.000000</td>\n",
       "      <td id=\"T_2ce32_row16_col7\" class=\"data row16 col7\" >0.000064</td>\n",
       "    </tr>\n",
       "    <tr>\n",
       "      <th id=\"T_2ce32_level0_row17\" class=\"row_heading level0 row17\" >42</th>\n",
       "      <td id=\"T_2ce32_row17_col0\" class=\"data row17 col0\" >onehotencoder__time_interval_7:00 - 8:00</td>\n",
       "      <td id=\"T_2ce32_row17_col1\" class=\"data row17 col1\" >0.000201</td>\n",
       "      <td id=\"T_2ce32_row17_col2\" class=\"data row17 col2\" >0.000004</td>\n",
       "      <td id=\"T_2ce32_row17_col3\" class=\"data row17 col3\" >0.000000</td>\n",
       "      <td id=\"T_2ce32_row17_col4\" class=\"data row17 col4\" >0.000000</td>\n",
       "      <td id=\"T_2ce32_row17_col5\" class=\"data row17 col5\" >0.000000</td>\n",
       "      <td id=\"T_2ce32_row17_col6\" class=\"data row17 col6\" >0.000034</td>\n",
       "      <td id=\"T_2ce32_row17_col7\" class=\"data row17 col7\" >0.000040</td>\n",
       "    </tr>\n",
       "    <tr>\n",
       "      <th id=\"T_2ce32_level0_row18\" class=\"row_heading level0 row18\" >24</th>\n",
       "      <td id=\"T_2ce32_row18_col0\" class=\"data row18 col0\" >onehotencoder__time_interval_12:00 - 13:00</td>\n",
       "      <td id=\"T_2ce32_row18_col1\" class=\"data row18 col1\" >0.000218</td>\n",
       "      <td id=\"T_2ce32_row18_col2\" class=\"data row18 col2\" >0.000009</td>\n",
       "      <td id=\"T_2ce32_row18_col3\" class=\"data row18 col3\" >0.000000</td>\n",
       "      <td id=\"T_2ce32_row18_col4\" class=\"data row18 col4\" >0.000000</td>\n",
       "      <td id=\"T_2ce32_row18_col5\" class=\"data row18 col5\" >0.000000</td>\n",
       "      <td id=\"T_2ce32_row18_col6\" class=\"data row18 col6\" >0.000000</td>\n",
       "      <td id=\"T_2ce32_row18_col7\" class=\"data row18 col7\" >0.000038</td>\n",
       "    </tr>\n",
       "    <tr>\n",
       "      <th id=\"T_2ce32_level0_row19\" class=\"row_heading level0 row19\" >7</th>\n",
       "      <td id=\"T_2ce32_row19_col0\" class=\"data row19 col0\" >onehotencoder__category_1_1</td>\n",
       "      <td id=\"T_2ce32_row19_col1\" class=\"data row19 col1\" >0.000090</td>\n",
       "      <td id=\"T_2ce32_row19_col2\" class=\"data row19 col2\" >0.000017</td>\n",
       "      <td id=\"T_2ce32_row19_col3\" class=\"data row19 col3\" >0.000000</td>\n",
       "      <td id=\"T_2ce32_row19_col4\" class=\"data row19 col4\" >0.000000</td>\n",
       "      <td id=\"T_2ce32_row19_col5\" class=\"data row19 col5\" >0.000000</td>\n",
       "      <td id=\"T_2ce32_row19_col6\" class=\"data row19 col6\" >0.000000</td>\n",
       "      <td id=\"T_2ce32_row19_col7\" class=\"data row19 col7\" >0.000018</td>\n",
       "    </tr>\n",
       "  </tbody>\n",
       "</table>\n"
      ],
      "text/plain": [
       "<pandas.io.formats.style.Styler at 0x7fb4486cba30>"
      ]
     },
     "execution_count": 83,
     "metadata": {},
     "output_type": "execute_result"
    }
   ],
   "source": [
    "# create pfi dataframe\n",
    "\n",
    "perm_imp_df = pd.DataFrame()\n",
    "\n",
    "for i, model_name in enumerate(class_models.keys()):\n",
    "    if i == 0:\n",
    "        perm_imp_df = pd.DataFrame({'feature': x_cols, \n",
    "                                    model_name: class_models[model_name]['importances_mean']})\n",
    "    else:\n",
    "        df_temp = pd.DataFrame({'name': x_cols, \n",
    "                                model_name: class_models[model_name]['importances_mean']})\n",
    "        perm_imp_df = perm_imp_df.merge(df_temp, \n",
    "                                        how='outer', \n",
    "                                        left_index=True, \n",
    "                                        right_index=True).drop('name', axis=1)\n",
    "        \n",
    "# calculate the average pfi of every model\n",
    "# and save it in the dataframe itself\n",
    "\n",
    "perm_imp_df['avg_imp'] = perm_imp_df.mean(axis=1)\n",
    "perm_imp_df = perm_imp_df.sort_values('avg_imp', ascending=False).head(20)\n",
    "\n",
    "perm_imp_df.style.background_gradient(cmap='viridis_r', \n",
    "                                      low=0, high=0.2, \n",
    "                                      subset=[x for x in perm_imp_df.columns if not any(word in x for word in ['feature', 'avg_imp'])]\n",
    "                                      )"
   ]
  },
  {
   "attachments": {},
   "cell_type": "markdown",
   "metadata": {},
   "source": [
    "    Caution!\n",
    "    \n",
    "Again, the result from the analysis is quite weird given the fact that:\n",
    "\n",
    "- We've done duplicate records in the dataset, given the unclear instruction of the data\n",
    "- We sampling the data to the fraction of 0.1\n",
    "\n",
    "But, the purpose of this notebook here is to **show several model-agnostic methods and how to do it with Python.**"
   ]
  },
  {
   "cell_type": "markdown",
   "metadata": {},
   "source": [
    "    Disadvantage of PFI\n",
    "    \n",
    "- Multicollinearity will trump feature importances\n",
    "- As even though we shuffle the features, the interaction of the feature is still there"
   ]
  },
  {
   "cell_type": "markdown",
   "metadata": {},
   "source": []
  },
  {
   "attachments": {},
   "cell_type": "markdown",
   "metadata": {},
   "source": [
    "### Partial Dependence Plot (PDP)\n",
    "\n",
    "Conveys the marginal effect of a feature on the predcition throughout all possible values for that feature. The way it works is like this:\n",
    "\n",
    "1. **Select Predictor Variables:** Choose one or more predictor variables that you want to investigate and understand their impact on the target variable.\n",
    "\n",
    "2. **Fix Other Variables:** Keep all other predictor variables at fixed values. This means that for each value of the selected predictor variable(s), the PDP assumes the other variables remain constant.\n",
    "\n",
    "3. **Generate Predictions:** For each value of the selected predictor variable(s), make predictions using your trained machine learning model.\n",
    "\n",
    "4. **Observe the Relationship:** Plot the predicted values (e.g., the average or median predictions) of the target variable against the corresponding values of the selected predictor variable(s). This creates the partial dependence plot.\n",
    "\n",
    "5. **Interpret the Plot:** Analyze the shape and trend of the partial dependence plot. \n",
    "\n",
    "How to intrepret the PDP:\n",
    "\n",
    "- A flat line indicates that the predictor variable has little or no impact on the target variable. \n",
    "- A steep curve or non-linear shape suggests a stronger relationship between the predictor variable and the target variable. \n",
    "- Positive slopes indicate a positive relationship, while negative slopes indicate a negative relationship"
   ]
  },
  {
   "attachments": {},
   "cell_type": "markdown",
   "metadata": {},
   "source": [
    "    Decide the features we want to investigate"
   ]
  },
  {
   "cell_type": "code",
   "execution_count": 101,
   "metadata": {},
   "outputs": [
    {
     "data": {
      "text/plain": [
       "[0, 7, 53]"
      ]
     },
     "execution_count": 101,
     "metadata": {},
     "output_type": "execute_result"
    }
   ],
   "source": [
    "feature_names = ['onehotencoder__os_version_intermediate', 'onehotencoder__category_1_1', 'remainder__item_price']\n",
    "feature_idx = [list(x_cols).index(x) for x in feature_names]\n",
    "\n",
    "feature_idx"
   ]
  },
  {
   "cell_type": "markdown",
   "metadata": {},
   "source": [
    "    Plotting by Scikit-learn\n",
    "\n",
    "We can go by this way (a simpler approach)..."
   ]
  },
  {
   "cell_type": "code",
   "execution_count": 115,
   "metadata": {},
   "outputs": [
    {
     "data": {
      "image/png": "[encoded data removed]",
      "text/plain": [
       "<Figure size 1200x400 with 4 Axes>"
      ]
     },
     "metadata": {},
     "output_type": "display_data"
    }
   ],
   "source": [
    "from sklearn.inspection import partial_dependence  # to access the value rather than plotting\n",
    "from sklearn.inspection import PartialDependenceDisplay\n",
    "\n",
    "clf = class_models['gradient_boosting']['fitted']\n",
    "\n",
    "pdp_display = PartialDependenceDisplay.from_estimator(clf, x_train_trf.toarray(), feature_idx)\n",
    "\n",
    "fig = pdp_display.figure_\n",
    "\n",
    "fig.set_size_inches(12, 4)  \n",
    "sns.despine()"
   ]
  },
  {
   "attachments": {},
   "cell_type": "markdown",
   "metadata": {},
   "source": [
    "Or by this way to create the xlabel..."
   ]
  },
  {
   "cell_type": "code",
   "execution_count": 146,
   "metadata": {},
   "outputs": [
    {
     "data": {
      "image/png": "[encoded data removed]",
      "text/plain": [
       "<Figure size 1200x400 with 6 Axes>"
      ]
     },
     "metadata": {},
     "output_type": "display_data"
    }
   ],
   "source": [
    "# beware of this figure as they're not sharing the same y anymore\n",
    "# this code provided below only to show the way to change the xlabel is to set it explicitly using for loop subplots\n",
    "\n",
    "num_features = len(feature_idx)\n",
    "clf = class_models['gradient_boosting']['fitted']\n",
    "\n",
    "fig, axes = plt.subplots(1, num_features, figsize=(12, 4),sharey=True)\n",
    "\n",
    "for i, idx, name in zip(range(0, num_features), feature_idx, feature_names):\n",
    "    pdp_display = PartialDependenceDisplay.from_estimator(clf, x_train_trf.toarray(), [idx], ax=axes[i])\n",
    "    plt.xlabel(name)\n",
    "    plt.ylabel('')\n",
    "\n",
    "fig.tight_layout()\n",
    "sns.despine()"
   ]
  },
  {
   "attachments": {},
   "cell_type": "markdown",
   "metadata": {},
   "source": [
    "Based on the documentation, we can **investigate the interaction** as well like the one below..."
   ]
  },
  {
   "cell_type": "code",
   "execution_count": 147,
   "metadata": {},
   "outputs": [
    {
     "data": {
      "image/png": "[encoded data removed]",
      "text/plain": [
       "<Figure size 1200x400 with 4 Axes>"
      ]
     },
     "metadata": {},
     "output_type": "display_data"
    }
   ],
   "source": [
    "from sklearn.datasets import make_hastie_10_2\n",
    "from sklearn.ensemble import GradientBoostingClassifier\n",
    "from sklearn.inspection import PartialDependenceDisplay\n",
    "\n",
    "X, y = make_hastie_10_2(random_state=0)\n",
    "clf = GradientBoostingClassifier(n_estimators=100, learning_rate=1.0,\n",
    "                                 max_depth=1, random_state=0).fit(X, y)\n",
    "\n",
    "# the interaction is stated here,\n",
    "# by creating a tuple of the index that we want to see the interaction\n",
    "features = [0, 1, (0, 1)]\n",
    "\n",
    "PartialDependenceDisplay.from_estimator(clf, X, features).figure_.set_size_inches(12,4)"
   ]
  },
  {
   "cell_type": "markdown",
   "metadata": {},
   "source": [
    "    Disadvantage of PDP\n",
    "    \n",
    "- Simplified Representation: It can only display up to two features at a time\n",
    "- Assumption of Independence: PDPs assume independence between features, which may not be accurate in real-world scenarios"
   ]
  },
  {
   "cell_type": "markdown",
   "metadata": {},
   "source": []
  },
  {
   "attachments": {},
   "cell_type": "markdown",
   "metadata": {},
   "source": [
    "### Individual Conditional Expectation (ICE)\n",
    "\n",
    "ICE comes for an alternative if PDP obsecure the variance in the data as PDP averages out everything and we might lose a lot of data. \n",
    "\n",
    "The way it works:\n",
    "\n",
    "1. **Select a specific instance** from your dataset for which you want to analyze the relationship between a feature and the predicted outcome.\n",
    "\n",
    "2. **Choose the feature of interest** that you want to investigate (e.g., square footage).\n",
    "\n",
    "3. **Vary the value of the chosen feature for the selected instance** while keeping all other features fixed.\n",
    "\n",
    "4. **Make predictions using your machine learning model** for each different value of the chosen feature. Record the predicted outcome (e.g., housing price) for each variation.\n",
    "\n",
    "5. **Repeat steps 3 and 4 for multiple instances** in your dataset, selecting a new instance each time. This will help capture the variation in the relationship between the feature and predicted outcome across different instances.\n",
    "\n",
    "6. For each instance, **plot the recorded predicted outcomes on a graph**. The x-axis represents the different values of the feature, and the y-axis represents the predicted outcomes.\n",
    "\n",
    "7. **Each line on the plot represents the predicted outcome** trajectory for a specific instance as the feature value changes. The lines may have different shapes and slopes, indicating how the predicted outcome changes for each instance as the feature varies.\n",
    "\n",
    "8. Optionally, you can overlay the individual lines with an average line that represents the average predicted outcome across all instances for each feature value. This can provide additional context and help identify trends.\n",
    "\n",
    "9. Analyze the ICE plot to gain insights into the individual-level relationship between the feature and predicted outcome. Observe the variation in predicted outcomes for different instances as the feature value changes. Pay attention to differences in line shapes, slopes, and intersections to understand how the feature impacts the predicted outcome at the individual level"
   ]
  },
  {
   "cell_type": "markdown",
   "metadata": {},
   "source": [
    "    Select specific instance from the dataset"
   ]
  },
  {
   "cell_type": "code",
   "execution_count": 163,
   "metadata": {},
   "outputs": [
    {
     "name": "stdout",
     "output_type": "stream",
     "text": [
      "number of instances we're going to investigate: 793\n"
     ]
    }
   ],
   "source": [
    "sample_size = 0.01\n",
    "sample_idx = np.random.choice(df_main.shape[0],\n",
    "                              math.ceil(df_main.shape[0] * sample_size),\n",
    "                              replace=False)\n",
    "\n",
    "print(\"number of instances we're going to investigate:\", len(sample_idx))"
   ]
  },
  {
   "cell_type": "markdown",
   "metadata": {},
   "source": [
    "    Choosing the feature of interest"
   ]
  },
  {
   "cell_type": "code",
   "execution_count": 154,
   "metadata": {},
   "outputs": [
    {
     "data": {
      "text/plain": [
       "[0, 7, 53]"
      ]
     },
     "execution_count": 154,
     "metadata": {},
     "output_type": "execute_result"
    }
   ],
   "source": [
    "feature_names = ['onehotencoder__os_version_intermediate', 'onehotencoder__category_1_1', 'remainder__item_price']\n",
    "feature_idx = [list(x_cols).index(x) for x in feature_names]\n",
    "\n",
    "feature_idx"
   ]
  },
  {
   "cell_type": "markdown",
   "metadata": {},
   "source": [
    "    Steps 3-7 is done by scikit-learn module, by employing PartialDependenceDisplay.from_estimator() method"
   ]
  },
  {
   "cell_type": "code",
   "execution_count": null,
   "metadata": {},
   "outputs": [],
   "source": [
    "clf = class_models['gradient_boosting']['fitted']\n",
    "\n",
    "pdp_display = PartialDependenceDisplay.from_estimator(clf, \n",
    "                                                      x_train_trf.toarray()[sample_idx], \n",
    "                                                      feature_idx, \n",
    "                                                      kind='both')  # set kind to 'individual' to remove average line\n",
    "fig = pdp_display.figure_\n",
    "\n",
    "fig.set_size_inches(20, 4)\n",
    "sns.despine()"
   ]
  },
  {
   "attachments": {},
   "cell_type": "markdown",
   "metadata": {},
   "source": [
    "There's another variation called **Centered ICE (cICE)** where it centers the ICE at the first value on the x-axis...\n",
    "\n",
    "This is to take account of:\n",
    "\n",
    "- There are too many lines in an ICE plot, \n",
    "- It can be difficult to see differences between individual samples and interpret the model."
   ]
  },
  {
   "cell_type": "code",
   "execution_count": 173,
   "metadata": {},
   "outputs": [
    {
     "data": {
      "image/png": "[encoded data removed]",
      "text/plain": [
       "<Figure size 2000x400 with 4 Axes>"
      ]
     },
     "metadata": {},
     "output_type": "display_data"
    }
   ],
   "source": [
    "clf = class_models['gradient_boosting']['fitted']\n",
    "\n",
    "pdp_display = PartialDependenceDisplay.from_estimator(clf, \n",
    "                                                      x_train_trf.toarray()[sample_idx], \n",
    "                                                      feature_idx, \n",
    "                                                      kind='both',\n",
    "                                                      centered=True)  # set centered to true to make cICE\n",
    "fig = pdp_display.figure_\n",
    "\n",
    "fig.set_size_inches(20, 4)\n",
    "sns.despine()"
   ]
  },
  {
   "attachments": {},
   "cell_type": "markdown",
   "metadata": {},
   "source": [
    "    Disadvantage of ICE\n",
    "\n",
    "- ICE is inherited from PDP, so the problem PDP has, ICE will also share: assumption of independece of the features\n",
    "- ICE cannot see the interaction features with two continuous or high-cardinality features (like ID, column with a lot of unique data)"
   ]
  }
 ],
 "metadata": {
  "kernelspec": {
   "display_name": "base",
   "language": "python",
   "name": "python3"
  },
  "language_info": {
   "codemirror_mode": {
    "name": "ipython",
    "version": 3
   },
   "file_extension": ".py",
   "mimetype": "text/x-python",
   "name": "python",
   "nbconvert_exporter": "python",
   "pygments_lexer": "ipython3",
   "version": "3.9.13"
  },
  "orig_nbformat": 4,
  "vscode": {
   "interpreter": {
    "hash": "0fd9779e8d8f386467a1f1d1102cd9c30d79c45b15374f3d42e7180eb33a0483"
   }
  }
 },
 "nbformat": 4,
 "nbformat_minor": 2
}
