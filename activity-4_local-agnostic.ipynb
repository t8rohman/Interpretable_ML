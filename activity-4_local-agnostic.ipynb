{
 "cells": [
  {
   "attachments": {},
   "cell_type": "markdown",
   "metadata": {},
   "source": [
    "# Anchor and Counterfactual Explanation\n",
    "\n",
    "This notebook wil explain about another model to interpret Machine Learning called **Anchor Model**. Different to other models explained before (ALE, SHAP, PDP, PFI, etc.), this model is a local interpretation model to **derive human-interpretable rules** from model interpretation methods. Several keytakeaways you have to understand about Anchor before continuing:\n",
    "\n",
    "- Aims to identify concise and human-readable **\"if-then\"** rules that explain why a particular prediction was made. \n",
    "- Anchor method perturbs (making small modifications to the input data) instances, generates perturbed data, and derives anchor rules based on these perturbations.\n",
    "- Thus, it's able to derive a counterfactual expalanation as well.\n",
    "- Anchor method was **initially developed for classification models**, but its underlying principles and techniques can be adapted and extended to other types of machine learning models, including regression.\n",
    "\n",
    "The main topics in this activity are:\n",
    "\n",
    "1. Understanding anchor explanations\n",
    "2. Exploring counterfactual explanations\n",
    "3. Comparing with the contrastive explanation method"
   ]
  },
  {
   "attachments": {},
   "cell_type": "markdown",
   "metadata": {},
   "source": [
    "    Import every library that would be used for this activity"
   ]
  },
  {
   "cell_type": "code",
   "execution_count": 6,
   "metadata": {},
   "outputs": [],
   "source": [
    "import math\n",
    "import pandas as pd\n",
    "import numpy as np\n",
    "\n",
    "from sklearn.model_selection import train_test_split\n",
    "from sklearn import metrics\n",
    "\n",
    "# model that we're going to use, catboost (categorical booster)\n",
    "# gradient boosting library specifically designed for handling categorical features in machine learning tasks. \n",
    "\n",
    "from catboost import CatBoostClassifier\n",
    "from catboost import Pool\n",
    "\n",
    "import tensorflow as tf\n",
    "from tensorflow import keras\n",
    "from tensorflow.keras import layers\n",
    "\n",
    "import matplotlib.pyplot as plt\n",
    "import seaborn as sns\n",
    "\n",
    "# alibi is an open-source Python library that provides various methods interpretability in machine learning\n",
    "# one of them is to create anchor explainer, using AnchorTabular method\n",
    "\n",
    "from alibi.utils.mapping import ohe_to_ord, ord_to_ohe\n",
    "from alibi.explainers import AnchorTabular\n",
    "from alibi.explainers import CEM\n",
    "from alibi.explainers import CounterfactualProto  # CounterFactualProto is deprecated\n",
    "\n",
    "import shap"
   ]
  },
  {
   "attachments": {},
   "cell_type": "markdown",
   "metadata": {},
   "source": []
  },
  {
   "attachments": {},
   "cell_type": "markdown",
   "metadata": {},
   "source": [
    "# Dataset and Cleansing\n",
    "\n",
    "The data here uses **Mock Email Campaign Data** uploaded by Aristotelis Charalampous. The data are obtained from a hypothetical email campaign by serving 3 different Subject Lines across a three month period. There exist three tables to play around.\n",
    "\n",
    "- respond.csv (customer who responded to the email)\n",
    "- sent_emails.csv (emails sent to the customers)\n",
    "- userbase.csv (user profile - gender, type, email, age, tenure)\n",
    "\n",
    "For an email to be considered as success (valid responses), the emails should be opened at the sent date (i.e. sent_date should be equal to responded_date)."
   ]
  },
  {
   "attachments": {},
   "cell_type": "markdown",
   "metadata": {},
   "source": [
    "    Import and read the data"
   ]
  },
  {
   "cell_type": "code",
   "execution_count": 7,
   "metadata": {},
   "outputs": [
    {
     "name": "stdout",
     "output_type": "stream",
     "text": [
      "Skipping, found downloaded files in \"./playground-mock-email-campaign\" (use force=True to force download)\n"
     ]
    }
   ],
   "source": [
    "import opendatasets as od\n",
    "\n",
    "od.download('https://www.kaggle.com/datasets/aristotelisch/playground-mock-email-campaign')"
   ]
  },
  {
   "cell_type": "code",
   "execution_count": 8,
   "metadata": {},
   "outputs": [],
   "source": [
    "df_respond = pd.read_csv('playground-mock-email-campaign/responded.csv')\n",
    "df_sent = pd.read_csv('playground-mock-email-campaign/sent_emails.csv')\n",
    "df_user = pd.read_csv('playground-mock-email-campaign/userbase.csv')"
   ]
  },
  {
   "cell_type": "code",
   "execution_count": 9,
   "metadata": {},
   "outputs": [
    {
     "name": "stdout",
     "output_type": "stream",
     "text": [
      "<class 'pandas.core.frame.DataFrame'>\n",
      "RangeIndex: 378208 entries, 0 to 378207\n",
      "Data columns (total 3 columns):\n",
      " #   Column          Non-Null Count   Dtype \n",
      "---  ------          --------------   ----- \n",
      " 0   Responded_Date  378208 non-null  object\n",
      " 1   Customer_ID     378208 non-null  int64 \n",
      " 2   SubjectLine_ID  378208 non-null  int64 \n",
      "dtypes: int64(2), object(1)\n",
      "memory usage: 8.7+ MB\n"
     ]
    }
   ],
   "source": [
    "df_respond.info()"
   ]
  },
  {
   "cell_type": "code",
   "execution_count": 10,
   "metadata": {},
   "outputs": [
    {
     "name": "stdout",
     "output_type": "stream",
     "text": [
      "<class 'pandas.core.frame.DataFrame'>\n",
      "RangeIndex: 2476354 entries, 0 to 2476353\n",
      "Data columns (total 3 columns):\n",
      " #   Column          Dtype \n",
      "---  ------          ----- \n",
      " 0   Sent_Date       object\n",
      " 1   Customer_ID     int64 \n",
      " 2   SubjectLine_ID  int64 \n",
      "dtypes: int64(2), object(1)\n",
      "memory usage: 56.7+ MB\n"
     ]
    }
   ],
   "source": [
    "df_sent.info()"
   ]
  },
  {
   "cell_type": "code",
   "execution_count": 11,
   "metadata": {},
   "outputs": [
    {
     "name": "stdout",
     "output_type": "stream",
     "text": [
      "<class 'pandas.core.frame.DataFrame'>\n",
      "RangeIndex: 500000 entries, 0 to 499999\n",
      "Data columns (total 6 columns):\n",
      " #   Column         Non-Null Count   Dtype \n",
      "---  ------         --------------   ----- \n",
      " 0   Customer_ID    500000 non-null  int64 \n",
      " 1   Gender         500000 non-null  object\n",
      " 2   Type           500000 non-null  object\n",
      " 3   Email_Address  500000 non-null  object\n",
      " 4   Age            500000 non-null  int64 \n",
      " 5   Tenure         500000 non-null  int64 \n",
      "dtypes: int64(3), object(3)\n",
      "memory usage: 22.9+ MB\n"
     ]
    }
   ],
   "source": [
    "df_user.info()"
   ]
  },
  {
   "attachments": {},
   "cell_type": "markdown",
   "metadata": {},
   "source": []
  },
  {
   "attachments": {},
   "cell_type": "markdown",
   "metadata": {},
   "source": [
    "## Data Cleansing & Transformation"
   ]
  },
  {
   "attachments": {},
   "cell_type": "markdown",
   "metadata": {},
   "source": [
    "    Drop duplicated data"
   ]
  },
  {
   "cell_type": "code",
   "execution_count": 12,
   "metadata": {},
   "outputs": [
    {
     "name": "stdout",
     "output_type": "stream",
     "text": [
      "for dataframe number 0\n",
      "-----\n",
      "False    377848\n",
      "True        360\n",
      "dtype: int64\n",
      "\n",
      "\n",
      "for dataframe number 1\n",
      "-----\n",
      "False    2476354\n",
      "dtype: int64\n",
      "\n",
      "\n",
      "for dataframe number 2\n",
      "-----\n",
      "False    500000\n",
      "dtype: int64\n"
     ]
    }
   ],
   "source": [
    "list_of_df = [df_respond, df_sent, df_user]\n",
    "\n",
    "for i, df in enumerate(list_of_df):\n",
    "    print(f'for dataframe number {i}')\n",
    "    print('-----')\n",
    "    print(df.duplicated().value_counts())\n",
    "    \n",
    "    if i < 2:\n",
    "        print('\\n')\n",
    "    else:\n",
    "        pass"
   ]
  },
  {
   "cell_type": "code",
   "execution_count": 13,
   "metadata": {},
   "outputs": [
    {
     "name": "stdout",
     "output_type": "stream",
     "text": [
      "len before dropping duplicates: 378208\n",
      "len after dropping duplicates: 377848\n"
     ]
    }
   ],
   "source": [
    "# drop duplicate from respond data\n",
    "\n",
    "print('len before dropping duplicates:', len(df_respond))\n",
    "df_respond = df_respond.drop_duplicates(keep='first')\n",
    "\n",
    "print('len after dropping duplicates:', len(df_respond))"
   ]
  },
  {
   "attachments": {},
   "cell_type": "markdown",
   "metadata": {},
   "source": [
    "    Merging Dataframe"
   ]
  },
  {
   "cell_type": "code",
   "execution_count": 14,
   "metadata": {},
   "outputs": [],
   "source": [
    "# change column name for date to mail_date\n",
    "# for merging later\n",
    "\n",
    "df_sent = df_sent.rename(columns={'Sent_Date': 'mail_date'})\n",
    "df_respond = df_respond.rename(columns={'Responded_Date': 'mail_date'})\n",
    "\n",
    "df_respond['respond'] = 1"
   ]
  },
  {
   "cell_type": "code",
   "execution_count": 15,
   "metadata": {},
   "outputs": [],
   "source": [
    "# merging and coding respond with 1 and non-respond with 0\n",
    "\n",
    "df = df_sent.merge(df_respond, how='left', on=['Customer_ID', 'SubjectLine_ID', 'mail_date'])\n",
    "df['respond'] = df['respond'].fillna(0)"
   ]
  },
  {
   "cell_type": "code",
   "execution_count": 16,
   "metadata": {},
   "outputs": [
    {
     "data": {
      "text/plain": [
       "0.0    2247545\n",
       "1.0     228809\n",
       "Name: respond, dtype: int64"
      ]
     },
     "execution_count": 16,
     "metadata": {},
     "output_type": "execute_result"
    }
   ],
   "source": [
    "df['respond'].value_counts()"
   ]
  },
  {
   "cell_type": "code",
   "execution_count": 17,
   "metadata": {},
   "outputs": [
    {
     "name": "stdout",
     "output_type": "stream",
     "text": [
      "length of the dataframe: 2476354\n"
     ]
    }
   ],
   "source": [
    "print('length of the dataframe:', len(df))"
   ]
  },
  {
   "cell_type": "code",
   "execution_count": 18,
   "metadata": {},
   "outputs": [
    {
     "data": {
      "text/html": [
       "<div>\n",
       "<style scoped>\n",
       "    .dataframe tbody tr th:only-of-type {\n",
       "        vertical-align: middle;\n",
       "    }\n",
       "\n",
       "    .dataframe tbody tr th {\n",
       "        vertical-align: top;\n",
       "    }\n",
       "\n",
       "    .dataframe thead th {\n",
       "        text-align: right;\n",
       "    }\n",
       "</style>\n",
       "<table border=\"1\" class=\"dataframe\">\n",
       "  <thead>\n",
       "    <tr style=\"text-align: right;\">\n",
       "      <th></th>\n",
       "      <th>mail_date</th>\n",
       "      <th>Customer_ID</th>\n",
       "      <th>SubjectLine_ID</th>\n",
       "      <th>respond</th>\n",
       "      <th>Gender</th>\n",
       "      <th>Type</th>\n",
       "      <th>Email_Address</th>\n",
       "      <th>Age</th>\n",
       "      <th>Tenure</th>\n",
       "    </tr>\n",
       "  </thead>\n",
       "  <tbody>\n",
       "    <tr>\n",
       "      <th>0</th>\n",
       "      <td>2016-01-28</td>\n",
       "      <td>1413</td>\n",
       "      <td>2</td>\n",
       "      <td>0.0</td>\n",
       "      <td>M</td>\n",
       "      <td>B</td>\n",
       "      <td>Jaj2NuUJneD@gmail.com</td>\n",
       "      <td>44</td>\n",
       "      <td>12</td>\n",
       "    </tr>\n",
       "    <tr>\n",
       "      <th>1</th>\n",
       "      <td>2016-03-02</td>\n",
       "      <td>83889</td>\n",
       "      <td>2</td>\n",
       "      <td>0.0</td>\n",
       "      <td>M</td>\n",
       "      <td>C</td>\n",
       "      <td>Y1Se1qBYrUe@hotmail.com</td>\n",
       "      <td>29</td>\n",
       "      <td>23</td>\n",
       "    </tr>\n",
       "    <tr>\n",
       "      <th>2</th>\n",
       "      <td>2016-03-09</td>\n",
       "      <td>457832</td>\n",
       "      <td>3</td>\n",
       "      <td>0.0</td>\n",
       "      <td>M</td>\n",
       "      <td>C</td>\n",
       "      <td>vAF@gmail.com</td>\n",
       "      <td>26</td>\n",
       "      <td>14</td>\n",
       "    </tr>\n",
       "    <tr>\n",
       "      <th>3</th>\n",
       "      <td>2016-01-20</td>\n",
       "      <td>127772</td>\n",
       "      <td>1</td>\n",
       "      <td>0.0</td>\n",
       "      <td>M</td>\n",
       "      <td>C</td>\n",
       "      <td>QAWqTT@gmail.com</td>\n",
       "      <td>26</td>\n",
       "      <td>15</td>\n",
       "    </tr>\n",
       "    <tr>\n",
       "      <th>4</th>\n",
       "      <td>2016-02-03</td>\n",
       "      <td>192123</td>\n",
       "      <td>3</td>\n",
       "      <td>0.0</td>\n",
       "      <td>M</td>\n",
       "      <td>C</td>\n",
       "      <td>Qtgy0C@msn.com</td>\n",
       "      <td>33</td>\n",
       "      <td>9</td>\n",
       "    </tr>\n",
       "    <tr>\n",
       "      <th>...</th>\n",
       "      <td>...</td>\n",
       "      <td>...</td>\n",
       "      <td>...</td>\n",
       "      <td>...</td>\n",
       "      <td>...</td>\n",
       "      <td>...</td>\n",
       "      <td>...</td>\n",
       "      <td>...</td>\n",
       "      <td>...</td>\n",
       "    </tr>\n",
       "    <tr>\n",
       "      <th>2476349</th>\n",
       "      <td>2016-02-22</td>\n",
       "      <td>460565</td>\n",
       "      <td>3</td>\n",
       "      <td>0.0</td>\n",
       "      <td>M</td>\n",
       "      <td>C</td>\n",
       "      <td>zXC@gmail.com</td>\n",
       "      <td>20</td>\n",
       "      <td>9</td>\n",
       "    </tr>\n",
       "    <tr>\n",
       "      <th>2476350</th>\n",
       "      <td>2016-02-25</td>\n",
       "      <td>360823</td>\n",
       "      <td>2</td>\n",
       "      <td>0.0</td>\n",
       "      <td>M</td>\n",
       "      <td>B</td>\n",
       "      <td>RWZCOsi51@yahoo.com</td>\n",
       "      <td>41</td>\n",
       "      <td>15</td>\n",
       "    </tr>\n",
       "    <tr>\n",
       "      <th>2476351</th>\n",
       "      <td>2016-03-02</td>\n",
       "      <td>443177</td>\n",
       "      <td>2</td>\n",
       "      <td>0.0</td>\n",
       "      <td>F</td>\n",
       "      <td>C</td>\n",
       "      <td>Gie35rV0W@gmail.com</td>\n",
       "      <td>34</td>\n",
       "      <td>24</td>\n",
       "    </tr>\n",
       "    <tr>\n",
       "      <th>2476352</th>\n",
       "      <td>2016-03-12</td>\n",
       "      <td>179200</td>\n",
       "      <td>3</td>\n",
       "      <td>0.0</td>\n",
       "      <td>F</td>\n",
       "      <td>C</td>\n",
       "      <td>9GAWKtezhBeIywHST3@gmail.com</td>\n",
       "      <td>32</td>\n",
       "      <td>17</td>\n",
       "    </tr>\n",
       "    <tr>\n",
       "      <th>2476353</th>\n",
       "      <td>2016-01-17</td>\n",
       "      <td>68532</td>\n",
       "      <td>2</td>\n",
       "      <td>0.0</td>\n",
       "      <td>M</td>\n",
       "      <td>C</td>\n",
       "      <td>dwEHjR4@gmail.com</td>\n",
       "      <td>29</td>\n",
       "      <td>13</td>\n",
       "    </tr>\n",
       "  </tbody>\n",
       "</table>\n",
       "<p>2476354 rows × 9 columns</p>\n",
       "</div>"
      ],
      "text/plain": [
       "          mail_date  Customer_ID  SubjectLine_ID  respond Gender Type  \\\n",
       "0        2016-01-28         1413               2      0.0      M    B   \n",
       "1        2016-03-02        83889               2      0.0      M    C   \n",
       "2        2016-03-09       457832               3      0.0      M    C   \n",
       "3        2016-01-20       127772               1      0.0      M    C   \n",
       "4        2016-02-03       192123               3      0.0      M    C   \n",
       "...             ...          ...             ...      ...    ...  ...   \n",
       "2476349  2016-02-22       460565               3      0.0      M    C   \n",
       "2476350  2016-02-25       360823               2      0.0      M    B   \n",
       "2476351  2016-03-02       443177               2      0.0      F    C   \n",
       "2476352  2016-03-12       179200               3      0.0      F    C   \n",
       "2476353  2016-01-17        68532               2      0.0      M    C   \n",
       "\n",
       "                        Email_Address  Age  Tenure  \n",
       "0               Jaj2NuUJneD@gmail.com   44      12  \n",
       "1             Y1Se1qBYrUe@hotmail.com   29      23  \n",
       "2                       vAF@gmail.com   26      14  \n",
       "3                    QAWqTT@gmail.com   26      15  \n",
       "4                      Qtgy0C@msn.com   33       9  \n",
       "...                               ...  ...     ...  \n",
       "2476349                 zXC@gmail.com   20       9  \n",
       "2476350           RWZCOsi51@yahoo.com   41      15  \n",
       "2476351           Gie35rV0W@gmail.com   34      24  \n",
       "2476352  9GAWKtezhBeIywHST3@gmail.com   32      17  \n",
       "2476353             dwEHjR4@gmail.com   29      13  \n",
       "\n",
       "[2476354 rows x 9 columns]"
      ]
     },
     "execution_count": 18,
     "metadata": {},
     "output_type": "execute_result"
    }
   ],
   "source": [
    "# merging the final dataframe\n",
    "\n",
    "df = df.merge(df_user, how='left', on=['Customer_ID'])\n",
    "df"
   ]
  },
  {
   "attachments": {},
   "cell_type": "markdown",
   "metadata": {},
   "source": [
    "    Variable Transformation"
   ]
  },
  {
   "cell_type": "code",
   "execution_count": 19,
   "metadata": {},
   "outputs": [],
   "source": [
    "import datetime\n",
    "\n",
    "# convert mail_date to pandas datetime\n",
    " \n",
    "df['mail_date'] = pd.to_datetime(df['mail_date']).dt.date\n",
    "\n",
    "# extract the days from mail date\n",
    "\n",
    "df['date_day'] = df['mail_date'].apply(lambda d: datetime.datetime.strftime(d, '%A'))\n",
    "df['date_month'] = df['mail_date'].apply(lambda d: datetime.datetime.strftime(d, '%B'))"
   ]
  },
  {
   "cell_type": "code",
   "execution_count": 20,
   "metadata": {},
   "outputs": [],
   "source": [
    "# taking the domain of the mail\n",
    "# seeing whether domain of the email really affect people\n",
    "\n",
    "df['email_domain'] = df['Email_Address'].apply(lambda x: x.split('@')[1])"
   ]
  },
  {
   "cell_type": "code",
   "execution_count": 21,
   "metadata": {},
   "outputs": [
    {
     "data": {
      "text/plain": [
       "gmail.com      743771\n",
       "hotmail.com    621053\n",
       "msn.com        369992\n",
       "yahoo.com      320720\n",
       "aol.com        247943\n",
       "comcast.net    172875\n",
       "Name: email_domain, dtype: int64"
      ]
     },
     "execution_count": 21,
     "metadata": {},
     "output_type": "execute_result"
    }
   ],
   "source": [
    "df['email_domain'].value_counts()"
   ]
  },
  {
   "cell_type": "code",
   "execution_count": 22,
   "metadata": {},
   "outputs": [
    {
     "data": {
      "text/html": [
       "<div>\n",
       "<style scoped>\n",
       "    .dataframe tbody tr th:only-of-type {\n",
       "        vertical-align: middle;\n",
       "    }\n",
       "\n",
       "    .dataframe tbody tr th {\n",
       "        vertical-align: top;\n",
       "    }\n",
       "\n",
       "    .dataframe thead th {\n",
       "        text-align: right;\n",
       "    }\n",
       "</style>\n",
       "<table border=\"1\" class=\"dataframe\">\n",
       "  <thead>\n",
       "    <tr style=\"text-align: right;\">\n",
       "      <th></th>\n",
       "      <th>mail_date</th>\n",
       "      <th>Customer_ID</th>\n",
       "      <th>SubjectLine_ID</th>\n",
       "      <th>respond</th>\n",
       "      <th>Gender</th>\n",
       "      <th>Type</th>\n",
       "      <th>Email_Address</th>\n",
       "      <th>Age</th>\n",
       "      <th>Tenure</th>\n",
       "      <th>date_day</th>\n",
       "      <th>date_month</th>\n",
       "      <th>email_domain</th>\n",
       "    </tr>\n",
       "  </thead>\n",
       "  <tbody>\n",
       "    <tr>\n",
       "      <th>0</th>\n",
       "      <td>2016-01-28</td>\n",
       "      <td>1413</td>\n",
       "      <td>2</td>\n",
       "      <td>0.0</td>\n",
       "      <td>M</td>\n",
       "      <td>B</td>\n",
       "      <td>Jaj2NuUJneD@gmail.com</td>\n",
       "      <td>44</td>\n",
       "      <td>12</td>\n",
       "      <td>Thursday</td>\n",
       "      <td>January</td>\n",
       "      <td>gmail.com</td>\n",
       "    </tr>\n",
       "    <tr>\n",
       "      <th>1</th>\n",
       "      <td>2016-03-02</td>\n",
       "      <td>83889</td>\n",
       "      <td>2</td>\n",
       "      <td>0.0</td>\n",
       "      <td>M</td>\n",
       "      <td>C</td>\n",
       "      <td>Y1Se1qBYrUe@hotmail.com</td>\n",
       "      <td>29</td>\n",
       "      <td>23</td>\n",
       "      <td>Wednesday</td>\n",
       "      <td>March</td>\n",
       "      <td>hotmail.com</td>\n",
       "    </tr>\n",
       "    <tr>\n",
       "      <th>2</th>\n",
       "      <td>2016-03-09</td>\n",
       "      <td>457832</td>\n",
       "      <td>3</td>\n",
       "      <td>0.0</td>\n",
       "      <td>M</td>\n",
       "      <td>C</td>\n",
       "      <td>vAF@gmail.com</td>\n",
       "      <td>26</td>\n",
       "      <td>14</td>\n",
       "      <td>Wednesday</td>\n",
       "      <td>March</td>\n",
       "      <td>gmail.com</td>\n",
       "    </tr>\n",
       "    <tr>\n",
       "      <th>3</th>\n",
       "      <td>2016-01-20</td>\n",
       "      <td>127772</td>\n",
       "      <td>1</td>\n",
       "      <td>0.0</td>\n",
       "      <td>M</td>\n",
       "      <td>C</td>\n",
       "      <td>QAWqTT@gmail.com</td>\n",
       "      <td>26</td>\n",
       "      <td>15</td>\n",
       "      <td>Wednesday</td>\n",
       "      <td>January</td>\n",
       "      <td>gmail.com</td>\n",
       "    </tr>\n",
       "    <tr>\n",
       "      <th>4</th>\n",
       "      <td>2016-02-03</td>\n",
       "      <td>192123</td>\n",
       "      <td>3</td>\n",
       "      <td>0.0</td>\n",
       "      <td>M</td>\n",
       "      <td>C</td>\n",
       "      <td>Qtgy0C@msn.com</td>\n",
       "      <td>33</td>\n",
       "      <td>9</td>\n",
       "      <td>Wednesday</td>\n",
       "      <td>February</td>\n",
       "      <td>msn.com</td>\n",
       "    </tr>\n",
       "    <tr>\n",
       "      <th>...</th>\n",
       "      <td>...</td>\n",
       "      <td>...</td>\n",
       "      <td>...</td>\n",
       "      <td>...</td>\n",
       "      <td>...</td>\n",
       "      <td>...</td>\n",
       "      <td>...</td>\n",
       "      <td>...</td>\n",
       "      <td>...</td>\n",
       "      <td>...</td>\n",
       "      <td>...</td>\n",
       "      <td>...</td>\n",
       "    </tr>\n",
       "    <tr>\n",
       "      <th>2476349</th>\n",
       "      <td>2016-02-22</td>\n",
       "      <td>460565</td>\n",
       "      <td>3</td>\n",
       "      <td>0.0</td>\n",
       "      <td>M</td>\n",
       "      <td>C</td>\n",
       "      <td>zXC@gmail.com</td>\n",
       "      <td>20</td>\n",
       "      <td>9</td>\n",
       "      <td>Monday</td>\n",
       "      <td>February</td>\n",
       "      <td>gmail.com</td>\n",
       "    </tr>\n",
       "    <tr>\n",
       "      <th>2476350</th>\n",
       "      <td>2016-02-25</td>\n",
       "      <td>360823</td>\n",
       "      <td>2</td>\n",
       "      <td>0.0</td>\n",
       "      <td>M</td>\n",
       "      <td>B</td>\n",
       "      <td>RWZCOsi51@yahoo.com</td>\n",
       "      <td>41</td>\n",
       "      <td>15</td>\n",
       "      <td>Thursday</td>\n",
       "      <td>February</td>\n",
       "      <td>yahoo.com</td>\n",
       "    </tr>\n",
       "    <tr>\n",
       "      <th>2476351</th>\n",
       "      <td>2016-03-02</td>\n",
       "      <td>443177</td>\n",
       "      <td>2</td>\n",
       "      <td>0.0</td>\n",
       "      <td>F</td>\n",
       "      <td>C</td>\n",
       "      <td>Gie35rV0W@gmail.com</td>\n",
       "      <td>34</td>\n",
       "      <td>24</td>\n",
       "      <td>Wednesday</td>\n",
       "      <td>March</td>\n",
       "      <td>gmail.com</td>\n",
       "    </tr>\n",
       "    <tr>\n",
       "      <th>2476352</th>\n",
       "      <td>2016-03-12</td>\n",
       "      <td>179200</td>\n",
       "      <td>3</td>\n",
       "      <td>0.0</td>\n",
       "      <td>F</td>\n",
       "      <td>C</td>\n",
       "      <td>9GAWKtezhBeIywHST3@gmail.com</td>\n",
       "      <td>32</td>\n",
       "      <td>17</td>\n",
       "      <td>Saturday</td>\n",
       "      <td>March</td>\n",
       "      <td>gmail.com</td>\n",
       "    </tr>\n",
       "    <tr>\n",
       "      <th>2476353</th>\n",
       "      <td>2016-01-17</td>\n",
       "      <td>68532</td>\n",
       "      <td>2</td>\n",
       "      <td>0.0</td>\n",
       "      <td>M</td>\n",
       "      <td>C</td>\n",
       "      <td>dwEHjR4@gmail.com</td>\n",
       "      <td>29</td>\n",
       "      <td>13</td>\n",
       "      <td>Sunday</td>\n",
       "      <td>January</td>\n",
       "      <td>gmail.com</td>\n",
       "    </tr>\n",
       "  </tbody>\n",
       "</table>\n",
       "<p>2476354 rows × 12 columns</p>\n",
       "</div>"
      ],
      "text/plain": [
       "          mail_date  Customer_ID  SubjectLine_ID  respond Gender Type  \\\n",
       "0        2016-01-28         1413               2      0.0      M    B   \n",
       "1        2016-03-02        83889               2      0.0      M    C   \n",
       "2        2016-03-09       457832               3      0.0      M    C   \n",
       "3        2016-01-20       127772               1      0.0      M    C   \n",
       "4        2016-02-03       192123               3      0.0      M    C   \n",
       "...             ...          ...             ...      ...    ...  ...   \n",
       "2476349  2016-02-22       460565               3      0.0      M    C   \n",
       "2476350  2016-02-25       360823               2      0.0      M    B   \n",
       "2476351  2016-03-02       443177               2      0.0      F    C   \n",
       "2476352  2016-03-12       179200               3      0.0      F    C   \n",
       "2476353  2016-01-17        68532               2      0.0      M    C   \n",
       "\n",
       "                        Email_Address  Age  Tenure   date_day date_month  \\\n",
       "0               Jaj2NuUJneD@gmail.com   44      12   Thursday    January   \n",
       "1             Y1Se1qBYrUe@hotmail.com   29      23  Wednesday      March   \n",
       "2                       vAF@gmail.com   26      14  Wednesday      March   \n",
       "3                    QAWqTT@gmail.com   26      15  Wednesday    January   \n",
       "4                      Qtgy0C@msn.com   33       9  Wednesday   February   \n",
       "...                               ...  ...     ...        ...        ...   \n",
       "2476349                 zXC@gmail.com   20       9     Monday   February   \n",
       "2476350           RWZCOsi51@yahoo.com   41      15   Thursday   February   \n",
       "2476351           Gie35rV0W@gmail.com   34      24  Wednesday      March   \n",
       "2476352  9GAWKtezhBeIywHST3@gmail.com   32      17   Saturday      March   \n",
       "2476353             dwEHjR4@gmail.com   29      13     Sunday    January   \n",
       "\n",
       "        email_domain  \n",
       "0          gmail.com  \n",
       "1        hotmail.com  \n",
       "2          gmail.com  \n",
       "3          gmail.com  \n",
       "4            msn.com  \n",
       "...              ...  \n",
       "2476349    gmail.com  \n",
       "2476350    yahoo.com  \n",
       "2476351    gmail.com  \n",
       "2476352    gmail.com  \n",
       "2476353    gmail.com  \n",
       "\n",
       "[2476354 rows x 12 columns]"
      ]
     },
     "execution_count": 22,
     "metadata": {},
     "output_type": "execute_result"
    }
   ],
   "source": [
    "# final dataframe print\n",
    "\n",
    "df"
   ]
  },
  {
   "attachments": {},
   "cell_type": "markdown",
   "metadata": {},
   "source": []
  },
  {
   "attachments": {},
   "cell_type": "markdown",
   "metadata": {},
   "source": [
    "# Data Preparation and Model Training"
   ]
  },
  {
   "attachments": {},
   "cell_type": "markdown",
   "metadata": {},
   "source": [
    "    Data Inspection for Imbalance in the Response"
   ]
  },
  {
   "cell_type": "code",
   "execution_count": 23,
   "metadata": {},
   "outputs": [
    {
     "data": {
      "text/plain": [
       "0.0    2247545\n",
       "1.0     228809\n",
       "Name: respond, dtype: int64"
      ]
     },
     "execution_count": 23,
     "metadata": {},
     "output_type": "execute_result"
    }
   ],
   "source": [
    "df['respond'].value_counts()"
   ]
  },
  {
   "cell_type": "code",
   "execution_count": 24,
   "metadata": {},
   "outputs": [
    {
     "data": {
      "image/png": "[encoded data removed]",
      "text/plain": [
       "<Figure size 640x480 with 1 Axes>"
      ]
     },
     "metadata": {},
     "output_type": "display_data"
    }
   ],
   "source": [
    "df['respond'].value_counts(normalize=True).plot(kind='bar', ylim=(0,1))\n",
    "sns.despine()"
   ]
  },
  {
   "attachments": {},
   "cell_type": "markdown",
   "metadata": {},
   "source": [
    "    Warning! There's a Class Imbalance\n",
    "\n",
    "If we have this, there are 2 things we can do, which are:\n",
    "\n",
    "1. Random Under-sampling: Removing some observations of the majority class\n",
    "2. Random Over-sampling: Adding more copies to the minority class"
   ]
  },
  {
   "attachments": {},
   "cell_type": "markdown",
   "metadata": {},
   "source": [
    "### Random Under-sampling Using Imblearn"
   ]
  },
  {
   "cell_type": "code",
   "execution_count": 25,
   "metadata": {},
   "outputs": [],
   "source": [
    "# set random seed\n",
    "\n",
    "rand = 9\n",
    "np.random.seed(rand)\n",
    "tf.random.set_seed(rand)"
   ]
  },
  {
   "cell_type": "code",
   "execution_count": 26,
   "metadata": {},
   "outputs": [],
   "source": [
    "# define x and y variable for the model\n",
    "\n",
    "y = df['respond']\n",
    "x = df.drop(['mail_date', 'Customer_ID', 'Email_Address', 'respond'], axis=1)"
   ]
  },
  {
   "cell_type": "code",
   "execution_count": 27,
   "metadata": {},
   "outputs": [
    {
     "name": "stdout",
     "output_type": "stream",
     "text": [
      "original dataset shape: 2476354\n",
      "Resample dataset shape 457618\n"
     ]
    }
   ],
   "source": [
    "from imblearn.under_sampling import RandomUnderSampler\n",
    "\n",
    "rus = RandomUnderSampler(random_state=42, replacement=True)  # fit predictor and target variable\n",
    "x_rus, y_rus = rus.fit_resample(x, y)\n",
    "\n",
    "print('original dataset shape:', len(y))\n",
    "print('Resample dataset shape', len(y_rus))"
   ]
  },
  {
   "cell_type": "code",
   "execution_count": 28,
   "metadata": {},
   "outputs": [
    {
     "data": {
      "text/plain": [
       "0.0    228809\n",
       "1.0    228809\n",
       "Name: respond, dtype: int64"
      ]
     },
     "execution_count": 28,
     "metadata": {},
     "output_type": "execute_result"
    }
   ],
   "source": [
    "y_rus.value_counts()"
   ]
  },
  {
   "attachments": {},
   "cell_type": "markdown",
   "metadata": {},
   "source": [
    "For more additional information about how to tackle the problem of imbalance dataset, see this:\n",
    "- Documentation for Imbalance Learned: https://imbalanced-learn.org/stable/\n",
    "- Collection on How to Do It and it's Tutorial: https://www.analyticsvidhya.com/blog/2020/07/10-techniques-to-deal-with-class-imbalance-in-machine-learning/"
   ]
  },
  {
   "attachments": {},
   "cell_type": "markdown",
   "metadata": {},
   "source": [
    "    Train-Test Split"
   ]
  },
  {
   "cell_type": "code",
   "execution_count": 29,
   "metadata": {},
   "outputs": [],
   "source": [
    "x_train, x_test, y_train, y_test = train_test_split(x_rus, y_rus, test_size=0.2, random_state=rand)"
   ]
  },
  {
   "cell_type": "code",
   "execution_count": 30,
   "metadata": {},
   "outputs": [
    {
     "data": {
      "text/html": [
       "<div>\n",
       "<style scoped>\n",
       "    .dataframe tbody tr th:only-of-type {\n",
       "        vertical-align: middle;\n",
       "    }\n",
       "\n",
       "    .dataframe tbody tr th {\n",
       "        vertical-align: top;\n",
       "    }\n",
       "\n",
       "    .dataframe thead th {\n",
       "        text-align: right;\n",
       "    }\n",
       "</style>\n",
       "<table border=\"1\" class=\"dataframe\">\n",
       "  <thead>\n",
       "    <tr style=\"text-align: right;\">\n",
       "      <th></th>\n",
       "      <th>SubjectLine_ID</th>\n",
       "      <th>Gender</th>\n",
       "      <th>Type</th>\n",
       "      <th>Age</th>\n",
       "      <th>Tenure</th>\n",
       "      <th>date_day</th>\n",
       "      <th>date_month</th>\n",
       "      <th>email_domain</th>\n",
       "    </tr>\n",
       "  </thead>\n",
       "  <tbody>\n",
       "    <tr>\n",
       "      <th>264300</th>\n",
       "      <td>3</td>\n",
       "      <td>F</td>\n",
       "      <td>B</td>\n",
       "      <td>34</td>\n",
       "      <td>8</td>\n",
       "      <td>Monday</td>\n",
       "      <td>February</td>\n",
       "      <td>msn.com</td>\n",
       "    </tr>\n",
       "    <tr>\n",
       "      <th>125285</th>\n",
       "      <td>2</td>\n",
       "      <td>F</td>\n",
       "      <td>C</td>\n",
       "      <td>30</td>\n",
       "      <td>23</td>\n",
       "      <td>Tuesday</td>\n",
       "      <td>January</td>\n",
       "      <td>hotmail.com</td>\n",
       "    </tr>\n",
       "    <tr>\n",
       "      <th>126918</th>\n",
       "      <td>2</td>\n",
       "      <td>F</td>\n",
       "      <td>C</td>\n",
       "      <td>33</td>\n",
       "      <td>14</td>\n",
       "      <td>Friday</td>\n",
       "      <td>February</td>\n",
       "      <td>yahoo.com</td>\n",
       "    </tr>\n",
       "    <tr>\n",
       "      <th>215133</th>\n",
       "      <td>3</td>\n",
       "      <td>M</td>\n",
       "      <td>C</td>\n",
       "      <td>29</td>\n",
       "      <td>14</td>\n",
       "      <td>Saturday</td>\n",
       "      <td>March</td>\n",
       "      <td>gmail.com</td>\n",
       "    </tr>\n",
       "    <tr>\n",
       "      <th>105206</th>\n",
       "      <td>3</td>\n",
       "      <td>M</td>\n",
       "      <td>C</td>\n",
       "      <td>32</td>\n",
       "      <td>12</td>\n",
       "      <td>Tuesday</td>\n",
       "      <td>January</td>\n",
       "      <td>msn.com</td>\n",
       "    </tr>\n",
       "    <tr>\n",
       "      <th>...</th>\n",
       "      <td>...</td>\n",
       "      <td>...</td>\n",
       "      <td>...</td>\n",
       "      <td>...</td>\n",
       "      <td>...</td>\n",
       "      <td>...</td>\n",
       "      <td>...</td>\n",
       "      <td>...</td>\n",
       "    </tr>\n",
       "    <tr>\n",
       "      <th>173819</th>\n",
       "      <td>1</td>\n",
       "      <td>M</td>\n",
       "      <td>C</td>\n",
       "      <td>22</td>\n",
       "      <td>24</td>\n",
       "      <td>Monday</td>\n",
       "      <td>February</td>\n",
       "      <td>yahoo.com</td>\n",
       "    </tr>\n",
       "    <tr>\n",
       "      <th>415800</th>\n",
       "      <td>3</td>\n",
       "      <td>F</td>\n",
       "      <td>C</td>\n",
       "      <td>25</td>\n",
       "      <td>28</td>\n",
       "      <td>Friday</td>\n",
       "      <td>February</td>\n",
       "      <td>hotmail.com</td>\n",
       "    </tr>\n",
       "    <tr>\n",
       "      <th>196534</th>\n",
       "      <td>1</td>\n",
       "      <td>F</td>\n",
       "      <td>C</td>\n",
       "      <td>31</td>\n",
       "      <td>15</td>\n",
       "      <td>Thursday</td>\n",
       "      <td>January</td>\n",
       "      <td>msn.com</td>\n",
       "    </tr>\n",
       "    <tr>\n",
       "      <th>187006</th>\n",
       "      <td>1</td>\n",
       "      <td>M</td>\n",
       "      <td>B</td>\n",
       "      <td>34</td>\n",
       "      <td>9</td>\n",
       "      <td>Thursday</td>\n",
       "      <td>January</td>\n",
       "      <td>gmail.com</td>\n",
       "    </tr>\n",
       "    <tr>\n",
       "      <th>348508</th>\n",
       "      <td>1</td>\n",
       "      <td>M</td>\n",
       "      <td>C</td>\n",
       "      <td>36</td>\n",
       "      <td>10</td>\n",
       "      <td>Saturday</td>\n",
       "      <td>February</td>\n",
       "      <td>yahoo.com</td>\n",
       "    </tr>\n",
       "  </tbody>\n",
       "</table>\n",
       "<p>366094 rows × 8 columns</p>\n",
       "</div>"
      ],
      "text/plain": [
       "        SubjectLine_ID Gender Type  Age  Tenure  date_day date_month  \\\n",
       "264300               3      F    B   34       8    Monday   February   \n",
       "125285               2      F    C   30      23   Tuesday    January   \n",
       "126918               2      F    C   33      14    Friday   February   \n",
       "215133               3      M    C   29      14  Saturday      March   \n",
       "105206               3      M    C   32      12   Tuesday    January   \n",
       "...                ...    ...  ...  ...     ...       ...        ...   \n",
       "173819               1      M    C   22      24    Monday   February   \n",
       "415800               3      F    C   25      28    Friday   February   \n",
       "196534               1      F    C   31      15  Thursday    January   \n",
       "187006               1      M    B   34       9  Thursday    January   \n",
       "348508               1      M    C   36      10  Saturday   February   \n",
       "\n",
       "       email_domain  \n",
       "264300      msn.com  \n",
       "125285  hotmail.com  \n",
       "126918    yahoo.com  \n",
       "215133    gmail.com  \n",
       "105206      msn.com  \n",
       "...             ...  \n",
       "173819    yahoo.com  \n",
       "415800  hotmail.com  \n",
       "196534      msn.com  \n",
       "187006    gmail.com  \n",
       "348508    yahoo.com  \n",
       "\n",
       "[366094 rows x 8 columns]"
      ]
     },
     "execution_count": 30,
     "metadata": {},
     "output_type": "execute_result"
    }
   ],
   "source": [
    "x_train"
   ]
  },
  {
   "attachments": {},
   "cell_type": "markdown",
   "metadata": {},
   "source": []
  },
  {
   "attachments": {},
   "cell_type": "markdown",
   "metadata": {},
   "source": [
    "## Model Training: CatBoost Classifier\n",
    "\n",
    "- CatBoostClassifier can encode categorical variables directly without creating a preprocessing pipeline\n",
    "- Specify the **cat_features** parameter by the indices of the categorical features in our training dataset"
   ]
  },
  {
   "cell_type": "code",
   "execution_count": 31,
   "metadata": {},
   "outputs": [],
   "source": [
    "# fitting the model\n",
    "\n",
    "cat_feature_indices = [1, 2, 5, 6, 7]\n",
    "\n",
    "cb_mdl = CatBoostClassifier(iterations=500,\n",
    "                            learning_rate=0.5,\n",
    "                            depth=8,\n",
    "                            cat_features=cat_feature_indices  # pass the categorical feature indices here\n",
    "                            )  \n",
    "\n",
    "fitted_cb_mdl = cb_mdl.fit(x_train, y_train, verbose=False)"
   ]
  },
  {
   "cell_type": "code",
   "execution_count": 32,
   "metadata": {},
   "outputs": [
    {
     "name": "stdout",
     "output_type": "stream",
     "text": [
      "{'Accuracy': [0.527348018006206, 0.5265176347187623, 0.5274682050609676, 0.5268781958830471, 0.5275119094445173, 0.5272496831432193, 0.5273589441020934, 0.527348018006206, 0.5270748656090206, 0.5272496831432193, 0.5274026484856431, 0.5273370919103186, 0.5273370919103186, 0.5273370919103186, 0.52716227437612, 0.5264957825269875, 0.5266487478694113, 0.526692452252961, 0.5266268956776364, 0.5267689349241729, 0.5267798610200604, 0.5263865215681133, 0.5263209649927888, 0.5265176347187623, 0.5267033783488484, 0.5263865215681133, 0.5265504130064246, 0.5261242952668153, 0.5261352213627026, 0.5259385516367292, 0.5262663345133517, 0.5256981775272059, 0.5250426117739609, 0.5253376163629212, 0.525097242253398, 0.5254578034176828, 0.5248787203356496, 0.5244526025960404, 0.5241138936235304, 0.5241794501988549, 0.5243324155412787, 0.5237205541715834, 0.5237205541715834, 0.5238188890345702, 0.5238625934181198, 0.5237314802674709, 0.524703902801451, 0.5244307504042656, 0.5245509374590271, 0.52449630697959, 0.5240920414317556, 0.5243761199248285, 0.5241903762947424, 0.5241794501988549, 0.5237205541715834, 0.5241903762947424, 0.5242668589659543, 0.5244744547878152, 0.5241466719111927, 0.5239062978016695, 0.5242887111577291, 0.5238298151304576, 0.523840741226345, 0.5244198243083781, 0.5245618635549145, 0.5244853808837027, 0.5239172238975569, 0.523633145404484, 0.5235675888291595, 0.524234080678292, 0.5240374109523185, 0.5239172238975569, 0.5240592631440933, 0.5238298151304576, 0.5240374109523185, 0.5242013023906298, 0.5237205541715834, 0.5241903762947424, 0.5244307504042656, 0.5246055679384642, 0.5240811153358682, 0.5240920414317556, 0.5240701892399807, 0.5242013023906298, 0.523971854376994, 0.5239500021852191, 0.5241248197194178, 0.5241248197194178, 0.5240264848564311, 0.5235129583497224, 0.523447401774398, 0.5235566627332722, 0.5236987019798086, 0.5233053625278615, 0.5235894410209344, 0.5235238844456099, 0.5238188890345702, 0.524048337048206, 0.5236659236921464, 0.523709628075696, 0.5236659236921464, 0.523709628075696, 0.5233272147196364, 0.5232725842401993, 0.5234255495826231, 0.5233381408155238, 0.5233053625278615, 0.5232507320484244, 0.5232288798566497, 0.5230103579389013, 0.5228355404047026, 0.5228573925964775, 0.5228901708841397, 0.5230431362265635, 0.5232507320484244, 0.5230977667060006, 0.5229338752676893, 0.5231961015689873, 0.5230212840347886, 0.5230212840347886, 0.5226170184869542, 0.5227044272540535, 0.5230322101306761, 0.5230103579389013, 0.5230759145142257, 0.5230322101306761, 0.5225623880075172, 0.5229338752676893, 0.5229010969800271, 0.5226279445828417, 0.5230322101306761, 0.522977579651239, 0.5228683186923648, 0.5227809099252655, 0.5226279445828417, 0.5230212840347886, 0.5235457366373847, 0.5228136882129277, 0.5232288798566497, 0.5227590577334906, 0.5230103579389013, 0.5229885057471264, 0.5227262794458284, 0.5224749792404179, 0.5224859053363052, 0.5222783095144443, 0.5219505266378218, 0.5218303395830601, 0.5217647830077357, 0.5222346051308946, 0.5220707136925834, 0.5224094226650933, 0.5223875704733185, 0.5223657182815437, 0.5219942310213714, 0.523054062322451, 0.5231196188977755, 0.5229885057471264, 0.5227918360211529, 0.5227262794458284, 0.5224640531445304, 0.522190900747345, 0.5220270093090337, 0.5219833049254841, 0.5220925658843582, 0.5219833049254841, 0.5221690485555701, 0.5225186836239675, 0.5225733141034046, 0.5224749792404179, 0.5227481316376033, 0.5225623880075172, 0.5224968314321926, 0.5224640531445304, 0.5222892356103317, 0.5222236790350072, 0.5225951662951794, 0.5223438660897688, 0.5226607228705039, 0.5223984965692059, 0.5222673834185568, 0.5223875704733185, 0.5220051571172588, 0.5223110878021066, 0.5225733141034046, 0.5227809099252655, 0.5227262794458284, 0.52284646650059, 0.5226935011581662, 0.52284646650059, 0.5222892356103317, 0.5227481316376033, 0.5225623880075172, 0.522453127048643, 0.5223329399938814, 0.5218631178707225, 0.5219505266378218, 0.5220707136925834, 0.5222018268432324, 0.5218958961583847, 0.5219396005419343, 0.5221034919802456, 0.5222673834185568, 0.5224203487609808, 0.5225623880075172, 0.5225733141034046, 0.5226825750622788, 0.5226716489663913, 0.5220816397884708, 0.5219723788295966, 0.5223875704733185, 0.5222892356103317, 0.522376644377431, 0.5220488615008085, 0.5219833049254841, 0.5216336698570867, 0.5217538569118483, 0.5217866351995105, 0.5217101525282986, 0.5220379354049212, 0.5220379354049212, 0.5222346051308946, 0.5224203487609808, 0.5223547921856562, 0.5223001617062192, 0.5220707136925834, 0.5220925658843582, 0.5225405358157423, 0.5222346051308946, 0.5220816397884708, 0.5224094226650933, 0.5227918360211529, 0.5224859053363052, 0.5221799746514575, 0.5221253441720205, 0.5221362702679079, 0.5221799746514575, 0.5220597875966959, 0.5214479262270005, 0.5216227437611992, 0.521721078624186, 0.5216445959529741, 0.5215025567064376, 0.5216118176653118, 0.521327739172239, 0.5213932957475634, 0.5216664481447489, 0.5216992264324112, 0.5214370001311132, 0.5216555220488615, 0.5219614527337092, 0.5219723788295966, 0.5220379354049212, 0.5219723788295966, 0.5216883003365238, 0.5216992264324112, 0.5216336698570867, 0.5218194134871728, 0.521721078624186, 0.5211310694462654, 0.521327739172239, 0.5218194134871728, 0.5223547921856562, 0.5224094226650933, 0.5220379354049212, 0.5220707136925834, 0.5219068222542721, 0.5216883003365238, 0.5219723788295966, 0.5217866351995105, 0.5216118176653118, 0.5218084873912854, 0.5217429308159608, 0.5216336698570867, 0.5216883003365238, 0.5215025567064376, 0.5214042218434509, 0.5212949608845767, 0.5211747738298151, 0.5210873650627158, 0.5209781041038416, 0.5206284690354442, 0.5208142126655304, 0.5208688431449674, 0.52119662602159, 0.5207705082819807, 0.5208142126655304, 0.5208032865696429, 0.5208906953367423, 0.5211747738298151, 0.52085791704908, 0.5208688431449674, 0.5210764389668284, 0.5210982911586032, 0.5210982911586032, 0.5208032865696429, 0.52085791704908, 0.520595690747782, 0.52051920807657, 0.5208469909531926, 0.5208142126655304, 0.5213058869804641, 0.5211419955421529, 0.521327739172239, 0.5211310694462654, 0.5211529216380403, 0.5207049517066562, 0.5208032865696429, 0.5212294043092522, 0.5214697784187754, 0.5214260740352258, 0.5213823696516761, 0.5215571871858747, 0.5212294043092522, 0.5213823696516761, 0.5210327345832787, 0.5209890301997291, 0.5212731086928019, 0.521458852322888, 0.521120143350378, 0.5212294043092522, 0.5215462610899874, 0.5213058869804641, 0.5212621825969145, 0.5212731086928019, 0.5212403304051396, 0.5213386652681264, 0.5207705082819807, 0.5207705082819807, 0.5206830995148813, 0.5206066168436694, 0.5206940256107687, 0.5209562519120667, 0.5208688431449674, 0.5209016214326297, 0.5202788339670469, 0.5205738385560071, 0.5207923604737555, 0.5210545867750536, 0.5209453258161794, 0.5207595821860933, 0.5209671780079542, 0.521120143350378, 0.5210764389668284, 0.5216992264324112, 0.521721078624186, 0.5208797692408549, 0.5204536515012456, 0.5201258686246231, 0.5201477208163979, 0.5203006861588217, 0.5204427254053582, 0.5204208732135833, 0.5203225383505966, 0.5197216030767886, 0.5201477208163979, 0.5202460556793846, 0.5203116122547091, 0.5197980857480006, 0.5195358594467026, 0.5195577116384773, 0.5195686377343648, 0.5197980857480006, 0.5198308640356628, 0.5198527162274376, 0.5201477208163979, 0.5198854945150999, 0.5198199379397753, 0.5196123421179144, 0.5196778986932389, 0.5196669725973515, 0.5194375245837157, 0.5194484506796032, 0.5194593767754906, 0.5196669725973515, 0.5201586469122853, 0.5200166076657489, 0.5199619771863118, 0.5201040164328482, 0.5202788339670469, 0.520333464446484, 0.5205301341724575, 0.5208360648573052, 0.5208251387614178, 0.5210982911586032, 0.5207705082819807, 0.5208469909531926, 0.5206284690354442, 0.5204645775971329, 0.520256981775272, 0.5201695730081727, 0.5201695730081727, 0.5202242034876098, 0.5201695730081727, 0.5200166076657489, 0.5197653074603382, 0.5199510510904244, 0.5199729032821993, 0.5198308640356628, 0.5199182728027621, 0.5199838293780866, 0.5201149425287356, 0.5198964206109873, 0.5197543813644508, 0.5198964206109873, 0.5197762335562257, 0.5198199379397753, 0.519601416022027, 0.5195030811590402, 0.5196778986932389, 0.5196888247891264, 0.5196451204055766, 0.5195686377343648, 0.5195795638302522, 0.5195140072549277, 0.5196451204055766, 0.519732529172676, 0.5197216030767886, 0.5197980857480006, 0.519863642323325, 0.5201149425287356, 0.5200493859534111, 0.5197543813644508, 0.5197106769809012, 0.5198745684192124, 0.5196560465014641, 0.5203990210218085, 0.5202788339670469, 0.5201477208163979, 0.5203443905423714, 0.5202132773917224, 0.5201367947205104, 0.5203553166382588, 0.520409947117696, 0.5204317993094707, 0.5205629124601198, 0.5205629124601198, 0.5203225383505966, 0.5202242034876098, 0.5202132773917224, 0.520071238145186, 0.5201258686246231, 0.5202132773917224, 0.5201586469122853, 0.5201586469122853, 0.5200166076657489, 0.5201804991040602, 0.5203771688300336, 0.5199073467068747, 0.5198964206109873, 0.5199182728027621, 0.5199510510904244, 0.5199838293780866, 0.5200930903369608, 0.5200166076657489, 0.5201804991040602, 0.5199510510904244, 0.5198964206109873, 0.520256981775272, 0.5201914251999475, 0.5199401249945369, 0.5200930903369608, 0.5200603120492986, 0.5196997508850137, 0.5196123421179144, 0.5201040164328482, 0.5199838293780866, 0.5199729032821993, 0.5196123421179144, 0.519732529172676, 0.5200166076657489, 0.5200384598575237, 0.5203443905423714, 0.5195686377343648, 0.5200384598575237, 0.5201586469122853, 0.5201586469122853, 0.5203880949259211, 0.5206830995148813, 0.5207377299943184, 0.5207377299943184, 0.5203662427341462, 0.5205410602683449, 0.5206940256107687, 0.520595690747782, 0.5206284690354442, 0.5203662427341462, 0.5203553166382588, 0.5200930903369608, 0.5202460556793846, 0.5203225383505966, 0.5202897600629343, 0.5201586469122853, 0.5197543813644508, 0.5196997508850137, 0.519470302871378, 0.5201804991040602, 0.5201477208163979, 0.5203662427341462, 0.5206284690354442], 'AUC': [0.5378761522638545, 0.5369783513081158, 0.53743962191314, 0.537225084369711, 0.5376525101062817, 0.5376824407522959, 0.5376644729098131, 0.5376276058242293, 0.537639535440197, 0.5376596005456972, 0.5376961493649328, 0.5376626927193466, 0.5376626927193466, 0.5376626927193466, 0.5376616980474739, 0.5372556496383458, 0.5372395543862369, 0.5372507125704187, 0.5371928556639811, 0.5372592174208216, 0.5372592174208216, 0.5372406416967767, 0.53733927871744, 0.5373519678272213, 0.5373617318949687, 0.5373337822361192, 0.5371206359440109, 0.5369765484355015, 0.5366412988888508, 0.5366094665238096, 0.5364142606168473, 0.5361308044416172, 0.5361876542606906, 0.5361827171927634, 0.5358219144158726, 0.5355444389261299, 0.5353419601675315, 0.5353519152428398, 0.5352464284522876, 0.535268956600284, 0.5353675236644281, 0.5348672734301979, 0.5348832815351071, 0.5348617093799525, 0.5347832038399167, 0.5347932537027269, 0.5347867319883237, 0.5345878009564073, 0.5344858012476366, 0.5346151830840419, 0.5347164252090747, 0.5345101461162953, 0.5343862075178533, 0.5341728766646894, 0.5341182284465135, 0.5342280348730526, 0.5341992712832347, 0.5340537127777478, 0.5343450687869321, 0.5342958050718944, 0.5344178698861654, 0.5339519821508782, 0.5338866341666665, 0.5337207713187097, 0.5334918759756965, 0.5335926319864871, 0.5332404360102849, 0.5332308068416273, 0.5332017483838875, 0.5334392997120361, 0.5334248237265237, 0.533425226274958, 0.5333271269405783, 0.5332267297852424, 0.5334262324072845, 0.5331585778100385, 0.5330474472235843, 0.5329082569101736, 0.533256328078101, 0.5332511541607984, 0.5329680938487381, 0.532702709376352, 0.5325556199452655, 0.5326524364251151, 0.5325459649905872, 0.5324554001882017, 0.5325012295872965, 0.5325068351816864, 0.5323781586406993, 0.5323702958144599, 0.5324618954003059, 0.5324268412152333, 0.5325307130368591, 0.532466053157385, 0.5323895517641807, 0.5324045434701071, 0.5322999539375717, 0.532358778536064, 0.5320985870817365, 0.5321084182408897, 0.532083371896964, 0.5320409452975643, 0.5319289336887361, 0.5318199605326808, 0.5317664449893402, 0.5317374595919924, 0.531797520009403, 0.5317960258527588, 0.531743300603201, 0.5317982167094808, 0.5317807538432369, 0.5317707087556156, 0.531733521971127, 0.5318021719985456, 0.5318121655141255, 0.5318376592932623, 0.5316133170929791, 0.5316302007287951, 0.5313260216657775, 0.5312188571125633, 0.5312315459835851, 0.5310307574031403, 0.5310234432461193, 0.5310443752871858, 0.5309930090564229, 0.531087647095042, 0.5310257458422644, 0.5309034508638828, 0.5308231813690232, 0.5307322961514546, 0.5307212960260295, 0.5308067719094769, 0.5307824924609077, 0.5307618598241927, 0.5309755289994985, 0.5310594677496006, 0.5310413640529902, 0.5307480791062015, 0.5306237179035312, 0.5304301627794129, 0.5304385790500596, 0.530425633512628, 0.5303405558799448, 0.5301716937357648, 0.5300812635937097, 0.5300465904687208, 0.5299000895796809, 0.529899007521849, 0.5298631797561554, 0.5299440408969345, 0.5298746215865647, 0.5299092460046256, 0.5298990390380967, 0.5298819113901218, 0.5298931101634101, 0.5296343870797061, 0.5296498992812357, 0.5297471479156916, 0.5296634001731503, 0.5296274086184731, 0.529565471551778, 0.5296558606272075, 0.5296076598692456, 0.5294612165212333, 0.5294541898305913, 0.5294431744245613, 0.5295037047205714, 0.5295392665082367, 0.529627387846401, 0.529704879613808, 0.5296836725218538, 0.5297384028732809, 0.5298020069584627, 0.5296840616997589, 0.52972877513718, 0.529646384503358, 0.5297001321208848, 0.5296935294670276, 0.529714521197957, 0.5296246502305361, 0.529660092638476, 0.5296267188424193, 0.5296264944085354, 0.5294953796560349, 0.5294364089367586, 0.5295963634433418, 0.5296290572524821, 0.529611063862738, 0.5295557370902024, 0.5296435895852248, 0.5296840784129204, 0.5296690122140453, 0.5296054697288018, 0.5295078557923859, 0.5294235961495817, 0.5293400632905463, 0.5293882081787967, 0.5293204129102125, 0.529323668634086, 0.5292718196317132, 0.5293584620938381, 0.5294190038503017, 0.5294171558521512, 0.529220848786601, 0.5292031008415726, 0.529190524903771, 0.5292408802270187, 0.529222037331148, 0.5291818789465326, 0.5291640226047134, 0.5292858228735126, 0.5292293667687739, 0.5290239581929527, 0.5289865436319479, 0.5290908693352899, 0.5290156390974026, 0.5288924893601865, 0.5288634227846253, 0.5288231779690886, 0.528778953988542, 0.5288045380187514, 0.5288194318333029, 0.5287567708479524, 0.5286766116599592, 0.5286531024493788, 0.5286117765310481, 0.5285904161555265, 0.5287169104351317, 0.5287645854447827, 0.5289386535000317, 0.5289979212360649, 0.5289233857881799, 0.5287577798453922, 0.5286698361442594, 0.5286703318088797, 0.5284158018186537, 0.5281939675476435, 0.5282549672447342, 0.528252046261611, 0.5283018567357913, 0.5281609074815055, 0.5282150194459545, 0.5281896149628523, 0.5281923454159336, 0.5281136149644949, 0.5281554589908343, 0.528235396610057, 0.5282476659807235, 0.5282293130192462, 0.5282642683579062, 0.5281911988930501, 0.5281529197840732, 0.528113719302375, 0.5281392780240826, 0.5281135423816219, 0.528058465828991, 0.5280928151961642, 0.5278667696859579, 0.5278984573627717, 0.527831503004974, 0.5278614018959812, 0.5279149422703046, 0.5278899914301592, 0.5280368050940799, 0.5281035247513375, 0.5280386671790381, 0.528046727220584, 0.5280030227806027, 0.5280206656714727, 0.5279761418090557, 0.5280838103834709, 0.5282119272723049, 0.5282109598190097, 0.5282292908146173, 0.528293417305478, 0.5282774753369366, 0.5283007066315161, 0.5281249854058285, 0.5279455466954894, 0.5279837854541191, 0.5280447612752647, 0.5278441202481604, 0.5278369512568856, 0.527848203512291, 0.5278514057540474, 0.5278541190164482, 0.5278882329668029, 0.5278942411096271, 0.5279398288841576, 0.5280974258799219, 0.5279435143750428, 0.5279035904522082, 0.5278532040902321, 0.527862714834202, 0.5279244274670133, 0.5279372373890768, 0.5279026067632702, 0.527998385117027, 0.5279552083354324, 0.5278994460656583, 0.527875989859676, 0.5278540526413208, 0.5277172840650214, 0.527819871360801, 0.5277657713343245, 0.5277606771626786, 0.5277142040681039, 0.5277088078657525, 0.527807830960448, 0.5279420018339209, 0.5279159627281981, 0.5278697326907444, 0.5278340204846249, 0.52769022235257, 0.5277207176646858, 0.5275932210729053, 0.5275779342602975, 0.5275868652963205, 0.5276561480362842, 0.5276156415403893, 0.5276417427235693, 0.5275376211595578, 0.5274383168062291, 0.527391996517703, 0.5273806621290464, 0.5273855380745542, 0.527381117682079, 0.5272984376718024, 0.5273290905651558, 0.5273370474626188, 0.5274446458417553, 0.5275579524818458, 0.5275193570165964, 0.5275558079444571, 0.5275054058243572, 0.5272377631650839, 0.5274406045992882, 0.5273136079697981, 0.5274561344690172, 0.5275130824182248, 0.5272900142383721, 0.5271920030062298, 0.5271757984022925, 0.5272062206540162, 0.5272243835629704, 0.5272060277363798, 0.527060071696407, 0.527189177526887, 0.5271420970282691, 0.5270611150752077, 0.527212113714785, 0.5271992512656424, 0.5271607622871081, 0.5271230578721298, 0.527143319476658, 0.5271311360593939, 0.5271268952140258, 0.5271259960459334, 0.5270048456803598, 0.5268585730453549, 0.5268496338915106, 0.5268299706181665, 0.5268797476660237, 0.5268765578397587, 0.5268509852700031, 0.5269697881526548, 0.5269711347559582, 0.5269668079571878, 0.5269902503151219, 0.5270340249503818, 0.5269814143053604, 0.5269797047876914, 0.5269544254145415, 0.5271129755380342, 0.5271258685483866, 0.5272185153331844, 0.527305524529826, 0.5273265262886523, 0.5273717993782264, 0.5274671326843667, 0.5274353939130303, 0.5274810862642003, 0.527469926647462, 0.5273948847907813, 0.5273997774494507, 0.5273094621506914, 0.5272200381409627, 0.5271509846100719, 0.5271069626200209, 0.5271387949850621, 0.5270871849808998, 0.527096422106539, 0.5273712996546955, 0.5275196982038518, 0.5274803215176789, 0.5273387371632533, 0.5273429861264428, 0.5273577734542791, 0.5273861175437418, 0.5274225164220422, 0.5274127540256108, 0.527344027595168, 0.5273316359796626, 0.5273212232024869, 0.5272301498424709, 0.5270337377227622, 0.5270821137301611, 0.5270418966107208, 0.5270353073273929, 0.5269897076148898, 0.5270303435184072, 0.5270960897533832, 0.526989302678861, 0.5269540627389355, 0.5269415622491205, 0.5269340179279888, 0.5270546258320898, 0.527039100260031, 0.5270362571124888, 0.5269775418658251, 0.5270923526904566, 0.5271623364281683, 0.5272133703057755, 0.5272479211859254, 0.5273051842976084, 0.5272722488639038, 0.5272910970124822, 0.5273075962455821, 0.527268780644119, 0.527337146547791, 0.5273134644753681, 0.5274056580947281, 0.5274017254878111, 0.5273752742832759, 0.5273779020697933, 0.5274614072327324, 0.5274874348780016, 0.527466327587498, 0.5274014671500852, 0.5273732687038877, 0.5272995202071531, 0.5273009050119687, 0.527319702782303, 0.5270756189955759, 0.5270878764282698, 0.5269511799573245, 0.5268953618178388, 0.5269181600027741, 0.5268679870917472, 0.526841482405095, 0.5269128139399075, 0.5268531947499624, 0.526729252331369, 0.5267716431168511, 0.5267859672513526, 0.5267086368853344, 0.5267485593756124, 0.5267772802274885, 0.5268053998830671, 0.5268069274660344, 0.5268855051114244, 0.5268356736264124, 0.5268982290800855, 0.5270533754488451, 0.5270404681129256, 0.5270178599805132, 0.5271134621297953, 0.5271159447505664, 0.5271043400862114, 0.5271385335434633, 0.5271718371442414, 0.5271680284534795, 0.5271599240026758, 0.5271905759409914, 0.5271631057111194, 0.5270501901590097, 0.5270632159196168, 0.527212949134104, 0.5272412894034153, 0.5271782005611286, 0.5270585983118351, 0.5271288690384069, 0.5271454088606135, 0.5271121687698493, 0.527149126345265, 0.5271265733662859, 0.527088493382691, 0.5270921306441672, 0.5270690621835333, 0.5270559977438951, 0.5271072751561422, 0.5271022635952664, 0.5269755840383271, 0.5268968187280086, 0.5268357512232339, 0.5268660263991358, 0.5269165154276759, 0.5269176882140991, 0.5269662891329009, 0.5270095012508942]}\n"
     ]
    }
   ],
   "source": [
    "# evaluate the model\n",
    "# there's a method we can use from the catboost model itself\n",
    "\n",
    "from catboost import Pool\n",
    "\n",
    "test_pool = Pool(data=x_test, \n",
    "                 label=y_test, \n",
    "                 cat_features=cat_feature_indices)\n",
    "\n",
    "eval_metrics = fitted_cb_mdl.eval_metrics(data=test_pool, \n",
    "                                          metrics=['Accuracy', 'AUC']\n",
    "                                          )\n",
    "\n",
    "# the way to read the eval metrics is different\n",
    "# it's based on every data point evaluation, 1 and 0\n",
    "\n",
    "print(eval_metrics)"
   ]
  },
  {
   "cell_type": "code",
   "execution_count": 33,
   "metadata": {},
   "outputs": [
    {
     "name": "stdout",
     "output_type": "stream",
     "text": [
      "All the score of RMSE train, test, and R2 score: 0.6564465803856134 , 0.6923666160095789 , -0.917488599737611\n"
     ]
    }
   ],
   "source": [
    "# evaluate the model conventionally\n",
    "\n",
    "y_train_cb_pred = fitted_cb_mdl.predict(x_train)\n",
    "y_test_cb_pred = fitted_cb_mdl.predict(x_test)\n",
    "\n",
    "rmse_cb_train = metrics.mean_squared_error(y_train,\n",
    "                                           y_train_cb_pred,\n",
    "                                           squared=False)\n",
    "\n",
    "rmse_cb_test = metrics.mean_squared_error(y_test,\n",
    "                                          y_test_cb_pred,\n",
    "                                          squared=False)\n",
    "\n",
    "r2_cb_test = metrics.r2_score(y_test, y_test_cb_pred)\n",
    "\n",
    "print('All the score of RMSE train, test, and R2 score:', rmse_cb_train, ',', rmse_cb_test, ',', r2_cb_test)"
   ]
  },
  {
   "attachments": {},
   "cell_type": "markdown",
   "metadata": {},
   "source": [
    "    Evaluating Data Using ROC-AUC\n",
    "\n",
    "- ROC is a probability curve and AUC represents the degree or measure of separability. It tells how much the model is capable of distinguishing between classes\n",
    "- Higher the AUC, the better the model is at predicting 0 classes as 0 and 1 classes as 1.\n",
    "- It considers true positive rate (sensitivity) and false positive rate (1 - specificity) across various threshold values, providing a more comprehensive understanding of the model's performance.\n",
    "- AUC-ROC is a good choice for evaluating classification models on imbalanced datasets because it provides a robust and threshold-independent measure of the model's ability to discriminate between classes."
   ]
  },
  {
   "cell_type": "code",
   "execution_count": 34,
   "metadata": {},
   "outputs": [
    {
     "data": {
      "image/png": "[encoded data removed]",
      "text/plain": [
       "<Figure size 640x480 with 1 Axes>"
      ]
     },
     "metadata": {},
     "output_type": "display_data"
    }
   ],
   "source": [
    "# evaluate the model using roc-auc curve\n",
    "# it's a plot between false positive rate to true positive rate\n",
    "\n",
    "# calculate the false positive rate (FPR), true positive rate (TPR), and classification thresholds\n",
    "\n",
    "fpr, tpr, thresholds = metrics.roc_curve(y_test, y_test_cb_pred)\n",
    "\n",
    "# calculate the area under the ROC curve (AUC)\n",
    "\n",
    "auc = metrics.roc_auc_score(y_test, y_test_cb_pred)\n",
    "\n",
    "# plotting the roc curve\n",
    "\n",
    "plt.plot(fpr, tpr, label='ROC Curve (AUC = {:.2f})'.format(auc))\n",
    "plt.plot([0, 1], [0, 1], 'k--', label='Random')\n",
    "plt.xlabel('False Positive Rate (FPR)')\n",
    "plt.ylabel('True Positive Rate (TPR)')\n",
    "plt.title('Receiver Operating Characteristic (ROC) Curve')\n",
    "plt.legend()\n",
    "\n",
    "sns.despine()\n",
    "\n",
    "plt.show()"
   ]
  },
  {
   "attachments": {},
   "cell_type": "markdown",
   "metadata": {},
   "source": []
  },
  {
   "attachments": {},
   "cell_type": "markdown",
   "metadata": {},
   "source": [
    "## Model Training: Neural Network Model"
   ]
  },
  {
   "cell_type": "code",
   "execution_count": 35,
   "metadata": {},
   "outputs": [
    {
     "data": {
      "text/html": [
       "<div>\n",
       "<style scoped>\n",
       "    .dataframe tbody tr th:only-of-type {\n",
       "        vertical-align: middle;\n",
       "    }\n",
       "\n",
       "    .dataframe tbody tr th {\n",
       "        vertical-align: top;\n",
       "    }\n",
       "\n",
       "    .dataframe thead th {\n",
       "        text-align: right;\n",
       "    }\n",
       "</style>\n",
       "<table border=\"1\" class=\"dataframe\">\n",
       "  <thead>\n",
       "    <tr style=\"text-align: right;\">\n",
       "      <th></th>\n",
       "      <th>onehotencoder__Gender_F</th>\n",
       "      <th>onehotencoder__Gender_M</th>\n",
       "      <th>onehotencoder__Type_B</th>\n",
       "      <th>onehotencoder__Type_C</th>\n",
       "      <th>onehotencoder__date_day_Friday</th>\n",
       "      <th>onehotencoder__date_day_Monday</th>\n",
       "      <th>onehotencoder__date_day_Saturday</th>\n",
       "      <th>onehotencoder__date_day_Sunday</th>\n",
       "      <th>onehotencoder__date_day_Thursday</th>\n",
       "      <th>onehotencoder__date_day_Tuesday</th>\n",
       "      <th>...</th>\n",
       "      <th>onehotencoder__date_month_March</th>\n",
       "      <th>onehotencoder__email_domain_aol.com</th>\n",
       "      <th>onehotencoder__email_domain_comcast.net</th>\n",
       "      <th>onehotencoder__email_domain_gmail.com</th>\n",
       "      <th>onehotencoder__email_domain_hotmail.com</th>\n",
       "      <th>onehotencoder__email_domain_msn.com</th>\n",
       "      <th>onehotencoder__email_domain_yahoo.com</th>\n",
       "      <th>remainder__SubjectLine_ID</th>\n",
       "      <th>remainder__Age</th>\n",
       "      <th>remainder__Tenure</th>\n",
       "    </tr>\n",
       "  </thead>\n",
       "  <tbody>\n",
       "    <tr>\n",
       "      <th>213546</th>\n",
       "      <td>0.0</td>\n",
       "      <td>1.0</td>\n",
       "      <td>0.0</td>\n",
       "      <td>1.0</td>\n",
       "      <td>0.0</td>\n",
       "      <td>0.0</td>\n",
       "      <td>0.0</td>\n",
       "      <td>0.0</td>\n",
       "      <td>1.0</td>\n",
       "      <td>0.0</td>\n",
       "      <td>...</td>\n",
       "      <td>1.0</td>\n",
       "      <td>0.0</td>\n",
       "      <td>0.0</td>\n",
       "      <td>1.0</td>\n",
       "      <td>0.0</td>\n",
       "      <td>0.0</td>\n",
       "      <td>0.0</td>\n",
       "      <td>3.0</td>\n",
       "      <td>32.0</td>\n",
       "      <td>24.0</td>\n",
       "    </tr>\n",
       "    <tr>\n",
       "      <th>260343</th>\n",
       "      <td>0.0</td>\n",
       "      <td>1.0</td>\n",
       "      <td>1.0</td>\n",
       "      <td>0.0</td>\n",
       "      <td>0.0</td>\n",
       "      <td>0.0</td>\n",
       "      <td>0.0</td>\n",
       "      <td>1.0</td>\n",
       "      <td>0.0</td>\n",
       "      <td>0.0</td>\n",
       "      <td>...</td>\n",
       "      <td>0.0</td>\n",
       "      <td>0.0</td>\n",
       "      <td>0.0</td>\n",
       "      <td>1.0</td>\n",
       "      <td>0.0</td>\n",
       "      <td>0.0</td>\n",
       "      <td>0.0</td>\n",
       "      <td>1.0</td>\n",
       "      <td>33.0</td>\n",
       "      <td>11.0</td>\n",
       "    </tr>\n",
       "    <tr>\n",
       "      <th>209883</th>\n",
       "      <td>1.0</td>\n",
       "      <td>0.0</td>\n",
       "      <td>0.0</td>\n",
       "      <td>1.0</td>\n",
       "      <td>0.0</td>\n",
       "      <td>1.0</td>\n",
       "      <td>0.0</td>\n",
       "      <td>0.0</td>\n",
       "      <td>0.0</td>\n",
       "      <td>0.0</td>\n",
       "      <td>...</td>\n",
       "      <td>0.0</td>\n",
       "      <td>1.0</td>\n",
       "      <td>0.0</td>\n",
       "      <td>0.0</td>\n",
       "      <td>0.0</td>\n",
       "      <td>0.0</td>\n",
       "      <td>0.0</td>\n",
       "      <td>2.0</td>\n",
       "      <td>31.0</td>\n",
       "      <td>13.0</td>\n",
       "    </tr>\n",
       "    <tr>\n",
       "      <th>113194</th>\n",
       "      <td>1.0</td>\n",
       "      <td>0.0</td>\n",
       "      <td>0.0</td>\n",
       "      <td>1.0</td>\n",
       "      <td>0.0</td>\n",
       "      <td>1.0</td>\n",
       "      <td>0.0</td>\n",
       "      <td>0.0</td>\n",
       "      <td>0.0</td>\n",
       "      <td>0.0</td>\n",
       "      <td>...</td>\n",
       "      <td>1.0</td>\n",
       "      <td>0.0</td>\n",
       "      <td>0.0</td>\n",
       "      <td>1.0</td>\n",
       "      <td>0.0</td>\n",
       "      <td>0.0</td>\n",
       "      <td>0.0</td>\n",
       "      <td>3.0</td>\n",
       "      <td>33.0</td>\n",
       "      <td>24.0</td>\n",
       "    </tr>\n",
       "    <tr>\n",
       "      <th>308375</th>\n",
       "      <td>1.0</td>\n",
       "      <td>0.0</td>\n",
       "      <td>0.0</td>\n",
       "      <td>1.0</td>\n",
       "      <td>0.0</td>\n",
       "      <td>0.0</td>\n",
       "      <td>0.0</td>\n",
       "      <td>1.0</td>\n",
       "      <td>0.0</td>\n",
       "      <td>0.0</td>\n",
       "      <td>...</td>\n",
       "      <td>0.0</td>\n",
       "      <td>0.0</td>\n",
       "      <td>0.0</td>\n",
       "      <td>0.0</td>\n",
       "      <td>0.0</td>\n",
       "      <td>1.0</td>\n",
       "      <td>0.0</td>\n",
       "      <td>2.0</td>\n",
       "      <td>32.0</td>\n",
       "      <td>5.0</td>\n",
       "    </tr>\n",
       "  </tbody>\n",
       "</table>\n",
       "<p>5 rows × 23 columns</p>\n",
       "</div>"
      ],
      "text/plain": [
       "        onehotencoder__Gender_F  onehotencoder__Gender_M  \\\n",
       "213546                      0.0                      1.0   \n",
       "260343                      0.0                      1.0   \n",
       "209883                      1.0                      0.0   \n",
       "113194                      1.0                      0.0   \n",
       "308375                      1.0                      0.0   \n",
       "\n",
       "        onehotencoder__Type_B  onehotencoder__Type_C  \\\n",
       "213546                    0.0                    1.0   \n",
       "260343                    1.0                    0.0   \n",
       "209883                    0.0                    1.0   \n",
       "113194                    0.0                    1.0   \n",
       "308375                    0.0                    1.0   \n",
       "\n",
       "        onehotencoder__date_day_Friday  onehotencoder__date_day_Monday  \\\n",
       "213546                             0.0                             0.0   \n",
       "260343                             0.0                             0.0   \n",
       "209883                             0.0                             1.0   \n",
       "113194                             0.0                             1.0   \n",
       "308375                             0.0                             0.0   \n",
       "\n",
       "        onehotencoder__date_day_Saturday  onehotencoder__date_day_Sunday  \\\n",
       "213546                               0.0                             0.0   \n",
       "260343                               0.0                             1.0   \n",
       "209883                               0.0                             0.0   \n",
       "113194                               0.0                             0.0   \n",
       "308375                               0.0                             1.0   \n",
       "\n",
       "        onehotencoder__date_day_Thursday  onehotencoder__date_day_Tuesday  \\\n",
       "213546                               1.0                              0.0   \n",
       "260343                               0.0                              0.0   \n",
       "209883                               0.0                              0.0   \n",
       "113194                               0.0                              0.0   \n",
       "308375                               0.0                              0.0   \n",
       "\n",
       "        ...  onehotencoder__date_month_March  \\\n",
       "213546  ...                              1.0   \n",
       "260343  ...                              0.0   \n",
       "209883  ...                              0.0   \n",
       "113194  ...                              1.0   \n",
       "308375  ...                              0.0   \n",
       "\n",
       "        onehotencoder__email_domain_aol.com  \\\n",
       "213546                                  0.0   \n",
       "260343                                  0.0   \n",
       "209883                                  1.0   \n",
       "113194                                  0.0   \n",
       "308375                                  0.0   \n",
       "\n",
       "        onehotencoder__email_domain_comcast.net  \\\n",
       "213546                                      0.0   \n",
       "260343                                      0.0   \n",
       "209883                                      0.0   \n",
       "113194                                      0.0   \n",
       "308375                                      0.0   \n",
       "\n",
       "        onehotencoder__email_domain_gmail.com  \\\n",
       "213546                                    1.0   \n",
       "260343                                    1.0   \n",
       "209883                                    0.0   \n",
       "113194                                    1.0   \n",
       "308375                                    0.0   \n",
       "\n",
       "        onehotencoder__email_domain_hotmail.com  \\\n",
       "213546                                      0.0   \n",
       "260343                                      0.0   \n",
       "209883                                      0.0   \n",
       "113194                                      0.0   \n",
       "308375                                      0.0   \n",
       "\n",
       "        onehotencoder__email_domain_msn.com  \\\n",
       "213546                                  0.0   \n",
       "260343                                  0.0   \n",
       "209883                                  0.0   \n",
       "113194                                  0.0   \n",
       "308375                                  1.0   \n",
       "\n",
       "        onehotencoder__email_domain_yahoo.com  remainder__SubjectLine_ID  \\\n",
       "213546                                    0.0                        3.0   \n",
       "260343                                    0.0                        1.0   \n",
       "209883                                    0.0                        2.0   \n",
       "113194                                    0.0                        3.0   \n",
       "308375                                    0.0                        2.0   \n",
       "\n",
       "        remainder__Age  remainder__Tenure  \n",
       "213546            32.0               24.0  \n",
       "260343            33.0               11.0  \n",
       "209883            31.0               13.0  \n",
       "113194            33.0               24.0  \n",
       "308375            32.0                5.0  \n",
       "\n",
       "[5 rows x 23 columns]"
      ]
     },
     "metadata": {},
     "output_type": "display_data"
    },
    {
     "data": {
      "text/html": [
       "<div>\n",
       "<style scoped>\n",
       "    .dataframe tbody tr th:only-of-type {\n",
       "        vertical-align: middle;\n",
       "    }\n",
       "\n",
       "    .dataframe tbody tr th {\n",
       "        vertical-align: top;\n",
       "    }\n",
       "\n",
       "    .dataframe thead th {\n",
       "        text-align: right;\n",
       "    }\n",
       "</style>\n",
       "<table border=\"1\" class=\"dataframe\">\n",
       "  <thead>\n",
       "    <tr style=\"text-align: right;\">\n",
       "      <th></th>\n",
       "      <th>onehotencoder__Gender_F</th>\n",
       "      <th>onehotencoder__Gender_M</th>\n",
       "      <th>onehotencoder__Type_B</th>\n",
       "      <th>onehotencoder__Type_C</th>\n",
       "      <th>onehotencoder__date_day_Friday</th>\n",
       "      <th>onehotencoder__date_day_Monday</th>\n",
       "      <th>onehotencoder__date_day_Saturday</th>\n",
       "      <th>onehotencoder__date_day_Sunday</th>\n",
       "      <th>onehotencoder__date_day_Thursday</th>\n",
       "      <th>onehotencoder__date_day_Tuesday</th>\n",
       "      <th>...</th>\n",
       "      <th>onehotencoder__date_month_March</th>\n",
       "      <th>onehotencoder__email_domain_aol.com</th>\n",
       "      <th>onehotencoder__email_domain_comcast.net</th>\n",
       "      <th>onehotencoder__email_domain_gmail.com</th>\n",
       "      <th>onehotencoder__email_domain_hotmail.com</th>\n",
       "      <th>onehotencoder__email_domain_msn.com</th>\n",
       "      <th>onehotencoder__email_domain_yahoo.com</th>\n",
       "      <th>remainder__SubjectLine_ID</th>\n",
       "      <th>remainder__Age</th>\n",
       "      <th>remainder__Tenure</th>\n",
       "    </tr>\n",
       "  </thead>\n",
       "  <tbody>\n",
       "    <tr>\n",
       "      <th>62164</th>\n",
       "      <td>0.0</td>\n",
       "      <td>1.0</td>\n",
       "      <td>1.0</td>\n",
       "      <td>0.0</td>\n",
       "      <td>1.0</td>\n",
       "      <td>0.0</td>\n",
       "      <td>0.0</td>\n",
       "      <td>0.0</td>\n",
       "      <td>0.0</td>\n",
       "      <td>0.0</td>\n",
       "      <td>...</td>\n",
       "      <td>1.0</td>\n",
       "      <td>0.0</td>\n",
       "      <td>0.0</td>\n",
       "      <td>1.0</td>\n",
       "      <td>0.0</td>\n",
       "      <td>0.0</td>\n",
       "      <td>0.0</td>\n",
       "      <td>1.0</td>\n",
       "      <td>37.0</td>\n",
       "      <td>25.0</td>\n",
       "    </tr>\n",
       "    <tr>\n",
       "      <th>159</th>\n",
       "      <td>0.0</td>\n",
       "      <td>1.0</td>\n",
       "      <td>0.0</td>\n",
       "      <td>1.0</td>\n",
       "      <td>0.0</td>\n",
       "      <td>0.0</td>\n",
       "      <td>0.0</td>\n",
       "      <td>1.0</td>\n",
       "      <td>0.0</td>\n",
       "      <td>0.0</td>\n",
       "      <td>...</td>\n",
       "      <td>0.0</td>\n",
       "      <td>0.0</td>\n",
       "      <td>0.0</td>\n",
       "      <td>0.0</td>\n",
       "      <td>1.0</td>\n",
       "      <td>0.0</td>\n",
       "      <td>0.0</td>\n",
       "      <td>1.0</td>\n",
       "      <td>39.0</td>\n",
       "      <td>25.0</td>\n",
       "    </tr>\n",
       "    <tr>\n",
       "      <th>87027</th>\n",
       "      <td>0.0</td>\n",
       "      <td>1.0</td>\n",
       "      <td>0.0</td>\n",
       "      <td>1.0</td>\n",
       "      <td>0.0</td>\n",
       "      <td>0.0</td>\n",
       "      <td>1.0</td>\n",
       "      <td>0.0</td>\n",
       "      <td>0.0</td>\n",
       "      <td>0.0</td>\n",
       "      <td>...</td>\n",
       "      <td>0.0</td>\n",
       "      <td>1.0</td>\n",
       "      <td>0.0</td>\n",
       "      <td>0.0</td>\n",
       "      <td>0.0</td>\n",
       "      <td>0.0</td>\n",
       "      <td>0.0</td>\n",
       "      <td>1.0</td>\n",
       "      <td>22.0</td>\n",
       "      <td>12.0</td>\n",
       "    </tr>\n",
       "    <tr>\n",
       "      <th>77597</th>\n",
       "      <td>0.0</td>\n",
       "      <td>1.0</td>\n",
       "      <td>0.0</td>\n",
       "      <td>1.0</td>\n",
       "      <td>0.0</td>\n",
       "      <td>0.0</td>\n",
       "      <td>0.0</td>\n",
       "      <td>0.0</td>\n",
       "      <td>0.0</td>\n",
       "      <td>1.0</td>\n",
       "      <td>...</td>\n",
       "      <td>0.0</td>\n",
       "      <td>1.0</td>\n",
       "      <td>0.0</td>\n",
       "      <td>0.0</td>\n",
       "      <td>0.0</td>\n",
       "      <td>0.0</td>\n",
       "      <td>0.0</td>\n",
       "      <td>2.0</td>\n",
       "      <td>32.0</td>\n",
       "      <td>26.0</td>\n",
       "    </tr>\n",
       "    <tr>\n",
       "      <th>55970</th>\n",
       "      <td>1.0</td>\n",
       "      <td>0.0</td>\n",
       "      <td>0.0</td>\n",
       "      <td>1.0</td>\n",
       "      <td>0.0</td>\n",
       "      <td>1.0</td>\n",
       "      <td>0.0</td>\n",
       "      <td>0.0</td>\n",
       "      <td>0.0</td>\n",
       "      <td>0.0</td>\n",
       "      <td>...</td>\n",
       "      <td>0.0</td>\n",
       "      <td>0.0</td>\n",
       "      <td>0.0</td>\n",
       "      <td>0.0</td>\n",
       "      <td>0.0</td>\n",
       "      <td>1.0</td>\n",
       "      <td>0.0</td>\n",
       "      <td>1.0</td>\n",
       "      <td>28.0</td>\n",
       "      <td>25.0</td>\n",
       "    </tr>\n",
       "  </tbody>\n",
       "</table>\n",
       "<p>5 rows × 23 columns</p>\n",
       "</div>"
      ],
      "text/plain": [
       "       onehotencoder__Gender_F  onehotencoder__Gender_M  \\\n",
       "62164                      0.0                      1.0   \n",
       "159                        0.0                      1.0   \n",
       "87027                      0.0                      1.0   \n",
       "77597                      0.0                      1.0   \n",
       "55970                      1.0                      0.0   \n",
       "\n",
       "       onehotencoder__Type_B  onehotencoder__Type_C  \\\n",
       "62164                    1.0                    0.0   \n",
       "159                      0.0                    1.0   \n",
       "87027                    0.0                    1.0   \n",
       "77597                    0.0                    1.0   \n",
       "55970                    0.0                    1.0   \n",
       "\n",
       "       onehotencoder__date_day_Friday  onehotencoder__date_day_Monday  \\\n",
       "62164                             1.0                             0.0   \n",
       "159                               0.0                             0.0   \n",
       "87027                             0.0                             0.0   \n",
       "77597                             0.0                             0.0   \n",
       "55970                             0.0                             1.0   \n",
       "\n",
       "       onehotencoder__date_day_Saturday  onehotencoder__date_day_Sunday  \\\n",
       "62164                               0.0                             0.0   \n",
       "159                                 0.0                             1.0   \n",
       "87027                               1.0                             0.0   \n",
       "77597                               0.0                             0.0   \n",
       "55970                               0.0                             0.0   \n",
       "\n",
       "       onehotencoder__date_day_Thursday  onehotencoder__date_day_Tuesday  ...  \\\n",
       "62164                               0.0                              0.0  ...   \n",
       "159                                 0.0                              0.0  ...   \n",
       "87027                               0.0                              0.0  ...   \n",
       "77597                               0.0                              1.0  ...   \n",
       "55970                               0.0                              0.0  ...   \n",
       "\n",
       "       onehotencoder__date_month_March  onehotencoder__email_domain_aol.com  \\\n",
       "62164                              1.0                                  0.0   \n",
       "159                                0.0                                  0.0   \n",
       "87027                              0.0                                  1.0   \n",
       "77597                              0.0                                  1.0   \n",
       "55970                              0.0                                  0.0   \n",
       "\n",
       "       onehotencoder__email_domain_comcast.net  \\\n",
       "62164                                      0.0   \n",
       "159                                        0.0   \n",
       "87027                                      0.0   \n",
       "77597                                      0.0   \n",
       "55970                                      0.0   \n",
       "\n",
       "       onehotencoder__email_domain_gmail.com  \\\n",
       "62164                                    1.0   \n",
       "159                                      0.0   \n",
       "87027                                    0.0   \n",
       "77597                                    0.0   \n",
       "55970                                    0.0   \n",
       "\n",
       "       onehotencoder__email_domain_hotmail.com  \\\n",
       "62164                                      0.0   \n",
       "159                                        1.0   \n",
       "87027                                      0.0   \n",
       "77597                                      0.0   \n",
       "55970                                      0.0   \n",
       "\n",
       "       onehotencoder__email_domain_msn.com  \\\n",
       "62164                                  0.0   \n",
       "159                                    0.0   \n",
       "87027                                  0.0   \n",
       "77597                                  0.0   \n",
       "55970                                  1.0   \n",
       "\n",
       "       onehotencoder__email_domain_yahoo.com  remainder__SubjectLine_ID  \\\n",
       "62164                                    0.0                        1.0   \n",
       "159                                      0.0                        1.0   \n",
       "87027                                    0.0                        1.0   \n",
       "77597                                    0.0                        2.0   \n",
       "55970                                    0.0                        1.0   \n",
       "\n",
       "       remainder__Age  remainder__Tenure  \n",
       "62164            37.0               25.0  \n",
       "159              39.0               25.0  \n",
       "87027            22.0               12.0  \n",
       "77597            32.0               26.0  \n",
       "55970            28.0               25.0  \n",
       "\n",
       "[5 rows x 23 columns]"
      ]
     },
     "metadata": {},
     "output_type": "display_data"
    }
   ],
   "source": [
    "# preprocess all the data first\n",
    "\n",
    "from sklearn.compose import make_column_transformer\n",
    "from sklearn.preprocessing import OneHotEncoder\n",
    "from sklearn.preprocessing import FunctionTransformer\n",
    "\n",
    "to_transform = [a for a in x.columns if x[a].dtype == 'object']\n",
    "\n",
    "# one hot encoding for the 'object' column in the dataframe\n",
    "# while we're going to pass the remainder\n",
    "\n",
    "transformer = make_column_transformer(\n",
    "    (OneHotEncoder(handle_unknown='ignore'), to_transform),\n",
    "    remainder='passthrough'\n",
    "    )\n",
    "\n",
    "# fit-transform the x_train and x_test\n",
    "\n",
    "x_train_trf = transformer.fit_transform(x_train)\n",
    "x_test_trf = transformer.transform(x_test)\n",
    "\n",
    "x_cols = transformer.get_feature_names_out()\n",
    "\n",
    "# convert to data frame as the original data is in array data type\n",
    "\n",
    "x_train_trf = pd.DataFrame(x_train_trf, columns=x_cols)\n",
    "x_test_trf = pd.DataFrame(x_test_trf, columns=x_cols)\n",
    "\n",
    "display(x_train_trf.sample(5))\n",
    "display(x_test_trf.sample(5))"
   ]
  },
  {
   "attachments": {},
   "cell_type": "markdown",
   "metadata": {},
   "source": [
    "    Warning!\n",
    "\n",
    "- Starting in TensorFlow version 2, eager execution enabled by default. \n",
    "- This is not compatible with tf.placeholder(), the process in the back-end for CounterfactualProto. \n",
    "- Thus, we have to disable it"
   ]
  },
  {
   "cell_type": "code",
   "execution_count": 36,
   "metadata": {},
   "outputs": [],
   "source": [
    "# disable eager execution\n",
    "\n",
    "tf.compat.v1.disable_eager_execution()"
   ]
  },
  {
   "cell_type": "code",
   "execution_count": 37,
   "metadata": {},
   "outputs": [
    {
     "name": "stderr",
     "output_type": "stream",
     "text": [
      "2023-07-04 07:48:09.849365: I tensorflow/compiler/mlir/mlir_graph_optimization_pass.cc:375] MLIR V1 optimization pass is not enabled\n",
      "2023-07-04 07:48:09.891914: W tensorflow/c/c_api.cc:304] Operation '{name:'training/Adam/dense/bias/v/Assign' id:203 op device:{requested: '', assigned: ''} def:{{{node training/Adam/dense/bias/v/Assign}} = AssignVariableOp[_has_manual_control_dependencies=true, dtype=DT_FLOAT, validate_shape=false](training/Adam/dense/bias/v, training/Adam/dense/bias/v/Initializer/zeros)}}' was changed by setting attribute after it was run by a session. This mutation will have no effect, and will trigger an error in the future. Either don't modify nodes after running them or create a new session.\n",
      "`Model.state_updates` will be removed in a future version. This property should not be used in TensorFlow 2.0, as `updates` are applied automatically.\n",
      "2023-07-04 07:48:12.101109: W tensorflow/c/c_api.cc:304] Operation '{name:'loss/mul' id:68 op device:{requested: '', assigned: ''} def:{{{node loss/mul}} = Mul[T=DT_FLOAT, _has_manual_control_dependencies=true](loss/mul/x, loss/dense_1_loss/value)}}' was changed by setting attribute after it was run by a session. This mutation will have no effect, and will trigger an error in the future. Either don't modify nodes after running them or create a new session.\n"
     ]
    }
   ],
   "source": [
    "# fit and train the model\n",
    "\n",
    "fitted_nn_mdl = tf.keras.Sequential([\n",
    "    tf.keras.Input(shape=[len(x_train_trf.keys())]),\n",
    "    layers.Dense(7, activation='relu'),\n",
    "    layers.Dense(1, activation='sigmoid')\n",
    "    ])\n",
    "\n",
    "fitted_nn_mdl.compile(loss='mean_squared_error',\n",
    "                      optimizer='adam')\n",
    "\n",
    "nn_history = fitted_nn_mdl.fit(x_train_trf.values,\n",
    "                               y_train.values,\n",
    "                               epochs=12,\n",
    "                               batch_size=32,\n",
    "                               validation_split=0.2,\n",
    "                               verbose=0)"
   ]
  },
  {
   "cell_type": "code",
   "execution_count": 38,
   "metadata": {},
   "outputs": [
    {
     "name": "stderr",
     "output_type": "stream",
     "text": [
      "`Model.state_updates` will be removed in a future version. This property should not be used in TensorFlow 2.0, as `updates` are applied automatically.\n",
      "2023-07-04 07:48:38.981753: W tensorflow/c/c_api.cc:304] Operation '{name:'dense_1/Sigmoid' id:50 op device:{requested: '', assigned: ''} def:{{{node dense_1/Sigmoid}} = Sigmoid[T=DT_FLOAT, _has_manual_control_dependencies=true](dense_1/BiasAdd)}}' was changed by setting attribute after it was run by a session. This mutation will have no effect, and will trigger an error in the future. Either don't modify nodes after running them or create a new session.\n"
     ]
    },
    {
     "name": "stdout",
     "output_type": "stream",
     "text": [
      "All the score of RMSE train, test, and R2 score: 0.6564465803856134 , 0.6923666160095789 , 0.003662513569424153\n"
     ]
    }
   ],
   "source": [
    "# evaluate the model conventionally\n",
    "# the prediction score here is shown in probability instead of prediction directly...\n",
    "# ...like catboost does to the previous model\n",
    "\n",
    "y_train_nn_pred = fitted_nn_mdl.predict(x_train_trf)\n",
    "y_test_nn_pred = fitted_nn_mdl.predict(x_test_trf)\n",
    "\n",
    "rmse_nn_train = metrics.mean_squared_error(y_train,\n",
    "                                           y_train_nn_pred,\n",
    "                                           squared=False)\n",
    "\n",
    "rmse_nn_test = metrics.mean_squared_error(y_test,\n",
    "                                          y_test_nn_pred,\n",
    "                                          squared=False)\n",
    "\n",
    "r2_nn_test = metrics.r2_score(y_test, y_test_nn_pred)\n",
    "\n",
    "print('All the score of RMSE train, test, and R2 score:', rmse_cb_train, ',', rmse_cb_test, ',', r2_nn_test)"
   ]
  },
  {
   "cell_type": "code",
   "execution_count": 39,
   "metadata": {},
   "outputs": [
    {
     "data": {
      "image/png": "[encoded data removed]",
      "text/plain": [
       "<Figure size 640x480 with 1 Axes>"
      ]
     },
     "metadata": {},
     "output_type": "display_data"
    }
   ],
   "source": [
    "# evaluate the model using roc-auc curve\n",
    "# it's a plot between false positive rate to true positive rate\n",
    "\n",
    "# calculate the false positive rate (FPR), true positive rate (TPR), and classification thresholds\n",
    "\n",
    "fpr, tpr, thresholds = metrics.roc_curve(y_test, y_test_nn_pred)\n",
    "\n",
    "# calculate the area under the ROC curve (AUC)\n",
    "\n",
    "auc = metrics.roc_auc_score(y_test, y_test_nn_pred)\n",
    "\n",
    "# plotting the roc curve\n",
    "\n",
    "plt.plot(fpr, tpr, label='ROC Curve (AUC = {:.2f})'.format(auc))\n",
    "plt.plot([0, 1], [0, 1], 'k--', label='Random')\n",
    "plt.xlabel('False Positive Rate (FPR)')\n",
    "plt.ylabel('True Positive Rate (TPR)')\n",
    "plt.title('Receiver Operating Characteristic (ROC) Curve')\n",
    "plt.legend()\n",
    "\n",
    "sns.despine()\n",
    "\n",
    "plt.show()"
   ]
  },
  {
   "attachments": {},
   "cell_type": "markdown",
   "metadata": {},
   "source": []
  },
  {
   "attachments": {},
   "cell_type": "markdown",
   "metadata": {},
   "source": [
    "# Anchor Explanations\n",
    "\n",
    "A model to explain Machine Learning model with pertubration-based (changing the x-value of the instance to see the difference it makes) strategy. The mechanism works like this:\n",
    "\n",
    "1. Sampling: Anchor selects a subset of instances that are similar to the prediction to be explained.\n",
    "\n",
    "2. Rule Generation: It then creates a binary decision tree using the selected instances, where each path from the root to a leaf represents a rule. Rules are typically defined in terms of feature thresholds and logical conditions.\n",
    "\n",
    "3. Rule Evaluation: Anchor evaluates the rules using a metric such as precision, which measures the coverage of the rule and the proportion of correct predictions it captures.\n",
    "\n",
    "4. Interpretation: The final output of Anchor is a small set of interpretable rules that accurately describe the model's predictions."
   ]
  },
  {
   "attachments": {},
   "cell_type": "markdown",
   "metadata": {},
   "source": [
    "    Data Preparation for Human-like Interpretation"
   ]
  },
  {
   "cell_type": "code",
   "execution_count": 40,
   "metadata": {},
   "outputs": [],
   "source": [
    "cat_feature_indices = [1, 2, 5, 6, 7]"
   ]
  },
  {
   "cell_type": "code",
   "execution_count": 41,
   "metadata": {},
   "outputs": [],
   "source": [
    "# 1. defining the class name first\n",
    "# as our response at the moment is 0 and 1\n",
    "\n",
    "class_names = ['did not respond', 'responded']\n",
    "\n",
    "# 2. defining which one is our categorical variable\n",
    "# alibi has the ability to convert categorical to ordinal variable\n",
    "# the syntax is dictionary where -> {(key = index of cat var): (number of categories)}\n",
    "\n",
    "cat_vars_ohe = {1:2, 2:2, 5:7, 6:3, 7:6}\n",
    "\n",
    "# 3. create a category map\n",
    "# alibi will need a dictionary that provides names for each category and a list of feature names\n",
    "\n",
    "# cat map and feature names for catboost\n",
    "\n",
    "cat_map = {\n",
    "    1: ['Female', 'Male'],\n",
    "    2: ['Business', 'Consumer'],\n",
    "    5: ['Friday', 'Monday', 'Saturday', 'Sunday', 'Thursday', 'Tuesday', 'Wednesday'],\n",
    "    6: ['February', 'January', 'March'],\n",
    "    7: ['aol.com', 'comcast.net', 'gmail.com', 'hotmail.com', 'msn.com', 'yahoo.com']\n",
    "}\n",
    "\n",
    "feat_names_cb = fitted_cb_mdl.feature_names_\n",
    "\n",
    "# cat map for neural network model\n",
    "\n",
    "cat_map_ohe = {\n",
    "    1: ['Not Female', 'Female'],\n",
    "    2: ['Not Male', 'Male'],\n",
    "    3: ['Not Business', 'Business'],\n",
    "    4: ['Not Consumer', 'Consumer'],\n",
    "    4: ['Not Friday', 'Friday'],\n",
    "    5: ['Not Monday', 'Monday'],\n",
    "    6: ['Not Saturday', 'Saturday'],\n",
    "    7: ['Not Sunday', 'Sunday'],\n",
    "    8: ['Not Thursday', 'Thursday'],\n",
    "    9: ['Not Tuesday', 'Tuesday'],\n",
    "    10: ['Not Wednesday', 'Wednesday'],\n",
    "    11: ['Not February', 'February'],\n",
    "    12: ['Not January', 'January'],\n",
    "    13: ['Not March', 'March'],\n",
    "    14: ['Not AOL', 'AOL'],\n",
    "    15: ['Not Comcast', 'Comcast'],\n",
    "    16: ['Not Gmail', 'Gmail'],\n",
    "    17: ['Not Hotmail', 'Hotmail'],\n",
    "    18: ['Not MSN', 'MSN'],\n",
    "    19: ['Not Yahoo', 'Yahoo'],\n",
    "}\n",
    "\n",
    "feat_names_nn = x_train_trf.columns"
   ]
  },
  {
   "attachments": {},
   "cell_type": "markdown",
   "metadata": {},
   "source": []
  },
  {
   "attachments": {},
   "cell_type": "markdown",
   "metadata": {},
   "source": [
    "## Local Interpration for Anchor Explanations"
   ]
  },
  {
   "attachments": {},
   "cell_type": "markdown",
   "metadata": {},
   "source": [
    "    For CatBoost Model\n",
    "\n",
    "Should investigate more for CatBoost model as it failed to call the predictor on the data. Documentation about the error:\n",
    "\n",
    "- Predictor failed to be called on  of shape (1, 23) and dtype float32. Check that the parameter `feature_names` is correctly specified\n",
    "- There might be a conflict between internal of CatBoost model and the feature names that we have to pass to AnchorTabular\n",
    "- Because the data passed to CatBoost model is the original data, not the one after encoding as CatBoost can handle the categorical data automatically without converting the data first"
   ]
  },
  {
   "cell_type": "code",
   "execution_count": 42,
   "metadata": {},
   "outputs": [
    {
     "ename": "PredictorCallError",
     "evalue": "Predictor failed to be called on <class 'numpy.ndarray'> of shape (1, 23) and dtype float32. Check that the parameter `feature_names` is correctly specified.",
     "output_type": "error",
     "traceback": [
      "\u001b[0;31m---------------------------------------------------------------------------\u001b[0m",
      "\u001b[0;31mCatBoostError\u001b[0m                             Traceback (most recent call last)",
      "File \u001b[0;32m~/anaconda3/lib/python3.10/site-packages/alibi/explainers/anchors/anchor_tabular.py:1008\u001b[0m, in \u001b[0;36mAnchorTabular._transform_predictor\u001b[0;34m(self, predictor)\u001b[0m\n\u001b[1;32m   1005\u001b[0m \u001b[39mtry\u001b[39;00m:\n\u001b[1;32m   1006\u001b[0m     \u001b[39m# check if predictor returns predicted class or prediction probabilities for each class\u001b[39;00m\n\u001b[1;32m   1007\u001b[0m     \u001b[39m# if needed adjust predictor so it returns the predicted class\u001b[39;00m\n\u001b[0;32m-> 1008\u001b[0m     prediction \u001b[39m=\u001b[39m predictor(x)\n\u001b[1;32m   1009\u001b[0m \u001b[39mexcept\u001b[39;00m \u001b[39mException\u001b[39;00m \u001b[39mas\u001b[39;00m e:\n",
      "Cell \u001b[0;32mIn[42], line 1\u001b[0m, in \u001b[0;36m<lambda>\u001b[0;34m(x)\u001b[0m\n\u001b[0;32m----> 1\u001b[0m predict_cb_fn \u001b[39m=\u001b[39m \u001b[39mlambda\u001b[39;00m x: np\u001b[39m.\u001b[39mfloat32(fitted_cb_mdl\u001b[39m.\u001b[39;49mpredict_proba(x))\n\u001b[1;32m      3\u001b[0m anchor_cb_explainer \u001b[39m=\u001b[39m AnchorTabular(predict_cb_fn,\n\u001b[1;32m      4\u001b[0m                                     x_train_trf\u001b[39m.\u001b[39mcolumns,\n\u001b[1;32m      5\u001b[0m                                     categorical_names\u001b[39m=\u001b[39mcat_map)\n",
      "File \u001b[0;32m~/anaconda3/lib/python3.10/site-packages/catboost/core.py:5225\u001b[0m, in \u001b[0;36mCatBoostClassifier.predict_proba\u001b[0;34m(self, X, ntree_start, ntree_end, thread_count, verbose, task_type)\u001b[0m\n\u001b[1;32m   5190\u001b[0m \u001b[39m\"\"\"\u001b[39;00m\n\u001b[1;32m   5191\u001b[0m \u001b[39mPredict class probability with X.\u001b[39;00m\n\u001b[1;32m   5192\u001b[0m \n\u001b[0;32m   (...)\u001b[0m\n\u001b[1;32m   5223\u001b[0m \u001b[39m        with probability for every class for each object.\u001b[39;00m\n\u001b[1;32m   5224\u001b[0m \u001b[39m\"\"\"\u001b[39;00m\n\u001b[0;32m-> 5225\u001b[0m \u001b[39mreturn\u001b[39;00m \u001b[39mself\u001b[39;49m\u001b[39m.\u001b[39;49m_predict(X, \u001b[39m'\u001b[39;49m\u001b[39mProbability\u001b[39;49m\u001b[39m'\u001b[39;49m, ntree_start, ntree_end, thread_count, verbose, \u001b[39m'\u001b[39;49m\u001b[39mpredict_proba\u001b[39;49m\u001b[39m'\u001b[39;49m, task_type)\n",
      "File \u001b[0;32m~/anaconda3/lib/python3.10/site-packages/catboost/core.py:2543\u001b[0m, in \u001b[0;36mCatBoost._predict\u001b[0;34m(self, data, prediction_type, ntree_start, ntree_end, thread_count, verbose, parent_method_name, task_type)\u001b[0m\n\u001b[1;32m   2542\u001b[0m     verbose \u001b[39m=\u001b[39m \u001b[39mFalse\u001b[39;00m\n\u001b[0;32m-> 2543\u001b[0m data, data_is_single_object \u001b[39m=\u001b[39m \u001b[39mself\u001b[39;49m\u001b[39m.\u001b[39;49m_process_predict_input_data(data, parent_method_name, thread_count)\n\u001b[1;32m   2544\u001b[0m \u001b[39mself\u001b[39m\u001b[39m.\u001b[39m_validate_prediction_type(prediction_type)\n",
      "File \u001b[0;32m~/anaconda3/lib/python3.10/site-packages/catboost/core.py:2523\u001b[0m, in \u001b[0;36mCatBoost._process_predict_input_data\u001b[0;34m(self, data, parent_method_name, thread_count, label)\u001b[0m\n\u001b[1;32m   2522\u001b[0m \u001b[39mif\u001b[39;00m \u001b[39mnot\u001b[39;00m \u001b[39misinstance\u001b[39m(data, Pool):\n\u001b[0;32m-> 2523\u001b[0m     data \u001b[39m=\u001b[39m Pool(\n\u001b[1;32m   2524\u001b[0m         data\u001b[39m=\u001b[39;49m[data] \u001b[39mif\u001b[39;49;00m is_single_object \u001b[39melse\u001b[39;49;00m data,\n\u001b[1;32m   2525\u001b[0m         label\u001b[39m=\u001b[39;49mlabel,\n\u001b[1;32m   2526\u001b[0m         cat_features\u001b[39m=\u001b[39;49m\u001b[39mself\u001b[39;49m\u001b[39m.\u001b[39;49m_get_cat_feature_indices() \u001b[39mif\u001b[39;49;00m \u001b[39mnot\u001b[39;49;00m \u001b[39misinstance\u001b[39;49m(data, FeaturesData) \u001b[39melse\u001b[39;49;00m \u001b[39mNone\u001b[39;49;00m,\n\u001b[1;32m   2527\u001b[0m         text_features\u001b[39m=\u001b[39;49m\u001b[39mself\u001b[39;49m\u001b[39m.\u001b[39;49m_get_text_feature_indices() \u001b[39mif\u001b[39;49;00m \u001b[39mnot\u001b[39;49;00m \u001b[39misinstance\u001b[39;49m(data, FeaturesData) \u001b[39melse\u001b[39;49;00m \u001b[39mNone\u001b[39;49;00m,\n\u001b[1;32m   2528\u001b[0m         embedding_features\u001b[39m=\u001b[39;49m\u001b[39mself\u001b[39;49m\u001b[39m.\u001b[39;49m_get_embedding_feature_indices() \u001b[39mif\u001b[39;49;00m \u001b[39mnot\u001b[39;49;00m \u001b[39misinstance\u001b[39;49m(data, FeaturesData) \u001b[39melse\u001b[39;49;00m \u001b[39mNone\u001b[39;49;00m,\n\u001b[1;32m   2529\u001b[0m         thread_count\u001b[39m=\u001b[39;49mthread_count\n\u001b[1;32m   2530\u001b[0m     )\n\u001b[1;32m   2531\u001b[0m \u001b[39mreturn\u001b[39;00m data, is_single_object\n",
      "File \u001b[0;32m~/anaconda3/lib/python3.10/site-packages/catboost/core.py:734\u001b[0m, in \u001b[0;36mPool.__init__\u001b[0;34m(self, data, label, cat_features, text_features, embedding_features, embedding_features_data, column_description, pairs, delimiter, has_header, ignore_csv_quoting, weight, group_id, group_weight, subgroup_id, pairs_weight, baseline, timestamp, feature_names, feature_tags, thread_count, log_cout, log_cerr)\u001b[0m\n\u001b[1;32m    733\u001b[0m \u001b[39mif\u001b[39;00m (data\u001b[39m.\u001b[39mdtype\u001b[39m.\u001b[39mkind \u001b[39m==\u001b[39m \u001b[39m'\u001b[39m\u001b[39mf\u001b[39m\u001b[39m'\u001b[39m) \u001b[39mand\u001b[39;00m (cat_features \u001b[39mis\u001b[39;00m \u001b[39mnot\u001b[39;00m \u001b[39mNone\u001b[39;00m) \u001b[39mand\u001b[39;00m (\u001b[39mlen\u001b[39m(cat_features) \u001b[39m>\u001b[39m \u001b[39m0\u001b[39m):\n\u001b[0;32m--> 734\u001b[0m     \u001b[39mraise\u001b[39;00m CatBoostError(\n\u001b[1;32m    735\u001b[0m         \u001b[39m\"\u001b[39m\u001b[39m'\u001b[39m\u001b[39mdata\u001b[39m\u001b[39m'\u001b[39m\u001b[39m is numpy array of floating point numerical type, it means no categorical features,\u001b[39m\u001b[39m\"\u001b[39m\n\u001b[1;32m    736\u001b[0m         \u001b[39m\"\u001b[39m\u001b[39m but \u001b[39m\u001b[39m'\u001b[39m\u001b[39mcat_features\u001b[39m\u001b[39m'\u001b[39m\u001b[39m parameter specifies nonzero number of categorical features\u001b[39m\u001b[39m\"\u001b[39m\n\u001b[1;32m    737\u001b[0m     )\n\u001b[1;32m    738\u001b[0m \u001b[39mif\u001b[39;00m (data\u001b[39m.\u001b[39mdtype\u001b[39m.\u001b[39mkind \u001b[39m==\u001b[39m \u001b[39m'\u001b[39m\u001b[39mf\u001b[39m\u001b[39m'\u001b[39m) \u001b[39mand\u001b[39;00m (text_features \u001b[39mis\u001b[39;00m \u001b[39mnot\u001b[39;00m \u001b[39mNone\u001b[39;00m) \u001b[39mand\u001b[39;00m (\u001b[39mlen\u001b[39m(text_features) \u001b[39m>\u001b[39m \u001b[39m0\u001b[39m):\n",
      "\u001b[0;31mCatBoostError\u001b[0m: 'data' is numpy array of floating point numerical type, it means no categorical features, but 'cat_features' parameter specifies nonzero number of categorical features",
      "\nThe above exception was the direct cause of the following exception:\n",
      "\u001b[0;31mPredictorCallError\u001b[0m                        Traceback (most recent call last)",
      "Cell \u001b[0;32mIn[42], line 3\u001b[0m\n\u001b[1;32m      1\u001b[0m predict_cb_fn \u001b[39m=\u001b[39m \u001b[39mlambda\u001b[39;00m x: np\u001b[39m.\u001b[39mfloat32(fitted_cb_mdl\u001b[39m.\u001b[39mpredict_proba(x))\n\u001b[0;32m----> 3\u001b[0m anchor_cb_explainer \u001b[39m=\u001b[39m AnchorTabular(predict_cb_fn,\n\u001b[1;32m      4\u001b[0m                                     x_train_trf\u001b[39m.\u001b[39;49mcolumns,\n\u001b[1;32m      5\u001b[0m                                     categorical_names\u001b[39m=\u001b[39;49mcat_map)\n\u001b[1;32m      7\u001b[0m anchor_cb_explainer\u001b[39m.\u001b[39mfit(x_train\u001b[39m.\u001b[39mvalues)\n",
      "File \u001b[0;32m~/anaconda3/lib/python3.10/site-packages/alibi/explainers/anchors/anchor_tabular.py:642\u001b[0m, in \u001b[0;36mAnchorTabular.__init__\u001b[0;34m(self, predictor, feature_names, categorical_names, dtype, ohe, seed)\u001b[0m\n\u001b[1;32m    639\u001b[0m \u001b[39mself\u001b[39m\u001b[39m.\u001b[39mdtype \u001b[39m=\u001b[39m dtype\n\u001b[1;32m    640\u001b[0m \u001b[39m# defines self._predictor which expect label categorical features, and if ohe == True,\u001b[39;00m\n\u001b[1;32m    641\u001b[0m \u001b[39m# it defines self._ohe_predictor which expects one-hot encoded categorical features\u001b[39;00m\n\u001b[0;32m--> 642\u001b[0m \u001b[39mself\u001b[39m\u001b[39m.\u001b[39mpredictor \u001b[39m=\u001b[39m predictor\n\u001b[1;32m    644\u001b[0m \u001b[39m# define column indices of categorical and numerical (aka continuous) features\u001b[39;00m\n\u001b[1;32m    645\u001b[0m \u001b[39mif\u001b[39;00m categorical_names:\n",
      "File \u001b[0;32m~/anaconda3/lib/python3.10/site-packages/alibi/explainers/anchors/anchor_tabular.py:999\u001b[0m, in \u001b[0;36mAnchorTabular.predictor\u001b[0;34m(self, predictor)\u001b[0m\n\u001b[1;32m    995\u001b[0m     \u001b[39mself\u001b[39m\u001b[39m.\u001b[39m_ohe_predictor \u001b[39m=\u001b[39m \u001b[39mself\u001b[39m\u001b[39m.\u001b[39m_transform_ohe_predictor(predictor)\n\u001b[1;32m    997\u001b[0m \u001b[39melse\u001b[39;00m:\n\u001b[1;32m    998\u001b[0m     \u001b[39m# set the predictor\u001b[39;00m\n\u001b[0;32m--> 999\u001b[0m     \u001b[39mself\u001b[39m\u001b[39m.\u001b[39m_predictor \u001b[39m=\u001b[39m \u001b[39mself\u001b[39;49m\u001b[39m.\u001b[39;49m_transform_predictor(predictor)\n",
      "File \u001b[0;32m~/anaconda3/lib/python3.10/site-packages/alibi/explainers/anchors/anchor_tabular.py:1012\u001b[0m, in \u001b[0;36mAnchorTabular._transform_predictor\u001b[0;34m(self, predictor)\u001b[0m\n\u001b[1;32m   1009\u001b[0m \u001b[39mexcept\u001b[39;00m \u001b[39mException\u001b[39;00m \u001b[39mas\u001b[39;00m e:\n\u001b[1;32m   1010\u001b[0m     msg \u001b[39m=\u001b[39m \u001b[39mf\u001b[39m\u001b[39m\"\u001b[39m\u001b[39mPredictor failed to be called on \u001b[39m\u001b[39m{\u001b[39;00m\u001b[39mtype\u001b[39m(x)\u001b[39m}\u001b[39;00m\u001b[39m of shape \u001b[39m\u001b[39m{\u001b[39;00mx\u001b[39m.\u001b[39mshape\u001b[39m}\u001b[39;00m\u001b[39m and dtype \u001b[39m\u001b[39m{\u001b[39;00mx\u001b[39m.\u001b[39mdtype\u001b[39m}\u001b[39;00m\u001b[39m. \u001b[39m\u001b[39m\"\u001b[39m \\\n\u001b[1;32m   1011\u001b[0m           \u001b[39mf\u001b[39m\u001b[39m\"\u001b[39m\u001b[39mCheck that the parameter `feature_names` is correctly specified.\u001b[39m\u001b[39m\"\u001b[39m\n\u001b[0;32m-> 1012\u001b[0m     \u001b[39mraise\u001b[39;00m PredictorCallError(msg) \u001b[39mfrom\u001b[39;00m \u001b[39me\u001b[39;00m\n\u001b[1;32m   1014\u001b[0m \u001b[39mif\u001b[39;00m \u001b[39mnot\u001b[39;00m \u001b[39misinstance\u001b[39m(prediction, np\u001b[39m.\u001b[39mndarray):\n\u001b[1;32m   1015\u001b[0m     msg \u001b[39m=\u001b[39m \u001b[39mf\u001b[39m\u001b[39m\"\u001b[39m\u001b[39mExcepted predictor return type to be \u001b[39m\u001b[39m{\u001b[39;00mnp\u001b[39m.\u001b[39mndarray\u001b[39m}\u001b[39;00m\u001b[39m but got \u001b[39m\u001b[39m{\u001b[39;00m\u001b[39mtype\u001b[39m(prediction)\u001b[39m}\u001b[39;00m\u001b[39m.\u001b[39m\u001b[39m\"\u001b[39m\n",
      "\u001b[0;31mPredictorCallError\u001b[0m: Predictor failed to be called on <class 'numpy.ndarray'> of shape (1, 23) and dtype float32. Check that the parameter `feature_names` is correctly specified."
     ]
    }
   ],
   "source": [
    "predict_cb_fn = lambda x: np.float32(fitted_cb_mdl.predict_proba(x))\n",
    "\n",
    "anchor_cb_explainer = AnchorTabular(predict_cb_fn,\n",
    "                                    x_train_trf.columns,\n",
    "                                    categorical_names=cat_map)\n",
    "\n",
    "anchor_cb_explainer.fit(x_train.values)"
   ]
  },
  {
   "attachments": {},
   "cell_type": "markdown",
   "metadata": {},
   "source": [
    "    For Neural Network Model"
   ]
  },
  {
   "cell_type": "code",
   "execution_count": 43,
   "metadata": {},
   "outputs": [
    {
     "data": {
      "text/plain": [
       "AnchorTabular(meta={\n",
       "  'name': 'AnchorTabular',\n",
       "  'type': ['blackbox'],\n",
       "  'explanations': ['local'],\n",
       "  'params': {'seed': None, 'disc_perc': (25, 50, 75)},\n",
       "  'version': '0.9.3'}\n",
       ")"
      ]
     },
     "execution_count": 43,
     "metadata": {},
     "output_type": "execute_result"
    }
   ],
   "source": [
    "# make a wrapper for prediction probability\n",
    "# should include the probability for 0 and 1\n",
    "\n",
    "predict_nn_fn = lambda x: np.concatenate((1 - fitted_nn_mdl.predict(x), fitted_nn_mdl.predict(x)), axis=1)\n",
    "\n",
    "# pass the wrapper to AnchorTabular first\n",
    "# with the feature names\n",
    "# and categorical names, defined before\n",
    "\n",
    "anchor_nn_explainer = AnchorTabular(predict_nn_fn,\n",
    "                                    feature_names=x_train_trf.columns,\n",
    "                                    categorical_names=cat_map_ohe)\n",
    "\n",
    "# fit it to the training data\n",
    "# using the x_train data, not x_test\n",
    "\n",
    "anchor_nn_explainer.fit(x_train_trf.values)"
   ]
  },
  {
   "cell_type": "code",
   "execution_count": 44,
   "metadata": {},
   "outputs": [],
   "source": [
    "# specify the index from the data that we want to check\n",
    "# using the test data, not the training\n",
    "\n",
    "idx_to_check = np.random.choice(x_test_trf.index)\n",
    "\n",
    "# pass it to anchor_nn_explainer.explain() \n",
    "\n",
    "anchor_nn_explanation = anchor_nn_explainer.explain(x_test_trf.loc[idx_to_check].values,\n",
    "                                                    threshold=0.85,\n",
    "                                                    seed=rand)"
   ]
  },
  {
   "attachments": {},
   "cell_type": "markdown",
   "metadata": {},
   "source": [
    "There are two variables we can see from here to **evaluate the Anchor performance**:\n",
    "\n",
    "- **Precision:** Precision measures the proportion of instances in which the anchor's prediction is true among all instances where the anchor is applicable. In other words, it assesses how well the anchor explanation aligns with the model's behavior. A higher precision indicates that the anchor is a more reliable explanation for the model's prediction.\n",
    "- **Coverage:** Coverage represents the proportion of instances for which the anchor is applicable among all instances in the dataset. It indicates the scope or reach of the anchor explanation. Higher coverage suggests that the anchor is applicable to a larger portion of the data, making it more comprehensive.\n",
    "\n",
    "Precision and coverage are typically trade-offs in anchor explanations. Increasing precision often leads to lower coverage, and vice versa. A highly precise anchor might only cover a subset of instances, while a more general anchor with broader coverage may have lower precision. The goal is to strike a balance between precision and coverage based on the specific requirements of the explanation task."
   ]
  },
  {
   "cell_type": "code",
   "execution_count": 45,
   "metadata": {},
   "outputs": [
    {
     "name": "stdout",
     "output_type": "stream",
     "text": [
      "Index checked: 86585\n",
      "Prediction score 0.548\n",
      "Anchor: remainder__SubjectLine_ID <= 1.00 AND onehotencoder__Gender_M = Not Female\n",
      "Precision: 0.984\n",
      "Coverage: 0.117\n"
     ]
    }
   ],
   "source": [
    "# print every important variable\n",
    "\n",
    "print('Index checked: %s' % idx_to_check)\n",
    "print('Prediction score %.3f' % fitted_nn_mdl.predict(x_train_trf.loc[[idx_to_check]]))\n",
    "print('Anchor: %s' % (' AND '.join(anchor_nn_explanation.anchor)))\n",
    "\n",
    "print('Precision: %.3f' % anchor_nn_explanation.precision)\n",
    "print('Coverage: %.3f' % anchor_nn_explanation.coverage)"
   ]
  },
  {
   "attachments": {},
   "cell_type": "markdown",
   "metadata": {},
   "source": []
  },
  {
   "attachments": {},
   "cell_type": "markdown",
   "metadata": {},
   "source": [
    "# Counterfactual Explanation\n",
    "\n",
    "***\"What would happen if we do A instead of B?\"***\n",
    "\n",
    "Counterfactual explanation is a human-friendly exlanations where we can explain outcomes in terms of what would need to change to get the opposite outcome (the **counterfactual class**).\n",
    "\n",
    "The algorithm does the following:\n",
    "\n",
    "1. Select an instance and define the desired outcome (counterfactual).\n",
    "2. Leverage **loss function** that helps finding the counterfactuals closest to our instance of interest.\n",
    "3. Changing as few features as possible (**perturbation**).\n",
    "4. Even though the features don't have to be real points, they have to be in realistic distribution.\n",
    "5. Run fast enough to be useful in real-world scenario."
   ]
  },
  {
   "attachments": {},
   "cell_type": "markdown",
   "metadata": {},
   "source": [
    "## Counterfactuals Guided by Prototypes (CounterFactualProto in Alibi Library)"
   ]
  },
  {
   "attachments": {},
   "cell_type": "markdown",
   "metadata": {},
   "source": [
    "    Define the feature range first"
   ]
  },
  {
   "cell_type": "code",
   "execution_count": 46,
   "metadata": {},
   "outputs": [
    {
     "data": {
      "text/plain": [
       "(array([[ 0.,  0.,  0.,  0.,  0.,  0.,  0.,  0.,  0.,  0.,  0.,  0.,  0.,\n",
       "          0.,  0.,  0.,  0.,  0.,  0.,  0.,  1., 18.,  0.]], dtype=float32),\n",
       " array([[ 1.,  1.,  1.,  1.,  1.,  1.,  1.,  1.,  1.,  1.,  1.,  1.,  1.,\n",
       "          1.,  1.,  1.,  1.,  1.,  1.,  1.,  3., 62., 38.]], dtype=float32))"
      ]
     },
     "execution_count": 46,
     "metadata": {},
     "output_type": "execute_result"
    }
   ],
   "source": [
    "# as explained before, the distribution has to be realistic\n",
    "\n",
    "feature_range = (x_train_trf.values.min(axis=0).reshape(1,23).astype(np.float32),\n",
    "                 x_train_trf.values.max(axis=0).reshape(1,23).astype(np.float32)\n",
    "                 )\n",
    "\n",
    "feature_range"
   ]
  },
  {
   "attachments": {},
   "cell_type": "markdown",
   "metadata": {},
   "source": [
    "    Fit Our Counterfactual Explainer"
   ]
  },
  {
   "cell_type": "code",
   "execution_count": 47,
   "metadata": {},
   "outputs": [
    {
     "name": "stdout",
     "output_type": "stream",
     "text": [
      "\u001b[0;31mInit signature:\u001b[0m\n",
      "\u001b[0mCounterfactualProto\u001b[0m\u001b[0;34m(\u001b[0m\u001b[0;34m\u001b[0m\n",
      "\u001b[0;34m\u001b[0m    \u001b[0mpredict\u001b[0m\u001b[0;34m:\u001b[0m \u001b[0mUnion\u001b[0m\u001b[0;34m[\u001b[0m\u001b[0mCallable\u001b[0m\u001b[0;34m[\u001b[0m\u001b[0;34m[\u001b[0m\u001b[0mnumpy\u001b[0m\u001b[0;34m.\u001b[0m\u001b[0mndarray\u001b[0m\u001b[0;34m]\u001b[0m\u001b[0;34m,\u001b[0m \u001b[0mnumpy\u001b[0m\u001b[0;34m.\u001b[0m\u001b[0mndarray\u001b[0m\u001b[0;34m]\u001b[0m\u001b[0;34m,\u001b[0m \u001b[0mkeras\u001b[0m\u001b[0;34m.\u001b[0m\u001b[0msrc\u001b[0m\u001b[0;34m.\u001b[0m\u001b[0mengine\u001b[0m\u001b[0;34m.\u001b[0m\u001b[0mtraining\u001b[0m\u001b[0;34m.\u001b[0m\u001b[0mModel\u001b[0m\u001b[0;34m]\u001b[0m\u001b[0;34m,\u001b[0m\u001b[0;34m\u001b[0m\n",
      "\u001b[0;34m\u001b[0m    \u001b[0mshape\u001b[0m\u001b[0;34m:\u001b[0m \u001b[0mtuple\u001b[0m\u001b[0;34m,\u001b[0m\u001b[0;34m\u001b[0m\n",
      "\u001b[0;34m\u001b[0m    \u001b[0mkappa\u001b[0m\u001b[0;34m:\u001b[0m \u001b[0mfloat\u001b[0m \u001b[0;34m=\u001b[0m \u001b[0;36m0.0\u001b[0m\u001b[0;34m,\u001b[0m\u001b[0;34m\u001b[0m\n",
      "\u001b[0;34m\u001b[0m    \u001b[0mbeta\u001b[0m\u001b[0;34m:\u001b[0m \u001b[0mfloat\u001b[0m \u001b[0;34m=\u001b[0m \u001b[0;36m0.1\u001b[0m\u001b[0;34m,\u001b[0m\u001b[0;34m\u001b[0m\n",
      "\u001b[0;34m\u001b[0m    \u001b[0mfeature_range\u001b[0m\u001b[0;34m:\u001b[0m \u001b[0mTuple\u001b[0m\u001b[0;34m[\u001b[0m\u001b[0mUnion\u001b[0m\u001b[0;34m[\u001b[0m\u001b[0mfloat\u001b[0m\u001b[0;34m,\u001b[0m \u001b[0mnumpy\u001b[0m\u001b[0;34m.\u001b[0m\u001b[0mndarray\u001b[0m\u001b[0;34m]\u001b[0m\u001b[0;34m,\u001b[0m \u001b[0mUnion\u001b[0m\u001b[0;34m[\u001b[0m\u001b[0mfloat\u001b[0m\u001b[0;34m,\u001b[0m \u001b[0mnumpy\u001b[0m\u001b[0;34m.\u001b[0m\u001b[0mndarray\u001b[0m\u001b[0;34m]\u001b[0m\u001b[0;34m]\u001b[0m \u001b[0;34m=\u001b[0m \u001b[0;34m(\u001b[0m\u001b[0;34m-\u001b[0m\u001b[0;36m10000000000.0\u001b[0m\u001b[0;34m,\u001b[0m \u001b[0;36m10000000000.0\u001b[0m\u001b[0;34m)\u001b[0m\u001b[0;34m,\u001b[0m\u001b[0;34m\u001b[0m\n",
      "\u001b[0;34m\u001b[0m    \u001b[0mgamma\u001b[0m\u001b[0;34m:\u001b[0m \u001b[0mfloat\u001b[0m \u001b[0;34m=\u001b[0m \u001b[0;36m0.0\u001b[0m\u001b[0;34m,\u001b[0m\u001b[0;34m\u001b[0m\n",
      "\u001b[0;34m\u001b[0m    \u001b[0mae_model\u001b[0m\u001b[0;34m:\u001b[0m \u001b[0mOptional\u001b[0m\u001b[0;34m[\u001b[0m\u001b[0mkeras\u001b[0m\u001b[0;34m.\u001b[0m\u001b[0msrc\u001b[0m\u001b[0;34m.\u001b[0m\u001b[0mengine\u001b[0m\u001b[0;34m.\u001b[0m\u001b[0mtraining\u001b[0m\u001b[0;34m.\u001b[0m\u001b[0mModel\u001b[0m\u001b[0;34m]\u001b[0m \u001b[0;34m=\u001b[0m \u001b[0;32mNone\u001b[0m\u001b[0;34m,\u001b[0m\u001b[0;34m\u001b[0m\n",
      "\u001b[0;34m\u001b[0m    \u001b[0menc_model\u001b[0m\u001b[0;34m:\u001b[0m \u001b[0mOptional\u001b[0m\u001b[0;34m[\u001b[0m\u001b[0mkeras\u001b[0m\u001b[0;34m.\u001b[0m\u001b[0msrc\u001b[0m\u001b[0;34m.\u001b[0m\u001b[0mengine\u001b[0m\u001b[0;34m.\u001b[0m\u001b[0mtraining\u001b[0m\u001b[0;34m.\u001b[0m\u001b[0mModel\u001b[0m\u001b[0;34m]\u001b[0m \u001b[0;34m=\u001b[0m \u001b[0;32mNone\u001b[0m\u001b[0;34m,\u001b[0m\u001b[0;34m\u001b[0m\n",
      "\u001b[0;34m\u001b[0m    \u001b[0mtheta\u001b[0m\u001b[0;34m:\u001b[0m \u001b[0mfloat\u001b[0m \u001b[0;34m=\u001b[0m \u001b[0;36m0.0\u001b[0m\u001b[0;34m,\u001b[0m\u001b[0;34m\u001b[0m\n",
      "\u001b[0;34m\u001b[0m    \u001b[0mcat_vars\u001b[0m\u001b[0;34m:\u001b[0m \u001b[0mOptional\u001b[0m\u001b[0;34m[\u001b[0m\u001b[0mDict\u001b[0m\u001b[0;34m[\u001b[0m\u001b[0mint\u001b[0m\u001b[0;34m,\u001b[0m \u001b[0mint\u001b[0m\u001b[0;34m]\u001b[0m\u001b[0;34m]\u001b[0m \u001b[0;34m=\u001b[0m \u001b[0;32mNone\u001b[0m\u001b[0;34m,\u001b[0m\u001b[0;34m\u001b[0m\n",
      "\u001b[0;34m\u001b[0m    \u001b[0mohe\u001b[0m\u001b[0;34m:\u001b[0m \u001b[0mbool\u001b[0m \u001b[0;34m=\u001b[0m \u001b[0;32mFalse\u001b[0m\u001b[0;34m,\u001b[0m\u001b[0;34m\u001b[0m\n",
      "\u001b[0;34m\u001b[0m    \u001b[0muse_kdtree\u001b[0m\u001b[0;34m:\u001b[0m \u001b[0mbool\u001b[0m \u001b[0;34m=\u001b[0m \u001b[0;32mFalse\u001b[0m\u001b[0;34m,\u001b[0m\u001b[0;34m\u001b[0m\n",
      "\u001b[0;34m\u001b[0m    \u001b[0mlearning_rate_init\u001b[0m\u001b[0;34m:\u001b[0m \u001b[0mfloat\u001b[0m \u001b[0;34m=\u001b[0m \u001b[0;36m0.01\u001b[0m\u001b[0;34m,\u001b[0m\u001b[0;34m\u001b[0m\n",
      "\u001b[0;34m\u001b[0m    \u001b[0mmax_iterations\u001b[0m\u001b[0;34m:\u001b[0m \u001b[0mint\u001b[0m \u001b[0;34m=\u001b[0m \u001b[0;36m1000\u001b[0m\u001b[0;34m,\u001b[0m\u001b[0;34m\u001b[0m\n",
      "\u001b[0;34m\u001b[0m    \u001b[0mc_init\u001b[0m\u001b[0;34m:\u001b[0m \u001b[0mfloat\u001b[0m \u001b[0;34m=\u001b[0m \u001b[0;36m10.0\u001b[0m\u001b[0;34m,\u001b[0m\u001b[0;34m\u001b[0m\n",
      "\u001b[0;34m\u001b[0m    \u001b[0mc_steps\u001b[0m\u001b[0;34m:\u001b[0m \u001b[0mint\u001b[0m \u001b[0;34m=\u001b[0m \u001b[0;36m10\u001b[0m\u001b[0;34m,\u001b[0m\u001b[0;34m\u001b[0m\n",
      "\u001b[0;34m\u001b[0m    \u001b[0meps\u001b[0m\u001b[0;34m:\u001b[0m \u001b[0mtuple\u001b[0m \u001b[0;34m=\u001b[0m \u001b[0;34m(\u001b[0m\u001b[0;36m0.001\u001b[0m\u001b[0;34m,\u001b[0m \u001b[0;36m0.001\u001b[0m\u001b[0;34m)\u001b[0m\u001b[0;34m,\u001b[0m\u001b[0;34m\u001b[0m\n",
      "\u001b[0;34m\u001b[0m    \u001b[0mclip\u001b[0m\u001b[0;34m:\u001b[0m \u001b[0mtuple\u001b[0m \u001b[0;34m=\u001b[0m \u001b[0;34m(\u001b[0m\u001b[0;34m-\u001b[0m\u001b[0;36m1000.0\u001b[0m\u001b[0;34m,\u001b[0m \u001b[0;36m1000.0\u001b[0m\u001b[0;34m)\u001b[0m\u001b[0;34m,\u001b[0m\u001b[0;34m\u001b[0m\n",
      "\u001b[0;34m\u001b[0m    \u001b[0mupdate_num_grad\u001b[0m\u001b[0;34m:\u001b[0m \u001b[0mint\u001b[0m \u001b[0;34m=\u001b[0m \u001b[0;36m1\u001b[0m\u001b[0;34m,\u001b[0m\u001b[0;34m\u001b[0m\n",
      "\u001b[0;34m\u001b[0m    \u001b[0mwrite_dir\u001b[0m\u001b[0;34m:\u001b[0m \u001b[0mOptional\u001b[0m\u001b[0;34m[\u001b[0m\u001b[0mstr\u001b[0m\u001b[0;34m]\u001b[0m \u001b[0;34m=\u001b[0m \u001b[0;32mNone\u001b[0m\u001b[0;34m,\u001b[0m\u001b[0;34m\u001b[0m\n",
      "\u001b[0;34m\u001b[0m    \u001b[0msess\u001b[0m\u001b[0;34m:\u001b[0m \u001b[0mOptional\u001b[0m\u001b[0;34m[\u001b[0m\u001b[0mtensorflow\u001b[0m\u001b[0;34m.\u001b[0m\u001b[0mpython\u001b[0m\u001b[0;34m.\u001b[0m\u001b[0mclient\u001b[0m\u001b[0;34m.\u001b[0m\u001b[0msession\u001b[0m\u001b[0;34m.\u001b[0m\u001b[0mSession\u001b[0m\u001b[0;34m]\u001b[0m \u001b[0;34m=\u001b[0m \u001b[0;32mNone\u001b[0m\u001b[0;34m,\u001b[0m\u001b[0;34m\u001b[0m\n",
      "\u001b[0;34m\u001b[0m\u001b[0;34m)\u001b[0m \u001b[0;34m->\u001b[0m \u001b[0;32mNone\u001b[0m\u001b[0;34m\u001b[0m\u001b[0;34m\u001b[0m\u001b[0m\n",
      "\u001b[0;31mDocstring:\u001b[0m      Base class for explainer algorithms from :py:mod:`alibi.explainers`.\n",
      "\u001b[0;31mInit docstring:\u001b[0m\n",
      "Initialize prototypical counterfactual method.\n",
      "\n",
      "Parameters\n",
      "----------\n",
      "predict\n",
      "    `tensorflow` model or any other model's prediction function returning class probabilities.\n",
      "shape\n",
      "    Shape of input data starting with batch size.\n",
      "kappa\n",
      "    Confidence parameter for the attack loss term.\n",
      "beta\n",
      "    Regularization constant for L1 loss term.\n",
      "feature_range\n",
      "    Tuple with `min` and `max` ranges to allow for perturbed instances. `Min` and `max` ranges can be `float`\n",
      "    or `numpy` arrays with dimension (1x nb of features) for feature-wise ranges.\n",
      "gamma\n",
      "    Regularization constant for optional auto-encoder loss term.\n",
      "ae_model\n",
      "    Optional auto-encoder model used for loss regularization.\n",
      "enc_model\n",
      "    Optional encoder model used to guide instance perturbations towards a class prototype.\n",
      "theta\n",
      "    Constant for the prototype search loss term.\n",
      "cat_vars\n",
      "    Dict with as keys the categorical columns and as values the number of categories per categorical variable.\n",
      "ohe\n",
      "    Whether the categorical variables are one-hot encoded (OHE) or not. If not OHE, they are\n",
      "    assumed to have ordinal encodings.\n",
      "use_kdtree\n",
      "    Whether to use k-d trees for the prototype loss term if no encoder is available.\n",
      "learning_rate_init\n",
      "    Initial learning rate of optimizer.\n",
      "max_iterations\n",
      "    Maximum number of iterations for finding a counterfactual.\n",
      "c_init\n",
      "    Initial value to scale the attack loss term.\n",
      "c_steps\n",
      "    Number of iterations to adjust the constant scaling the attack loss term.\n",
      "eps\n",
      "    If numerical gradients are used to compute `dL/dx = (dL/dp) * (dp/dx)`, then `eps[0]` is used to\n",
      "    calculate `dL/dp` and `eps[1]` is used for `dp/dx`. `eps[0]` and `eps[1]` can be a combination of `float`\n",
      "    values and `numpy` arrays. For `eps[0]`, the array dimension should be (1x nb of prediction categories)\n",
      "    and for `eps[1]` it should be (1x nb of features).\n",
      "clip\n",
      "    Tuple with min and max clip ranges for both the numerical gradients and the gradients\n",
      "    obtained from the `tensorflow` graph.\n",
      "update_num_grad\n",
      "    If numerical gradients are used, they will be updated every `update_num_grad` iterations.\n",
      "write_dir\n",
      "    Directory to write `tensorboard` files to.\n",
      "sess\n",
      "    Optional `tensorflow` session that will be used if passed instead of creating or inferring one internally.\n",
      "\u001b[0;31mFile:\u001b[0m           ~/anaconda3/lib/python3.10/site-packages/alibi/explainers/cfproto.py\n",
      "\u001b[0;31mType:\u001b[0m           ABCMeta\n",
      "\u001b[0;31mSubclasses:\u001b[0m     "
     ]
    }
   ],
   "source": [
    "# CounterfactualProto documentation\n",
    "# What are the parameters to pass?\n",
    "\n",
    "from alibi.explainers import CounterfactualProto\n",
    "\n",
    "?CounterfactualProto"
   ]
  },
  {
   "cell_type": "code",
   "execution_count": 48,
   "metadata": {},
   "outputs": [
    {
     "name": "stdout",
     "output_type": "stream",
     "text": [
      "index for: 18598\n",
      "prediction probability: [[0.5092686]]\n",
      "actual data: [0.]\n",
      "----\n",
      "actual data of x: [[ 0.  1.  0.  1.  0.  0.  1.  0.  0.  0.  0.  0.  1.  0.  0.  0.  1.  0.\n",
      "   0.  0.  2. 24. 26.]]\n"
     ]
    }
   ],
   "source": [
    "# define the instance we want to investigate\n",
    "\n",
    "idx_to_check = np.random.choice(x_test_trf.index)\n",
    "x_test_eval = x_test_trf.loc[[idx_to_check]].values\n",
    "y_test_eval = y_test.reset_index(drop=True).loc[[idx_to_check]].values\n",
    "\n",
    "print('index for:', idx_to_check)\n",
    "print('prediction probability:', fitted_nn_mdl.predict(x_test_eval))\n",
    "print('actual data:', y_test_eval)\n",
    "\n",
    "print('----')\n",
    "print('actual data of x:', x_test_eval)"
   ]
  },
  {
   "cell_type": "code",
   "execution_count": 49,
   "metadata": {},
   "outputs": [
    {
     "name": "stderr",
     "output_type": "stream",
     "text": [
      "No encoder specified. Using k-d trees to represent class prototypes.\n"
     ]
    },
    {
     "data": {
      "text/plain": [
       "CounterfactualProto(meta={\n",
       "  'name': 'CounterfactualProto',\n",
       "  'type': ['blackbox', 'tensorflow', 'keras'],\n",
       "  'explanations': ['local'],\n",
       "  'params': {\n",
       "              'kappa': 0.0,\n",
       "              'beta': 0.1,\n",
       "              'gamma': 0.0,\n",
       "              'theta': 5,\n",
       "              'cat_vars': None,\n",
       "              'ohe': False,\n",
       "              'use_kdtree': True,\n",
       "              'learning_rate_init': 0.01,\n",
       "              'max_iterations': 100,\n",
       "              'c_init': 10.0,\n",
       "              'c_steps': 10,\n",
       "              'eps': (0.001, 0.001),\n",
       "              'clip': (-1000.0, 1000.0),\n",
       "              'update_num_grad': 1,\n",
       "              'write_dir': None,\n",
       "              'feature_range': (array([[ 0.,  0.,  0.,  0.,  0.,  0.,  0.,  0.,  0.,  0.,  0.,  0.,  0.,\n",
       "         0.,  0.,  0.,  0.,  0.,  0.,  0.,  1., 18.,  0.]], dtype=float32), array([[ 1.,  1.,  1.,  1.,  1.,  1.,  1.,  1.,  1.,  1.,  1.,  1.,  1.,\n",
       "         1.,  1.,  1.,  1.,  1.,  1.,  1.,  3., 62., 38.]], dtype=float32)),\n",
       "              'shape': (1, 23),\n",
       "              'is_model': False,\n",
       "              'is_ae': False,\n",
       "              'is_enc': False,\n",
       "              'enc_or_kdtree': True,\n",
       "              'is_cat': False,\n",
       "              'trustscore_kwargs': None,\n",
       "              'd_type': 'abdm-mvdm',\n",
       "              'w': None,\n",
       "              'disc_perc': (25, 50, 75),\n",
       "              'standardize_cat_vars': False,\n",
       "              'smooth': 1.0,\n",
       "              'center': True,\n",
       "              'update_feature_range': True}\n",
       "            ,\n",
       "  'version': '0.9.3'}\n",
       ")"
      ]
     },
     "execution_count": 49,
     "metadata": {},
     "output_type": "execute_result"
    }
   ],
   "source": [
    "# make a wrapper for prediction probability\n",
    "# should include the probability for 0 and 1\n",
    "\n",
    "predict_nn_fn = lambda x: np.concatenate((1 - fitted_nn_mdl.predict(x), fitted_nn_mdl.predict(x)), axis=1)\n",
    "\n",
    "# initiate the explainer of CounterFactualProto\n",
    "\n",
    "cf_nn_explainer = CounterfactualProto(predict=predict_nn_fn,\n",
    "                                      shape=x_test_eval.shape,  # fit to the point of the data we want to evaluate\n",
    "                                      max_iterations=100,\n",
    "                                      feature_range=feature_range,\n",
    "                                      beta=0.1,\n",
    "                                      theta=5,\n",
    "                                      use_kdtree=True\n",
    "                                      )\n",
    "\n",
    "cf_nn_explainer.fit(x_test_trf.values, d_type='abdm-mvdm')"
   ]
  },
  {
   "attachments": {},
   "cell_type": "markdown",
   "metadata": {},
   "source": [
    "    Evaluate and investigate the result of Counterfactual explainer"
   ]
  },
  {
   "cell_type": "code",
   "execution_count": 50,
   "metadata": {},
   "outputs": [
    {
     "data": {
      "text/plain": [
       "{'X': array([[0.0000000e+00, 1.0000000e+00, 0.0000000e+00, 9.2685282e-01,\n",
       "         0.0000000e+00, 0.0000000e+00, 1.0000000e+00, 0.0000000e+00,\n",
       "         0.0000000e+00, 0.0000000e+00, 0.0000000e+00, 0.0000000e+00,\n",
       "         1.0000000e+00, 0.0000000e+00, 1.3152435e-03, 1.4548925e-01,\n",
       "         9.0313512e-01, 0.0000000e+00, 0.0000000e+00, 1.8002895e-01,\n",
       "         2.0748730e+00, 2.4000000e+01, 2.6000000e+01]], dtype=float32),\n",
       " 'class': 0,\n",
       " 'proba': array([[0.50035614, 0.49964386]], dtype=float32),\n",
       " 'grads_graph': array([[ 0.       ,  0.       ,  0.       , -2.2016888,  0.       ,\n",
       "          0.       ,  0.       ,  0.       ,  0.       ,  0.       ,\n",
       "          0.       ,  0.       , -0.410805 ,  0.       ,  1.2882946,\n",
       "          3.1215682, -2.5032754,  0.       ,  0.       ,  3.5607648,\n",
       "         -8.372787 ,  0.       ,  0.       ]], dtype=float32),\n",
       " 'grads_num': array([[0., 0., 0., 0., 0., 0., 0., 0., 0., 0., 0., 0., 0., 0., 0., 0.,\n",
       "         0., 0., 0., 0., 0., 0., 0.]])}"
      ]
     },
     "execution_count": 50,
     "metadata": {},
     "output_type": "execute_result"
    }
   ],
   "source": [
    "# print the counterfactual explanation\n",
    "# focus on X variable from cf_nn_explanation.cf\n",
    "\n",
    "cf_nn_explanation = cf_nn_explainer.explain(x_test_eval)\n",
    "cf_nn_explanation.cf"
   ]
  },
  {
   "cell_type": "code",
   "execution_count": 51,
   "metadata": {},
   "outputs": [
    {
     "data": {
      "text/html": [
       "<div>\n",
       "<style scoped>\n",
       "    .dataframe tbody tr th:only-of-type {\n",
       "        vertical-align: middle;\n",
       "    }\n",
       "\n",
       "    .dataframe tbody tr th {\n",
       "        vertical-align: top;\n",
       "    }\n",
       "\n",
       "    .dataframe thead th {\n",
       "        text-align: right;\n",
       "    }\n",
       "</style>\n",
       "<table border=\"1\" class=\"dataframe\">\n",
       "  <thead>\n",
       "    <tr style=\"text-align: right;\">\n",
       "      <th></th>\n",
       "      <th>act</th>\n",
       "      <th>cf</th>\n",
       "    </tr>\n",
       "  </thead>\n",
       "  <tbody>\n",
       "    <tr>\n",
       "      <th>onehotencoder__Gender_F</th>\n",
       "      <td>0.0</td>\n",
       "      <td>0.0</td>\n",
       "    </tr>\n",
       "    <tr>\n",
       "      <th>onehotencoder__Gender_M</th>\n",
       "      <td>1.0</td>\n",
       "      <td>1.0</td>\n",
       "    </tr>\n",
       "    <tr>\n",
       "      <th>onehotencoder__Type_B</th>\n",
       "      <td>0.0</td>\n",
       "      <td>0.0</td>\n",
       "    </tr>\n",
       "    <tr>\n",
       "      <th>onehotencoder__Type_C</th>\n",
       "      <td>1.0</td>\n",
       "      <td>0.9</td>\n",
       "    </tr>\n",
       "    <tr>\n",
       "      <th>onehotencoder__date_day_Friday</th>\n",
       "      <td>0.0</td>\n",
       "      <td>0.0</td>\n",
       "    </tr>\n",
       "    <tr>\n",
       "      <th>onehotencoder__date_day_Monday</th>\n",
       "      <td>0.0</td>\n",
       "      <td>0.0</td>\n",
       "    </tr>\n",
       "    <tr>\n",
       "      <th>onehotencoder__date_day_Saturday</th>\n",
       "      <td>1.0</td>\n",
       "      <td>1.0</td>\n",
       "    </tr>\n",
       "    <tr>\n",
       "      <th>onehotencoder__date_day_Sunday</th>\n",
       "      <td>0.0</td>\n",
       "      <td>0.0</td>\n",
       "    </tr>\n",
       "    <tr>\n",
       "      <th>onehotencoder__date_day_Thursday</th>\n",
       "      <td>0.0</td>\n",
       "      <td>0.0</td>\n",
       "    </tr>\n",
       "    <tr>\n",
       "      <th>onehotencoder__date_day_Tuesday</th>\n",
       "      <td>0.0</td>\n",
       "      <td>0.0</td>\n",
       "    </tr>\n",
       "    <tr>\n",
       "      <th>onehotencoder__date_day_Wednesday</th>\n",
       "      <td>0.0</td>\n",
       "      <td>0.0</td>\n",
       "    </tr>\n",
       "    <tr>\n",
       "      <th>onehotencoder__date_month_February</th>\n",
       "      <td>0.0</td>\n",
       "      <td>0.0</td>\n",
       "    </tr>\n",
       "    <tr>\n",
       "      <th>onehotencoder__date_month_January</th>\n",
       "      <td>1.0</td>\n",
       "      <td>1.0</td>\n",
       "    </tr>\n",
       "    <tr>\n",
       "      <th>onehotencoder__date_month_March</th>\n",
       "      <td>0.0</td>\n",
       "      <td>0.0</td>\n",
       "    </tr>\n",
       "    <tr>\n",
       "      <th>onehotencoder__email_domain_aol.com</th>\n",
       "      <td>0.0</td>\n",
       "      <td>0.0</td>\n",
       "    </tr>\n",
       "    <tr>\n",
       "      <th>onehotencoder__email_domain_comcast.net</th>\n",
       "      <td>0.0</td>\n",
       "      <td>0.1</td>\n",
       "    </tr>\n",
       "    <tr>\n",
       "      <th>onehotencoder__email_domain_gmail.com</th>\n",
       "      <td>1.0</td>\n",
       "      <td>0.9</td>\n",
       "    </tr>\n",
       "    <tr>\n",
       "      <th>onehotencoder__email_domain_hotmail.com</th>\n",
       "      <td>0.0</td>\n",
       "      <td>0.0</td>\n",
       "    </tr>\n",
       "    <tr>\n",
       "      <th>onehotencoder__email_domain_msn.com</th>\n",
       "      <td>0.0</td>\n",
       "      <td>0.0</td>\n",
       "    </tr>\n",
       "    <tr>\n",
       "      <th>onehotencoder__email_domain_yahoo.com</th>\n",
       "      <td>0.0</td>\n",
       "      <td>0.2</td>\n",
       "    </tr>\n",
       "    <tr>\n",
       "      <th>remainder__SubjectLine_ID</th>\n",
       "      <td>2.0</td>\n",
       "      <td>2.1</td>\n",
       "    </tr>\n",
       "    <tr>\n",
       "      <th>remainder__Age</th>\n",
       "      <td>24.0</td>\n",
       "      <td>24.0</td>\n",
       "    </tr>\n",
       "    <tr>\n",
       "      <th>remainder__Tenure</th>\n",
       "      <td>26.0</td>\n",
       "      <td>26.0</td>\n",
       "    </tr>\n",
       "  </tbody>\n",
       "</table>\n",
       "</div>"
      ],
      "text/plain": [
       "                                          act    cf\n",
       "onehotencoder__Gender_F                   0.0   0.0\n",
       "onehotencoder__Gender_M                   1.0   1.0\n",
       "onehotencoder__Type_B                     0.0   0.0\n",
       "onehotencoder__Type_C                     1.0   0.9\n",
       "onehotencoder__date_day_Friday            0.0   0.0\n",
       "onehotencoder__date_day_Monday            0.0   0.0\n",
       "onehotencoder__date_day_Saturday          1.0   1.0\n",
       "onehotencoder__date_day_Sunday            0.0   0.0\n",
       "onehotencoder__date_day_Thursday          0.0   0.0\n",
       "onehotencoder__date_day_Tuesday           0.0   0.0\n",
       "onehotencoder__date_day_Wednesday         0.0   0.0\n",
       "onehotencoder__date_month_February        0.0   0.0\n",
       "onehotencoder__date_month_January         1.0   1.0\n",
       "onehotencoder__date_month_March           0.0   0.0\n",
       "onehotencoder__email_domain_aol.com       0.0   0.0\n",
       "onehotencoder__email_domain_comcast.net   0.0   0.1\n",
       "onehotencoder__email_domain_gmail.com     1.0   0.9\n",
       "onehotencoder__email_domain_hotmail.com   0.0   0.0\n",
       "onehotencoder__email_domain_msn.com       0.0   0.0\n",
       "onehotencoder__email_domain_yahoo.com     0.0   0.2\n",
       "remainder__SubjectLine_ID                 2.0   2.1\n",
       "remainder__Age                           24.0  24.0\n",
       "remainder__Tenure                        26.0  26.0"
      ]
     },
     "execution_count": 51,
     "metadata": {},
     "output_type": "execute_result"
    }
   ],
   "source": [
    "# compare it to our actual x and y\n",
    "# act for actual\n",
    "# cf for counterfactual\n",
    "\n",
    "pd.DataFrame(data=[x_test_eval[0], np.round(cf_nn_explanation.cf['X'][0], 1)], \n",
    "             columns=x_cols,\n",
    "             index=['act', 'cf']).T"
   ]
  },
  {
   "attachments": {},
   "cell_type": "markdown",
   "metadata": {},
   "source": []
  },
  {
   "attachments": {},
   "cell_type": "markdown",
   "metadata": {},
   "source": [
    "## Counterfactuals with What-If Tool (WIT) by Google Developer\n",
    "\n",
    "Requires only few inputs, preparation, and showing the result in an interactive dashboard which are:\n",
    "\n",
    "- **Datapoint editor**: Visualize datapoints, edit, and explain the predictions\n",
    "- **Performance**: Model performance metrics (high-level)\n",
    "- **Features**: General feature statistics"
   ]
  },
  {
   "cell_type": "code",
   "execution_count": 61,
   "metadata": {},
   "outputs": [
    {
     "ename": "TypeError",
     "evalue": "Descriptors cannot not be created directly.\nIf this call came from a _pb2.py file, your generated code is out of date and must be regenerated with protoc >= 3.19.0.\nIf you cannot immediately regenerate your protos, some other possible workarounds are:\n 1. Downgrade the protobuf package to 3.20.x or lower.\n 2. Set PROTOCOL_BUFFERS_PYTHON_IMPLEMENTATION=python (but this will use pure-Python parsing and will be much slower).\n\nMore information: https://developers.google.com/protocol-buffers/docs/news/2022-05-06#python-updates",
     "output_type": "error",
     "traceback": [
      "\u001b[0;31m---------------------------------------------------------------------------\u001b[0m",
      "\u001b[0;31mTypeError\u001b[0m                                 Traceback (most recent call last)",
      "Cell \u001b[0;32mIn[61], line 4\u001b[0m\n\u001b[1;32m      1\u001b[0m \u001b[39m# wit stands for what-if tool, interactive visual interface for better understanding of models by exploring \"what-if\" scenarios\u001b[39;00m\n\u001b[1;32m      2\u001b[0m \u001b[39m# can be used with various machine learning frameworks, including tensorflow, scikit-learn, and xgboost.\u001b[39;00m\n\u001b[0;32m----> 4\u001b[0m \u001b[39mimport\u001b[39;00m \u001b[39mwitwidget\u001b[39;00m\n\u001b[1;32m      5\u001b[0m \u001b[39mfrom\u001b[39;00m \u001b[39mwitwidget\u001b[39;00m\u001b[39m.\u001b[39;00m\u001b[39mnotebook\u001b[39;00m\u001b[39m.\u001b[39;00m\u001b[39mvisualization\u001b[39;00m \u001b[39mimport\u001b[39;00m WitWidget, WitConfigBuilder\n",
      "File \u001b[0;32m~/anaconda3/lib/python3.10/site-packages/witwidget/__init__.py:15\u001b[0m\n\u001b[1;32m      1\u001b[0m \u001b[39m# Copyright 2018 The TensorFlow Authors. All Rights Reserved.\u001b[39;00m\n\u001b[1;32m      2\u001b[0m \u001b[39m#\u001b[39;00m\n\u001b[1;32m      3\u001b[0m \u001b[39m# Licensed under the Apache License, Version 2.0 (the \"License\");\u001b[39;00m\n\u001b[0;32m   (...)\u001b[0m\n\u001b[1;32m     12\u001b[0m \u001b[39m# See the License for the specific language governing permissions and\u001b[39;00m\n\u001b[1;32m     13\u001b[0m \u001b[39m# limitations under the License.\u001b[39;00m\n\u001b[0;32m---> 15\u001b[0m \u001b[39mfrom\u001b[39;00m \u001b[39mwitwidget\u001b[39;00m\u001b[39m.\u001b[39;00m\u001b[39mnotebook\u001b[39;00m\u001b[39m.\u001b[39;00m\u001b[39mvisualization\u001b[39;00m \u001b[39mimport\u001b[39;00m \u001b[39m*\u001b[39m\n\u001b[1;32m     17\u001b[0m \u001b[39mdef\u001b[39;00m \u001b[39m_jupyter_nbextension_paths\u001b[39m():\n\u001b[1;32m     18\u001b[0m   \u001b[39mreturn\u001b[39;00m [{\n\u001b[1;32m     19\u001b[0m     \u001b[39m'\u001b[39m\u001b[39msection\u001b[39m\u001b[39m'\u001b[39m: \u001b[39m'\u001b[39m\u001b[39mnotebook\u001b[39m\u001b[39m'\u001b[39m,\n\u001b[1;32m     20\u001b[0m     \u001b[39m'\u001b[39m\u001b[39msrc\u001b[39m\u001b[39m'\u001b[39m: \u001b[39m'\u001b[39m\u001b[39mstatic\u001b[39m\u001b[39m'\u001b[39m,\n\u001b[1;32m     21\u001b[0m     \u001b[39m'\u001b[39m\u001b[39mdest\u001b[39m\u001b[39m'\u001b[39m: \u001b[39m'\u001b[39m\u001b[39mwit-widget\u001b[39m\u001b[39m'\u001b[39m,\n\u001b[1;32m     22\u001b[0m     \u001b[39m'\u001b[39m\u001b[39mrequire\u001b[39m\u001b[39m'\u001b[39m: \u001b[39m'\u001b[39m\u001b[39mwit-widget/extension\u001b[39m\u001b[39m'\u001b[39m\n\u001b[1;32m     23\u001b[0m   }]\n",
      "File \u001b[0;32m~/anaconda3/lib/python3.10/site-packages/witwidget/notebook/visualization.py:27\u001b[0m\n\u001b[1;32m     25\u001b[0m   \u001b[39mfrom\u001b[39;00m \u001b[39mwitwidget\u001b[39;00m\u001b[39m.\u001b[39;00m\u001b[39mnotebook\u001b[39;00m\u001b[39m.\u001b[39;00m\u001b[39mcolab\u001b[39;00m\u001b[39m.\u001b[39;00m\u001b[39mwit\u001b[39;00m \u001b[39mimport\u001b[39;00m \u001b[39m*\u001b[39m  \u001b[39m# pylint: disable=wildcard-import,g-import-not-at-top\u001b[39;00m\n\u001b[1;32m     26\u001b[0m \u001b[39melse\u001b[39;00m:\n\u001b[0;32m---> 27\u001b[0m   \u001b[39mfrom\u001b[39;00m \u001b[39mwitwidget\u001b[39;00m\u001b[39m.\u001b[39;00m\u001b[39mnotebook\u001b[39;00m\u001b[39m.\u001b[39;00m\u001b[39mjupyter\u001b[39;00m\u001b[39m.\u001b[39;00m\u001b[39mwit\u001b[39;00m \u001b[39mimport\u001b[39;00m \u001b[39m*\u001b[39m  \u001b[39m# pylint: disable=wildcard-import,g-import-not-at-top\u001b[39;00m\n\u001b[1;32m     30\u001b[0m \u001b[39mclass\u001b[39;00m \u001b[39mWitConfigBuilder\u001b[39;00m(\u001b[39mobject\u001b[39m):\n\u001b[1;32m     31\u001b[0m   \u001b[39m\"\"\"Configuration builder for WitWidget settings.\"\"\"\u001b[39;00m\n",
      "File \u001b[0;32m~/anaconda3/lib/python3.10/site-packages/witwidget/notebook/jupyter/wit.py:26\u001b[0m\n\u001b[1;32m     24\u001b[0m \u001b[39mfrom\u001b[39;00m \u001b[39mtraitlets\u001b[39;00m \u001b[39mimport\u001b[39;00m Unicode\n\u001b[1;32m     25\u001b[0m \u001b[39mfrom\u001b[39;00m \u001b[39mtraitlets\u001b[39;00m \u001b[39mimport\u001b[39;00m Set\n\u001b[0;32m---> 26\u001b[0m \u001b[39mfrom\u001b[39;00m \u001b[39mwitwidget\u001b[39;00m\u001b[39m.\u001b[39;00m\u001b[39mnotebook\u001b[39;00m \u001b[39mimport\u001b[39;00m base\n\u001b[1;32m     29\u001b[0m \u001b[39m@widgets\u001b[39m\u001b[39m.\u001b[39mregister\n\u001b[1;32m     30\u001b[0m \u001b[39mclass\u001b[39;00m \u001b[39mWitWidget\u001b[39;00m(widgets\u001b[39m.\u001b[39mDOMWidget, base\u001b[39m.\u001b[39mWitWidgetBase):\n\u001b[1;32m     31\u001b[0m   \u001b[39m\"\"\"WIT widget for Jupyter.\"\"\"\u001b[39;00m\n",
      "File \u001b[0;32m~/anaconda3/lib/python3.10/site-packages/witwidget/notebook/base.py:28\u001b[0m\n\u001b[1;32m     26\u001b[0m \u001b[39mfrom\u001b[39;00m \u001b[39msix\u001b[39;00m \u001b[39mimport\u001b[39;00m ensure_str\n\u001b[1;32m     27\u001b[0m \u001b[39mfrom\u001b[39;00m \u001b[39msix\u001b[39;00m \u001b[39mimport\u001b[39;00m integer_types\n\u001b[0;32m---> 28\u001b[0m \u001b[39mfrom\u001b[39;00m \u001b[39mwitwidget\u001b[39;00m\u001b[39m.\u001b[39;00m\u001b[39m_utils\u001b[39;00m \u001b[39mimport\u001b[39;00m inference_utils\n\u001b[1;32m     30\u001b[0m \u001b[39m# Constants used in mutant inference generation.\u001b[39;00m\n\u001b[1;32m     31\u001b[0m NUM_MUTANTS_TO_GENERATE \u001b[39m=\u001b[39m \u001b[39m10\u001b[39m\n",
      "File \u001b[0;32m~/anaconda3/lib/python3.10/site-packages/witwidget/_utils/inference_utils.py:33\u001b[0m\n\u001b[1;32m     30\u001b[0m \u001b[39mfrom\u001b[39;00m \u001b[39msix\u001b[39;00m\u001b[39m.\u001b[39;00m\u001b[39mmoves\u001b[39;00m \u001b[39mimport\u001b[39;00m \u001b[39mzip\u001b[39m  \u001b[39m# pylint: disable=redefined-builtin\u001b[39;00m\n\u001b[1;32m     31\u001b[0m \u001b[39mfrom\u001b[39;00m \u001b[39minspect\u001b[39;00m \u001b[39mimport\u001b[39;00m signature\n\u001b[0;32m---> 33\u001b[0m \u001b[39mfrom\u001b[39;00m \u001b[39mwitwidget\u001b[39;00m\u001b[39m.\u001b[39;00m\u001b[39m_utils\u001b[39;00m \u001b[39mimport\u001b[39;00m common_utils\n\u001b[1;32m     34\u001b[0m \u001b[39mfrom\u001b[39;00m \u001b[39mwitwidget\u001b[39;00m\u001b[39m.\u001b[39;00m\u001b[39m_utils\u001b[39;00m \u001b[39mimport\u001b[39;00m platform_utils\n\u001b[1;32m     35\u001b[0m \u001b[39mfrom\u001b[39;00m \u001b[39mwitwidget\u001b[39;00m\u001b[39m.\u001b[39;00m\u001b[39m_vendor\u001b[39;00m\u001b[39m.\u001b[39;00m\u001b[39mtensorflow_serving\u001b[39;00m\u001b[39m.\u001b[39;00m\u001b[39mapis\u001b[39;00m \u001b[39mimport\u001b[39;00m classification_pb2\n",
      "File \u001b[0;32m~/anaconda3/lib/python3.10/site-packages/witwidget/_utils/common_utils.py:17\u001b[0m\n\u001b[1;32m      1\u001b[0m \u001b[39m# Copyright 2018 The TensorFlow Authors. All Rights Reserved.\u001b[39;00m\n\u001b[1;32m      2\u001b[0m \u001b[39m#\u001b[39;00m\n\u001b[1;32m      3\u001b[0m \u001b[39m# Licensed under the Apache License, Version 2.0 (the \"License\");\u001b[39;00m\n\u001b[0;32m   (...)\u001b[0m\n\u001b[1;32m     13\u001b[0m \u001b[39m# limitations under the License.\u001b[39;00m\n\u001b[1;32m     14\u001b[0m \u001b[39m# ==============================================================================\u001b[39;00m\n\u001b[1;32m     15\u001b[0m \u001b[39m\"\"\"Common utils for all inference plugin files.\"\"\"\u001b[39;00m\n\u001b[0;32m---> 17\u001b[0m \u001b[39mfrom\u001b[39;00m \u001b[39mwitwidget\u001b[39;00m\u001b[39m.\u001b[39;00m\u001b[39m_vendor\u001b[39;00m\u001b[39m.\u001b[39;00m\u001b[39mtensorflow_serving\u001b[39;00m\u001b[39m.\u001b[39;00m\u001b[39mapis\u001b[39;00m \u001b[39mimport\u001b[39;00m classification_pb2\n\u001b[1;32m     18\u001b[0m \u001b[39mfrom\u001b[39;00m \u001b[39mwitwidget\u001b[39;00m\u001b[39m.\u001b[39;00m\u001b[39m_vendor\u001b[39;00m\u001b[39m.\u001b[39;00m\u001b[39mtensorflow_serving\u001b[39;00m\u001b[39m.\u001b[39;00m\u001b[39mapis\u001b[39;00m \u001b[39mimport\u001b[39;00m regression_pb2\n\u001b[1;32m     21\u001b[0m \u001b[39mclass\u001b[39;00m \u001b[39mInvalidUserInputError\u001b[39;00m(\u001b[39mException\u001b[39;00m):\n",
      "File \u001b[0;32m~/anaconda3/lib/python3.10/site-packages/witwidget/_vendor/tensorflow_serving/apis/classification_pb2.py:15\u001b[0m\n\u001b[1;32m     10\u001b[0m \u001b[39m# @@protoc_insertion_point(imports)\u001b[39;00m\n\u001b[1;32m     12\u001b[0m _sym_db \u001b[39m=\u001b[39m _symbol_database\u001b[39m.\u001b[39mDefault()\n\u001b[0;32m---> 15\u001b[0m \u001b[39mfrom\u001b[39;00m \u001b[39mwitwidget\u001b[39;00m\u001b[39m.\u001b[39;00m\u001b[39m_vendor\u001b[39;00m\u001b[39m.\u001b[39;00m\u001b[39mtensorflow_serving\u001b[39;00m\u001b[39m.\u001b[39;00m\u001b[39mapis\u001b[39;00m \u001b[39mimport\u001b[39;00m input_pb2 \u001b[39mas\u001b[39;00m tensorflow__serving_dot_apis_dot_input__pb2\n\u001b[1;32m     16\u001b[0m \u001b[39mfrom\u001b[39;00m \u001b[39mwitwidget\u001b[39;00m\u001b[39m.\u001b[39;00m\u001b[39m_vendor\u001b[39;00m\u001b[39m.\u001b[39;00m\u001b[39mtensorflow_serving\u001b[39;00m\u001b[39m.\u001b[39;00m\u001b[39mapis\u001b[39;00m \u001b[39mimport\u001b[39;00m model_pb2 \u001b[39mas\u001b[39;00m tensorflow__serving_dot_apis_dot_model__pb2\n\u001b[1;32m     19\u001b[0m DESCRIPTOR \u001b[39m=\u001b[39m _descriptor\u001b[39m.\u001b[39mFileDescriptor(\n\u001b[1;32m     20\u001b[0m   name\u001b[39m=\u001b[39m\u001b[39m'\u001b[39m\u001b[39mtensorflow_serving/apis/classification.proto\u001b[39m\u001b[39m'\u001b[39m,\n\u001b[1;32m     21\u001b[0m   package\u001b[39m=\u001b[39m\u001b[39m'\u001b[39m\u001b[39mtensorflow.serving\u001b[39m\u001b[39m'\u001b[39m,\n\u001b[0;32m   (...)\u001b[0m\n\u001b[1;32m     25\u001b[0m   ,\n\u001b[1;32m     26\u001b[0m   dependencies\u001b[39m=\u001b[39m[tensorflow__serving_dot_apis_dot_input__pb2\u001b[39m.\u001b[39mDESCRIPTOR,tensorflow__serving_dot_apis_dot_model__pb2\u001b[39m.\u001b[39mDESCRIPTOR,])\n",
      "File \u001b[0;32m~/anaconda3/lib/python3.10/site-packages/witwidget/_vendor/tensorflow_serving/apis/input_pb2.py:37\u001b[0m\n\u001b[1;32m     15\u001b[0m \u001b[39mfrom\u001b[39;00m \u001b[39mtensorflow\u001b[39;00m\u001b[39m.\u001b[39;00m\u001b[39mcore\u001b[39;00m\u001b[39m.\u001b[39;00m\u001b[39mexample\u001b[39;00m \u001b[39mimport\u001b[39;00m example_pb2 \u001b[39mas\u001b[39;00m tensorflow_dot_core_dot_example_dot_example__pb2\n\u001b[1;32m     18\u001b[0m DESCRIPTOR \u001b[39m=\u001b[39m _descriptor\u001b[39m.\u001b[39mFileDescriptor(\n\u001b[1;32m     19\u001b[0m   name\u001b[39m=\u001b[39m\u001b[39m'\u001b[39m\u001b[39mtensorflow_serving/apis/input.proto\u001b[39m\u001b[39m'\u001b[39m,\n\u001b[1;32m     20\u001b[0m   package\u001b[39m=\u001b[39m\u001b[39m'\u001b[39m\u001b[39mtensorflow.serving\u001b[39m\u001b[39m'\u001b[39m,\n\u001b[0;32m   (...)\u001b[0m\n\u001b[1;32m     24\u001b[0m   ,\n\u001b[1;32m     25\u001b[0m   dependencies\u001b[39m=\u001b[39m[tensorflow_dot_core_dot_example_dot_example__pb2\u001b[39m.\u001b[39mDESCRIPTOR,])\n\u001b[1;32m     30\u001b[0m _EXAMPLELIST \u001b[39m=\u001b[39m _descriptor\u001b[39m.\u001b[39mDescriptor(\n\u001b[1;32m     31\u001b[0m   name\u001b[39m=\u001b[39m\u001b[39m'\u001b[39m\u001b[39mExampleList\u001b[39m\u001b[39m'\u001b[39m,\n\u001b[1;32m     32\u001b[0m   full_name\u001b[39m=\u001b[39m\u001b[39m'\u001b[39m\u001b[39mtensorflow.serving.ExampleList\u001b[39m\u001b[39m'\u001b[39m,\n\u001b[1;32m     33\u001b[0m   filename\u001b[39m=\u001b[39m\u001b[39mNone\u001b[39;00m,\n\u001b[1;32m     34\u001b[0m   file\u001b[39m=\u001b[39mDESCRIPTOR,\n\u001b[1;32m     35\u001b[0m   containing_type\u001b[39m=\u001b[39m\u001b[39mNone\u001b[39;00m,\n\u001b[1;32m     36\u001b[0m   fields\u001b[39m=\u001b[39m[\n\u001b[0;32m---> 37\u001b[0m     _descriptor\u001b[39m.\u001b[39;49mFieldDescriptor(\n\u001b[1;32m     38\u001b[0m       name\u001b[39m=\u001b[39;49m\u001b[39m'\u001b[39;49m\u001b[39mexamples\u001b[39;49m\u001b[39m'\u001b[39;49m, full_name\u001b[39m=\u001b[39;49m\u001b[39m'\u001b[39;49m\u001b[39mtensorflow.serving.ExampleList.examples\u001b[39;49m\u001b[39m'\u001b[39;49m, index\u001b[39m=\u001b[39;49m\u001b[39m0\u001b[39;49m,\n\u001b[1;32m     39\u001b[0m       number\u001b[39m=\u001b[39;49m\u001b[39m1\u001b[39;49m, \u001b[39mtype\u001b[39;49m\u001b[39m=\u001b[39;49m\u001b[39m11\u001b[39;49m, cpp_type\u001b[39m=\u001b[39;49m\u001b[39m10\u001b[39;49m, label\u001b[39m=\u001b[39;49m\u001b[39m3\u001b[39;49m,\n\u001b[1;32m     40\u001b[0m       has_default_value\u001b[39m=\u001b[39;49m\u001b[39mFalse\u001b[39;49;00m, default_value\u001b[39m=\u001b[39;49m[],\n\u001b[1;32m     41\u001b[0m       message_type\u001b[39m=\u001b[39;49m\u001b[39mNone\u001b[39;49;00m, enum_type\u001b[39m=\u001b[39;49m\u001b[39mNone\u001b[39;49;00m, containing_type\u001b[39m=\u001b[39;49m\u001b[39mNone\u001b[39;49;00m,\n\u001b[1;32m     42\u001b[0m       is_extension\u001b[39m=\u001b[39;49m\u001b[39mFalse\u001b[39;49;00m, extension_scope\u001b[39m=\u001b[39;49m\u001b[39mNone\u001b[39;49;00m,\n\u001b[1;32m     43\u001b[0m       serialized_options\u001b[39m=\u001b[39;49m\u001b[39mNone\u001b[39;49;00m, file\u001b[39m=\u001b[39;49mDESCRIPTOR),\n\u001b[1;32m     44\u001b[0m   ],\n\u001b[1;32m     45\u001b[0m   extensions\u001b[39m=\u001b[39m[\n\u001b[1;32m     46\u001b[0m   ],\n\u001b[1;32m     47\u001b[0m   nested_types\u001b[39m=\u001b[39m[],\n\u001b[1;32m     48\u001b[0m   enum_types\u001b[39m=\u001b[39m[\n\u001b[1;32m     49\u001b[0m   ],\n\u001b[1;32m     50\u001b[0m   serialized_options\u001b[39m=\u001b[39m\u001b[39mNone\u001b[39;00m,\n\u001b[1;32m     51\u001b[0m   is_extendable\u001b[39m=\u001b[39m\u001b[39mFalse\u001b[39;00m,\n\u001b[1;32m     52\u001b[0m   syntax\u001b[39m=\u001b[39m\u001b[39m'\u001b[39m\u001b[39mproto3\u001b[39m\u001b[39m'\u001b[39m,\n\u001b[1;32m     53\u001b[0m   extension_ranges\u001b[39m=\u001b[39m[],\n\u001b[1;32m     54\u001b[0m   oneofs\u001b[39m=\u001b[39m[\n\u001b[1;32m     55\u001b[0m   ],\n\u001b[1;32m     56\u001b[0m   serialized_start\u001b[39m=\u001b[39m\u001b[39m98\u001b[39m,\n\u001b[1;32m     57\u001b[0m   serialized_end\u001b[39m=\u001b[39m\u001b[39m150\u001b[39m,\n\u001b[1;32m     58\u001b[0m )\n\u001b[1;32m     61\u001b[0m _EXAMPLELISTWITHCONTEXT \u001b[39m=\u001b[39m _descriptor\u001b[39m.\u001b[39mDescriptor(\n\u001b[1;32m     62\u001b[0m   name\u001b[39m=\u001b[39m\u001b[39m'\u001b[39m\u001b[39mExampleListWithContext\u001b[39m\u001b[39m'\u001b[39m,\n\u001b[1;32m     63\u001b[0m   full_name\u001b[39m=\u001b[39m\u001b[39m'\u001b[39m\u001b[39mtensorflow.serving.ExampleListWithContext\u001b[39m\u001b[39m'\u001b[39m,\n\u001b[0;32m   (...)\u001b[0m\n\u001b[1;32m     95\u001b[0m   serialized_end\u001b[39m=\u001b[39m\u001b[39m253\u001b[39m,\n\u001b[1;32m     96\u001b[0m )\n\u001b[1;32m     99\u001b[0m _INPUT \u001b[39m=\u001b[39m _descriptor\u001b[39m.\u001b[39mDescriptor(\n\u001b[1;32m    100\u001b[0m   name\u001b[39m=\u001b[39m\u001b[39m'\u001b[39m\u001b[39mInput\u001b[39m\u001b[39m'\u001b[39m,\n\u001b[1;32m    101\u001b[0m   full_name\u001b[39m=\u001b[39m\u001b[39m'\u001b[39m\u001b[39mtensorflow.serving.Input\u001b[39m\u001b[39m'\u001b[39m,\n\u001b[0;32m   (...)\u001b[0m\n\u001b[1;32m    136\u001b[0m   serialized_end\u001b[39m=\u001b[39m\u001b[39m417\u001b[39m,\n\u001b[1;32m    137\u001b[0m )\n",
      "File \u001b[0;32m~/anaconda3/lib/python3.10/site-packages/google/protobuf/descriptor.py:561\u001b[0m, in \u001b[0;36mFieldDescriptor.__new__\u001b[0;34m(cls, name, full_name, index, number, type, cpp_type, label, default_value, message_type, enum_type, containing_type, is_extension, extension_scope, options, serialized_options, has_default_value, containing_oneof, json_name, file, create_key)\u001b[0m\n\u001b[1;32m    555\u001b[0m \u001b[39mdef\u001b[39;00m \u001b[39m__new__\u001b[39m(\u001b[39mcls\u001b[39m, name, full_name, index, number, \u001b[39mtype\u001b[39m, cpp_type, label,\n\u001b[1;32m    556\u001b[0m             default_value, message_type, enum_type, containing_type,\n\u001b[1;32m    557\u001b[0m             is_extension, extension_scope, options\u001b[39m=\u001b[39m\u001b[39mNone\u001b[39;00m,\n\u001b[1;32m    558\u001b[0m             serialized_options\u001b[39m=\u001b[39m\u001b[39mNone\u001b[39;00m,\n\u001b[1;32m    559\u001b[0m             has_default_value\u001b[39m=\u001b[39m\u001b[39mTrue\u001b[39;00m, containing_oneof\u001b[39m=\u001b[39m\u001b[39mNone\u001b[39;00m, json_name\u001b[39m=\u001b[39m\u001b[39mNone\u001b[39;00m,\n\u001b[1;32m    560\u001b[0m             file\u001b[39m=\u001b[39m\u001b[39mNone\u001b[39;00m, create_key\u001b[39m=\u001b[39m\u001b[39mNone\u001b[39;00m):  \u001b[39m# pylint: disable=redefined-builtin\u001b[39;00m\n\u001b[0;32m--> 561\u001b[0m   _message\u001b[39m.\u001b[39;49mMessage\u001b[39m.\u001b[39;49m_CheckCalledFromGeneratedFile()\n\u001b[1;32m    562\u001b[0m   \u001b[39mif\u001b[39;00m is_extension:\n\u001b[1;32m    563\u001b[0m     \u001b[39mreturn\u001b[39;00m _message\u001b[39m.\u001b[39mdefault_pool\u001b[39m.\u001b[39mFindExtensionByName(full_name)\n",
      "\u001b[0;31mTypeError\u001b[0m: Descriptors cannot not be created directly.\nIf this call came from a _pb2.py file, your generated code is out of date and must be regenerated with protoc >= 3.19.0.\nIf you cannot immediately regenerate your protos, some other possible workarounds are:\n 1. Downgrade the protobuf package to 3.20.x or lower.\n 2. Set PROTOCOL_BUFFERS_PYTHON_IMPLEMENTATION=python (but this will use pure-Python parsing and will be much slower).\n\nMore information: https://developers.google.com/protocol-buffers/docs/news/2022-05-06#python-updates"
     ]
    }
   ],
   "source": [
    "# wit stands for what-if tool, interactive visual interface for better understanding of models by exploring \"what-if\" scenarios\n",
    "# can be used with various machine learning frameworks, including tensorflow, scikit-learn, and xgboost.\n",
    "\n",
    "import witwidget\n",
    "from witwidget.notebook.visualization import WitWidget, WitConfigBuilder"
   ]
  },
  {
   "attachments": {},
   "cell_type": "markdown",
   "metadata": {},
   "source": [
    "    Warning!\n",
    "\n",
    "- Previously, we disable eager_execution from tensorflow 2 using tf.compat.v1.disable_eager_execution()\n",
    "- Somehow, it also remove the 'keras.saving.hdf5_format' from the module\n",
    "- Thus, we cannot initiate the shap.TreeExplainer for later to be passed to wit\n",
    "- Have to set up a new environment again for this one\n",
    "- See more from **PAGE 308** to learn more about the implementation of WIT"
   ]
  },
  {
   "attachments": {},
   "cell_type": "markdown",
   "metadata": {},
   "source": []
  },
  {
   "attachments": {},
   "cell_type": "markdown",
   "metadata": {},
   "source": [
    "## Contrastive Explanation Method (CEM)\n",
    "\n",
    "Like the previous models, CEM is a technique that aims to provide explanations for individual predictions by contrasting them with alternative outcomes. It generates explanations by highlighting the differences between the features of the predicted instance and those of alternative instances that could have led to a different prediction. CEM focuses on identifying the minimal set of features necessary to explain the prediction change.\n",
    "\n",
    "The differences to CounterfactualProto model are:\n",
    "\n",
    "- CEM focuses on explaining the decision-making process of the model by contrasting different instances and identifying the key factors contributing to the prediction change.\n",
    "- CounterfactualProto generates alternative instances or scenarios to understand the changes required in the input features to achieve a specific prediction while holding other factors constant."
   ]
  },
  {
   "attachments": {},
   "cell_type": "markdown",
   "metadata": {},
   "source": [
    "    The way it works...\n",
    "\n",
    "Different to CounterFactualProto, CEM doesn't fall back on k-d trees, so there's an optional of using **autoencoder** to make explanations more realistic when the dataset is relatively small or noisy.\n",
    "\n",
    "Why using autoencoder?\n",
    "\n",
    "1. **Data Compression and Feature Extraction:**\n",
    "\n",
    "An autoencoder can compress the input data into a lower-dimensional representation, often called the \"bottleneck\" layer. This compression process helps in extracting the most important features or patterns from the data. By reducing the dimensionality, the autoencoder aims to capture the essential information needed for explaining the model's decision.\n",
    "\n",
    "2. **Noise Reduction and Reconstruction:**\n",
    "\n",
    "The autoencoder's reconstruction process can act as a denoising mechanism. It learns to reconstruct the input data from its compressed representation, which effectively filters out noisy or irrelevant features. By reconstructing the data, the autoencoder provides a cleaner and more focused representation of the input, which can aid in generating clearer explanations.\n",
    "\n",
    "3. **Explanation Generation:**\n",
    "\n",
    "In CEM, explanations are derived by contrasting different instances and identifying the key features that influence the model's decision. By using an autoencoder, the dimensionality-reduced representation obtained from the encoder can serve as a more informative and focused input for generating contrastive explanations. The compressed representation captures the most salient features, making it easier to identify the contrasting features between instances."
   ]
  },
  {
   "attachments": {},
   "cell_type": "markdown",
   "metadata": {},
   "source": [
    "    What is Autoencoder?\n",
    "\n",
    "An autoencoder is like a special type of neural network with an hourglass shape. It has an input layer, an output layer, and some hidden layers in between. The important parts are the encoder and decoder. The encoder takes the input data and makes a simplified version of it, while the decoder tries to recreate the original input from this simplified version. The place where the encoder and decoder meet is called the \"bottleneck\" layer.\n",
    "\n",
    "**Objective:**\n",
    "\n",
    "The goal of training an autoencoder is to make the output of the network match the input data. It tries to learn a **compact representation of the input data** in the bottleneck layer so that when it reconstructs the data, it looks very similar to the original input. By compressing and then reconstructing the data, the **autoencoder can capture important patterns and remove unnecessary details**.\n",
    "\n",
    "**Training Process:**\n",
    "\n",
    "During training, the autoencoder adjusts its internal parameters (weights and biases) to minimize the difference between the input and output data. It does this by repeatedly showing the network the input data and comparing the reconstructed output with the original input. It learns from the mistakes it makes and gradually improves its ability to compress and reconstruct the data.\n",
    "\n",
    "The encoder learns to convert the input data into a simplified representation in the bottleneck layer, reducing the dimensionality of the data. The decoder then tries to recreate the original data from this simplified representation.\n",
    "\n",
    "In simpler terms, an autoencoder is a special neural network that learns to compress data into a simplified form and then recreate the original data from that simplified form. It does this by training on examples and adjusting its internal parameters. The goal is to capture important patterns and reduce unnecessary details in the data.\n",
    "\n",
    "So, the flow of the Neural Network would be like:\n",
    "\n",
    "### **Input layer -> Encoder -> Bottleneck -> Decoder -> Output Layer**"
   ]
  },
  {
   "cell_type": "code",
   "execution_count": 69,
   "metadata": {},
   "outputs": [
    {
     "name": "stdout",
     "output_type": "stream",
     "text": [
      "Model: \"model_1\"\n",
      "_________________________________________________________________\n",
      " Layer (type)                Output Shape              Param #   \n",
      "=================================================================\n",
      " input_4 (InputLayer)        [(None, 23)]              0         \n",
      "                                                                 \n",
      " dense_7 (Dense)             (None, 10)                240       \n",
      "                                                                 \n",
      " dense_8 (Dense)             (None, 3)                 33        \n",
      "                                                                 \n",
      " dense_9 (Dense)             (None, 10)                40        \n",
      "                                                                 \n",
      " dense_10 (Dense)            (None, 23)                253       \n",
      "                                                                 \n",
      "=================================================================\n",
      "Total params: 566 (2.21 KB)\n",
      "Trainable params: 566 (2.21 KB)\n",
      "Non-trainable params: 0 (0.00 Byte)\n",
      "_________________________________________________________________\n"
     ]
    }
   ],
   "source": [
    "# create input, encoder, bottleneck, decoder, and output layer for neural network model\n",
    "\n",
    "input_layer = tf.keras.Input(shape=(x_train_trf.shape[1]))\n",
    "\n",
    "encoder = tf.keras.layers.Dense(10, activation='relu')(input_layer)\n",
    "bottleneck = tf.keras.layers.Dense(3, activation='relu')(encoder)\n",
    "decoder = tf.keras.layers.Dense(10, activation='relu')(bottleneck)\n",
    "\n",
    "output_layer = tf.keras.layers.Dense(x_train_trf.shape[1], activation='linear')(decoder)\n",
    "\n",
    "# build the neural network model\n",
    "# and check the summary of the model\n",
    "\n",
    "autoencoder_mdl = tf.keras.Model(input_layer, output_layer)\n",
    "autoencoder_mdl.summary()"
   ]
  },
  {
   "cell_type": "code",
   "execution_count": 70,
   "metadata": {},
   "outputs": [
    {
     "name": "stderr",
     "output_type": "stream",
     "text": [
      "2023-07-04 08:41:32.869159: W tensorflow/c/c_api.cc:304] Operation '{name:'training_3/Adam/dense_10/bias/m/Assign' id:904 op device:{requested: '', assigned: ''} def:{{{node training_3/Adam/dense_10/bias/m/Assign}} = AssignVariableOp[_has_manual_control_dependencies=true, dtype=DT_FLOAT, validate_shape=false](training_3/Adam/dense_10/bias/m, training_3/Adam/dense_10/bias/m/Initializer/zeros)}}' was changed by setting attribute after it was run by a session. This mutation will have no effect, and will trigger an error in the future. Either don't modify nodes after running them or create a new session.\n",
      "`Model.state_updates` will be removed in a future version. This property should not be used in TensorFlow 2.0, as `updates` are applied automatically.\n",
      "2023-07-04 08:41:36.339860: W tensorflow/c/c_api.cc:304] Operation '{name:'loss_1/mul' id:754 op device:{requested: '', assigned: ''} def:{{{node loss_1/mul}} = Mul[T=DT_FLOAT, _has_manual_control_dependencies=true](loss_1/mul/x, loss_1/dense_10_loss/value)}}' was changed by setting attribute after it was run by a session. This mutation will have no effect, and will trigger an error in the future. Either don't modify nodes after running them or create a new session.\n"
     ]
    }
   ],
   "source": [
    "# compiling and fitting the autoencoder\n",
    "\n",
    "autoencoder_mdl.compile(loss='mean_squared_error',\n",
    "                        optimizer='adam'\n",
    "                        )\n",
    "\n",
    "# pass x and y parameter with x_train value\n",
    "# as the goal is to produce something that's as close as possible to what went in\n",
    "\n",
    "autoencoder_history = autoencoder_mdl.fit(x_train_trf.values,  # y and x are the same\n",
    "                                          x_train_trf.values,\n",
    "                                          epochs=16,\n",
    "                                          batch_size=32,\n",
    "                                          validation_split=0.2,\n",
    "                                          verbose=0)"
   ]
  },
  {
   "attachments": {},
   "cell_type": "markdown",
   "metadata": {},
   "source": [
    "    Predicting the Pertinent Negatives\n",
    "\n",
    "Pertinent negatives (an agreed term used in explainable machine learning), are instances or features that are identified as relevant but contribute negatively to a specific prediction. These factors, when absent or decreased, tend to support or increase the likelihood of a different outcome or class label being predicted. Recognizing pertinent negatives helps in understanding which elements or characteristics are crucial for the model to avoid making certain predictions."
   ]
  },
  {
   "cell_type": "code",
   "execution_count": 75,
   "metadata": {},
   "outputs": [
    {
     "data": {
      "text/plain": [
       "CEM(meta={\n",
       "  'name': 'CEM',\n",
       "  'type': ['blackbox', 'tensorflow', 'keras'],\n",
       "  'explanations': ['local'],\n",
       "  'params': {\n",
       "              'mode': 'PN',\n",
       "              'shape': (1, 23),\n",
       "              'kappa': 0.0,\n",
       "              'beta': 0.1,\n",
       "              'feature_range': (array([[ 0.,  0.,  0.,  0.,  0.,  0.,  0.,  0.,  0.,  0.,  0.,  0.,  0.,\n",
       "         0.,  0.,  0.,  0.,  0.,  0.,  0.,  1., 18.,  0.]], dtype=float32), array([[ 1.,  1.,  1.,  1.,  1.,  1.,  1.,  1.,  1.,  1.,  1.,  1.,  1.,\n",
       "         1.,  1.,  1.,  1.,  1.,  1.,  1.,  3., 62., 38.]], dtype=float32)),\n",
       "              'gamma': 100,\n",
       "              'learning_rate_init': 0.01,\n",
       "              'max_iterations': 100,\n",
       "              'c_init': 10.0,\n",
       "              'c_steps': 10,\n",
       "              'eps': (0.001, 0.001),\n",
       "              'clip': (-100.0, 100.0),\n",
       "              'update_num_grad': 1,\n",
       "              'no_info_val': None,\n",
       "              'write_dir': None,\n",
       "              'is_model': False,\n",
       "              'is_ae': True,\n",
       "              'no_info_type': 'median'}\n",
       "            ,\n",
       "  'version': '0.9.3'}\n",
       ")"
      ]
     },
     "execution_count": 75,
     "metadata": {},
     "output_type": "execute_result"
    }
   ],
   "source": [
    "from alibi.explainers import CEM\n",
    "\n",
    "# create the model instance\n",
    "\n",
    "cem_nn_explainer_pn = CEM(predict_nn_fn,\n",
    "                          'PN',\n",
    "                          x_test_eval.shape,\n",
    "                          feature_range=feature_range,\n",
    "                          gamma=100,\n",
    "                          max_iterations=100,\n",
    "                          ae_model=autoencoder_mdl)\n",
    "\n",
    "# and fit it to our data\n",
    "\n",
    "cem_nn_explainer_pn.fit(x_train_trf.values,  # train on our training dataset first\n",
    "                        no_info_type='median')"
   ]
  },
  {
   "cell_type": "code",
   "execution_count": 76,
   "metadata": {},
   "outputs": [],
   "source": [
    "# create the explanation instance for PN\n",
    "# and save it to cem_nn_explanation_pn\n",
    "# will contain all the data we need for CEM inference\n",
    "\n",
    "cem_nn_explanation_pn = cem_nn_explainer_pn.explain(x_test_eval,  # then we can pass our data here after fitting to training data\n",
    "                                                    verbose=False)  "
   ]
  },
  {
   "cell_type": "code",
   "execution_count": 87,
   "metadata": {},
   "outputs": [
    {
     "data": {
      "text/plain": [
       "'responded'"
      ]
     },
     "execution_count": 87,
     "metadata": {},
     "output_type": "execute_result"
    }
   ],
   "source": [
    "# print the x pred\n",
    "\n",
    "class_names[cem_nn_explanation_pn.X_pred]"
   ]
  },
  {
   "cell_type": "code",
   "execution_count": 89,
   "metadata": {},
   "outputs": [
    {
     "data": {
      "text/plain": [
       "'did not respond'"
      ]
     },
     "execution_count": 89,
     "metadata": {},
     "output_type": "execute_result"
    }
   ],
   "source": [
    "# pn for the instance of interest\n",
    "\n",
    "class_names[cem_nn_explanation_pn.PN_pred]"
   ]
  },
  {
   "cell_type": "code",
   "execution_count": 126,
   "metadata": {},
   "outputs": [
    {
     "data": {
      "text/plain": [
       "array([[0.50042605, 0.49957398]], dtype=float32)"
      ]
     },
     "execution_count": 126,
     "metadata": {},
     "output_type": "execute_result"
    }
   ],
   "source": [
    "# prediction probability\n",
    "# in order, probability of not responding to the email (0), and responding (1)\n",
    "# slight difference to the positive probability, which is 50.04%\n",
    "\n",
    "predict_nn_fn(cem_nn_explanation_pn.PN)"
   ]
  },
  {
   "cell_type": "code",
   "execution_count": 84,
   "metadata": {},
   "outputs": [
    {
     "data": {
      "text/plain": [
       "array([0.0000000e+00, 1.0000000e+00, 0.0000000e+00, 8.1519330e-01,\n",
       "       0.0000000e+00, 3.8567655e-02, 1.0000000e+00, 6.4078756e-02,\n",
       "       9.0700082e-02, 3.8130067e-02, 5.6707047e-02, 2.1600351e-03,\n",
       "       1.0000000e+00, 0.0000000e+00, 1.1654442e-01, 1.8635666e-01,\n",
       "       1.0000000e+00, 0.0000000e+00, 4.8004337e-02, 1.6208693e-01,\n",
       "       2.0062368e+00, 2.4000000e+01, 2.6000000e+01], dtype=float32)"
      ]
     },
     "execution_count": 84,
     "metadata": {},
     "output_type": "execute_result"
    }
   ],
   "source": [
    "# values of the features\n",
    "\n",
    "cem_nn_explanation_pn.PN[0]"
   ]
  },
  {
   "attachments": {},
   "cell_type": "markdown",
   "metadata": {},
   "source": [
    "    Pertinent Positive\n",
    "\n",
    "Pertinent positives on the other hand refer to instances or features that are found to be relevant and contribute positively to a specific prediction made by a model. In other words, they are the factors or conditions that are present or increased in instances where the model predicts a specific outcome or class label. Pertinent positives are the features that support or are associated with the desired prediction."
   ]
  },
  {
   "cell_type": "code",
   "execution_count": 91,
   "metadata": {},
   "outputs": [
    {
     "data": {
      "text/plain": [
       "CEM(meta={\n",
       "  'name': 'CEM',\n",
       "  'type': ['blackbox', 'tensorflow', 'keras'],\n",
       "  'explanations': ['local'],\n",
       "  'params': {\n",
       "              'mode': 'PP',\n",
       "              'shape': (1, 23),\n",
       "              'kappa': 0.0,\n",
       "              'beta': 0.1,\n",
       "              'feature_range': (array([[ 0.,  0.,  0.,  0.,  0.,  0.,  0.,  0.,  0.,  0.,  0.,  0.,  0.,\n",
       "         0.,  0.,  0.,  0.,  0.,  0.,  0.,  1., 18.,  0.]], dtype=float32), array([[ 1.,  1.,  1.,  1.,  1.,  1.,  1.,  1.,  1.,  1.,  1.,  1.,  1.,\n",
       "         1.,  1.,  1.,  1.,  1.,  1.,  1.,  3., 62., 38.]], dtype=float32)),\n",
       "              'gamma': 100,\n",
       "              'learning_rate_init': 0.01,\n",
       "              'max_iterations': 100,\n",
       "              'c_init': 10.0,\n",
       "              'c_steps': 10,\n",
       "              'eps': (0.001, 0.001),\n",
       "              'clip': (-100.0, 100.0),\n",
       "              'update_num_grad': 1,\n",
       "              'no_info_val': None,\n",
       "              'write_dir': None,\n",
       "              'is_model': False,\n",
       "              'is_ae': True,\n",
       "              'no_info_type': 'median'}\n",
       "            ,\n",
       "  'version': '0.9.3'}\n",
       ")"
      ]
     },
     "execution_count": 91,
     "metadata": {},
     "output_type": "execute_result"
    }
   ],
   "source": [
    "from alibi.explainers import CEM\n",
    "\n",
    "cem_nn_explainer_pp = CEM(predict_nn_fn,\n",
    "                          'PP',\n",
    "                          x_test_eval.shape,\n",
    "                          feature_range=feature_range,\n",
    "                          gamma=100,\n",
    "                          max_iterations=100,\n",
    "                          ae_model=autoencoder_mdl)\n",
    "\n",
    "cem_nn_explainer_pp.fit(x_train_trf.values, \n",
    "                        no_info_type='median')"
   ]
  },
  {
   "cell_type": "code",
   "execution_count": 92,
   "metadata": {},
   "outputs": [],
   "source": [
    "# create the explanation instance\n",
    "# and save it to cem_nn_explanation_pp\n",
    "# will contain all the data we need for CEM inference\n",
    "\n",
    "cem_nn_explanation_pp = cem_nn_explainer_pp.explain(x_test_eval, verbose=False)"
   ]
  },
  {
   "cell_type": "code",
   "execution_count": 93,
   "metadata": {},
   "outputs": [
    {
     "data": {
      "text/plain": [
       "'responded'"
      ]
     },
     "execution_count": 93,
     "metadata": {},
     "output_type": "execute_result"
    }
   ],
   "source": [
    "# print the x pred\n",
    "\n",
    "class_names[cem_nn_explanation_pp.X_pred]"
   ]
  },
  {
   "cell_type": "code",
   "execution_count": 94,
   "metadata": {},
   "outputs": [
    {
     "data": {
      "text/plain": [
       "'responded'"
      ]
     },
     "execution_count": 94,
     "metadata": {},
     "output_type": "execute_result"
    }
   ],
   "source": [
    "# p for the instance of interest\n",
    "\n",
    "class_names[cem_nn_explanation_pp.PP_pred]"
   ]
  },
  {
   "cell_type": "code",
   "execution_count": 120,
   "metadata": {},
   "outputs": [
    {
     "data": {
      "text/plain": [
       "array([[0.45681345, 0.54318655]], dtype=float32)"
      ]
     },
     "execution_count": 120,
     "metadata": {},
     "output_type": "execute_result"
    }
   ],
   "source": [
    "# prediction probability\n",
    "# in order, probability of not responding to the email (0), and responding (1)\n",
    "\n",
    "predict_nn_fn(cem_nn_explanation_pp.PP)"
   ]
  },
  {
   "cell_type": "code",
   "execution_count": 95,
   "metadata": {},
   "outputs": [
    {
     "data": {
      "text/plain": [
       "array([0.        , 0.        , 0.        , 0.        , 0.        ,\n",
       "       0.        , 0.        , 0.        , 0.        , 0.        ,\n",
       "       0.        , 0.        , 0.        , 0.        , 0.        ,\n",
       "       0.        , 0.        , 0.        , 0.        , 0.        ,\n",
       "       0.        , 0.        , 0.13529968])"
      ]
     },
     "execution_count": 95,
     "metadata": {},
     "output_type": "execute_result"
    }
   ],
   "source": [
    "# values of the features\n",
    "\n",
    "cem_nn_explanation_pp.PP[0]"
   ]
  },
  {
   "attachments": {},
   "cell_type": "markdown",
   "metadata": {},
   "source": [
    "    Combine into One Dataframe to Examine Deeper"
   ]
  },
  {
   "cell_type": "code",
   "execution_count": 119,
   "metadata": {},
   "outputs": [
    {
     "data": {
      "text/html": [
       "<div>\n",
       "<style scoped>\n",
       "    .dataframe tbody tr th:only-of-type {\n",
       "        vertical-align: middle;\n",
       "    }\n",
       "\n",
       "    .dataframe tbody tr th {\n",
       "        vertical-align: top;\n",
       "    }\n",
       "\n",
       "    .dataframe thead th {\n",
       "        text-align: right;\n",
       "    }\n",
       "</style>\n",
       "<table border=\"1\" class=\"dataframe\">\n",
       "  <thead>\n",
       "    <tr style=\"text-align: right;\">\n",
       "      <th></th>\n",
       "      <th>Feature</th>\n",
       "      <th>x</th>\n",
       "      <th>PN</th>\n",
       "      <th>PN - x</th>\n",
       "      <th>PP</th>\n",
       "    </tr>\n",
       "  </thead>\n",
       "  <tbody>\n",
       "    <tr>\n",
       "      <th>15</th>\n",
       "      <td>onehotencoder__email_domain_comcast.net</td>\n",
       "      <td>0.0</td>\n",
       "      <td>0.186357</td>\n",
       "      <td>0.186357</td>\n",
       "      <td>0.0000</td>\n",
       "    </tr>\n",
       "    <tr>\n",
       "      <th>19</th>\n",
       "      <td>onehotencoder__email_domain_yahoo.com</td>\n",
       "      <td>0.0</td>\n",
       "      <td>0.162087</td>\n",
       "      <td>0.162087</td>\n",
       "      <td>0.0000</td>\n",
       "    </tr>\n",
       "    <tr>\n",
       "      <th>14</th>\n",
       "      <td>onehotencoder__email_domain_aol.com</td>\n",
       "      <td>0.0</td>\n",
       "      <td>0.116544</td>\n",
       "      <td>0.116544</td>\n",
       "      <td>0.0000</td>\n",
       "    </tr>\n",
       "    <tr>\n",
       "      <th>8</th>\n",
       "      <td>onehotencoder__date_day_Thursday</td>\n",
       "      <td>0.0</td>\n",
       "      <td>0.090700</td>\n",
       "      <td>0.090700</td>\n",
       "      <td>0.0000</td>\n",
       "    </tr>\n",
       "    <tr>\n",
       "      <th>7</th>\n",
       "      <td>onehotencoder__date_day_Sunday</td>\n",
       "      <td>0.0</td>\n",
       "      <td>0.064079</td>\n",
       "      <td>0.064079</td>\n",
       "      <td>0.0000</td>\n",
       "    </tr>\n",
       "    <tr>\n",
       "      <th>10</th>\n",
       "      <td>onehotencoder__date_day_Wednesday</td>\n",
       "      <td>0.0</td>\n",
       "      <td>0.056707</td>\n",
       "      <td>0.056707</td>\n",
       "      <td>0.0000</td>\n",
       "    </tr>\n",
       "    <tr>\n",
       "      <th>18</th>\n",
       "      <td>onehotencoder__email_domain_msn.com</td>\n",
       "      <td>0.0</td>\n",
       "      <td>0.048004</td>\n",
       "      <td>0.048004</td>\n",
       "      <td>0.0000</td>\n",
       "    </tr>\n",
       "    <tr>\n",
       "      <th>5</th>\n",
       "      <td>onehotencoder__date_day_Monday</td>\n",
       "      <td>0.0</td>\n",
       "      <td>0.038568</td>\n",
       "      <td>0.038568</td>\n",
       "      <td>0.0000</td>\n",
       "    </tr>\n",
       "    <tr>\n",
       "      <th>9</th>\n",
       "      <td>onehotencoder__date_day_Tuesday</td>\n",
       "      <td>0.0</td>\n",
       "      <td>0.038130</td>\n",
       "      <td>0.038130</td>\n",
       "      <td>0.0000</td>\n",
       "    </tr>\n",
       "    <tr>\n",
       "      <th>20</th>\n",
       "      <td>remainder__SubjectLine_ID</td>\n",
       "      <td>2.0</td>\n",
       "      <td>2.006237</td>\n",
       "      <td>0.006237</td>\n",
       "      <td>0.0000</td>\n",
       "    </tr>\n",
       "    <tr>\n",
       "      <th>11</th>\n",
       "      <td>onehotencoder__date_month_February</td>\n",
       "      <td>0.0</td>\n",
       "      <td>0.002160</td>\n",
       "      <td>0.002160</td>\n",
       "      <td>0.0000</td>\n",
       "    </tr>\n",
       "    <tr>\n",
       "      <th>1</th>\n",
       "      <td>onehotencoder__Gender_M</td>\n",
       "      <td>1.0</td>\n",
       "      <td>1.000000</td>\n",
       "      <td>0.000000</td>\n",
       "      <td>0.0000</td>\n",
       "    </tr>\n",
       "    <tr>\n",
       "      <th>21</th>\n",
       "      <td>remainder__Age</td>\n",
       "      <td>24.0</td>\n",
       "      <td>24.000000</td>\n",
       "      <td>0.000000</td>\n",
       "      <td>0.0000</td>\n",
       "    </tr>\n",
       "    <tr>\n",
       "      <th>12</th>\n",
       "      <td>onehotencoder__date_month_January</td>\n",
       "      <td>1.0</td>\n",
       "      <td>1.000000</td>\n",
       "      <td>0.000000</td>\n",
       "      <td>0.0000</td>\n",
       "    </tr>\n",
       "    <tr>\n",
       "      <th>16</th>\n",
       "      <td>onehotencoder__email_domain_gmail.com</td>\n",
       "      <td>1.0</td>\n",
       "      <td>1.000000</td>\n",
       "      <td>0.000000</td>\n",
       "      <td>0.0000</td>\n",
       "    </tr>\n",
       "    <tr>\n",
       "      <th>6</th>\n",
       "      <td>onehotencoder__date_day_Saturday</td>\n",
       "      <td>1.0</td>\n",
       "      <td>1.000000</td>\n",
       "      <td>0.000000</td>\n",
       "      <td>0.0000</td>\n",
       "    </tr>\n",
       "    <tr>\n",
       "      <th>22</th>\n",
       "      <td>remainder__Tenure</td>\n",
       "      <td>26.0</td>\n",
       "      <td>26.000000</td>\n",
       "      <td>0.000000</td>\n",
       "      <td>0.1353</td>\n",
       "    </tr>\n",
       "    <tr>\n",
       "      <th>3</th>\n",
       "      <td>onehotencoder__Type_C</td>\n",
       "      <td>1.0</td>\n",
       "      <td>0.815193</td>\n",
       "      <td>-0.184807</td>\n",
       "      <td>0.0000</td>\n",
       "    </tr>\n",
       "  </tbody>\n",
       "</table>\n",
       "</div>"
      ],
      "text/plain": [
       "                                    Feature     x         PN    PN - x      PP\n",
       "15  onehotencoder__email_domain_comcast.net   0.0   0.186357  0.186357  0.0000\n",
       "19    onehotencoder__email_domain_yahoo.com   0.0   0.162087  0.162087  0.0000\n",
       "14      onehotencoder__email_domain_aol.com   0.0   0.116544  0.116544  0.0000\n",
       "8          onehotencoder__date_day_Thursday   0.0   0.090700  0.090700  0.0000\n",
       "7            onehotencoder__date_day_Sunday   0.0   0.064079  0.064079  0.0000\n",
       "10        onehotencoder__date_day_Wednesday   0.0   0.056707  0.056707  0.0000\n",
       "18      onehotencoder__email_domain_msn.com   0.0   0.048004  0.048004  0.0000\n",
       "5            onehotencoder__date_day_Monday   0.0   0.038568  0.038568  0.0000\n",
       "9           onehotencoder__date_day_Tuesday   0.0   0.038130  0.038130  0.0000\n",
       "20                remainder__SubjectLine_ID   2.0   2.006237  0.006237  0.0000\n",
       "11       onehotencoder__date_month_February   0.0   0.002160  0.002160  0.0000\n",
       "1                   onehotencoder__Gender_M   1.0   1.000000  0.000000  0.0000\n",
       "21                           remainder__Age  24.0  24.000000  0.000000  0.0000\n",
       "12        onehotencoder__date_month_January   1.0   1.000000  0.000000  0.0000\n",
       "16    onehotencoder__email_domain_gmail.com   1.0   1.000000  0.000000  0.0000\n",
       "6          onehotencoder__date_day_Saturday   1.0   1.000000  0.000000  0.0000\n",
       "22                        remainder__Tenure  26.0  26.000000  0.000000  0.1353\n",
       "3                     onehotencoder__Type_C   1.0   0.815193 -0.184807  0.0000"
      ]
     },
     "execution_count": 119,
     "metadata": {},
     "output_type": "execute_result"
    }
   ],
   "source": [
    "salient_df = pd.DataFrame({'Feature': x_test_trf.columns,\n",
    "                           'x': cem_nn_explanation_pn.X[0],\n",
    "                           'PN': cem_nn_explanation_pn.PN[0],\n",
    "                           'PN - x': cem_nn_explanation_pn.PN[0] - cem_nn_explanation_pn.X[0],  # columns for what missing from x\n",
    "                           'PP': cem_nn_explanation_pp.PP[0]}\n",
    "                           ) \n",
    "\n",
    "salient_df = salient_df[(salient_df['PP'] != 0) |\n",
    "                        (salient_df['PN'] != 0)]\n",
    "\n",
    "salient_df.sort_values('PN - x', ascending=False)"
   ]
  },
  {
   "attachments": {},
   "cell_type": "markdown",
   "metadata": {},
   "source": [
    "    The way to interpret...\n",
    "\n",
    "Here, we can interpret from PN - x column, which we can interpret as we would a counterfactual, but the attention is giving to what's missing. Here, the **domain email of comcast.net, yahoo.com, and aol.com determine the decision of our instance of interest (x_eval), and it contributes negatively, meaning that if this instance of interest uses comcast, yahoo, or aol, it will make this instance of interest doesn't respond to the email (0).** But, there are some things that need to be understood from this method:\n",
    "\n",
    "- CEM has no concept of one-hot-encoded features, eveything is considered as continuous variable\n",
    "- CEM is contrastive because you would usually contrast what needs to be absent by stating what needs to be sufficiently present"
   ]
  }
 ],
 "metadata": {
  "kernelspec": {
   "display_name": "base",
   "language": "python",
   "name": "python3"
  },
  "language_info": {
   "codemirror_mode": {
    "name": "ipython",
    "version": 3
   },
   "file_extension": ".py",
   "mimetype": "text/x-python",
   "name": "python",
   "nbconvert_exporter": "python",
   "pygments_lexer": "ipython3",
   "version": "3.10.9"
  },
  "orig_nbformat": 4
 },
 "nbformat": 4,
 "nbformat_minor": 2
}
